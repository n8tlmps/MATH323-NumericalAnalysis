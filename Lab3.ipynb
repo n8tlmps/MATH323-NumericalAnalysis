{
 "cells": [
  {
   "cell_type": "markdown",
   "metadata": {},
   "source": [
    "\n",
    "Consider the same function $ f(x) = (x - 1)^{20} \\sin x $.\n",
    "\n",
    "(a)\n",
    "Use Newton’s method to find an approximation of the root of $ f(x) $ with accuracy $ 10^{-6} $ starting from $ p_0 = 1.5 $. How many iterations does it take to achieve this accuracy?\n",
    "\n",
    "(b)\n",
    "For Newton’s method\n",
    "\n",
    "$$\n",
    "p_n = p_{n-1} - \\frac{f(p_{n-1})}{f'(p_{n-1})}\n",
    "$$\n",
    "\n",
    "with the given $ f(x) $, what happens to $ f'(p_{n-1}) $ when $ p_{n-1} $ is close to 1? Explain why the convergence is slow in (a).\n",
    "\n",
    "(c)\n",
    "Try the modified Newton’s method, by running Newton’s method on $ \\mu(x) = \\frac{f(x)}{f'(x)} $, with $ p_0 = 1.5 $. How many iterations does it take to achieve the accuracy $ 10^{-6} $?\n"
   ]
  },
  {
   "cell_type": "code",
   "execution_count": 10,
   "metadata": {},
   "outputs": [
    {
     "data": {
      "text/latex": [
       "$\\displaystyle \\left(x - 1\\right)^{20} \\cos{\\left(x \\right)} + 20 \\left(x - 1\\right)^{19} \\sin{\\left(x \\right)}$"
      ],
      "text/plain": [
       "(x - 1)**20*cos(x) + 20*(x - 1)**19*sin(x)"
      ]
     },
     "execution_count": 10,
     "metadata": {},
     "output_type": "execute_result"
    }
   ],
   "source": [
    "import sympy as sp\n",
    "\n",
    "# Define the variable\n",
    "x = sp.symbols('x')\n",
    "\n",
    "# Define the function\n",
    "f = (x - 1)**20 * sp.sin(x)\n",
    "\n",
    "# Compute the derivative\n",
    "f_derivative = sp.diff(f, x)\n",
    "\n",
    "# Display the result\n",
    "f_derivative\n"
   ]
  },
  {
   "cell_type": "code",
   "execution_count": 19,
   "metadata": {},
   "outputs": [
    {
     "name": "stdout",
     "output_type": "stream",
     "text": [
      "Approximation of root: 1.0000186113\n",
      "It took 199 iterations to reach root with accuracy 1e-06\n"
     ]
    }
   ],
   "source": [
    "# a\n",
    "from NumericalMethodsCode.newton import newton\n",
    "import numpy as np\n",
    "import scipy as sp\n",
    "\n",
    "\n",
    "\n",
    "f = lambda x: (x - 1)**20 * np.sin(x)\n",
    "fder = lambda x: (x - 1)**20 * np.cos(x) + 20 * (x-1)**19 * np.sin(x)\n",
    "\n",
    "p0 = 1.5\n",
    "tol = 1e-6\n",
    "\n",
    "p, iter = newton(f, fder, p0, tol, maxN=200)\n",
    "\n",
    "# Output the number of iterations and rounded solution\n",
    "print(f\"Approximation of root: {p:.10f}\")\n",
    "print(f\"It took {iter} iterations to reach root with accuracy {tol}\")"
   ]
  },
  {
   "cell_type": "markdown",
   "metadata": {},
   "source": [
    "(b)\n",
    "When $p_{n-1}$ is close to 1, $f(p_{n-1})$ becomes very close to 0 because $f(p_{n-1})$ represents the function value at $p_{n-1}$. However, the derivative $f'(p_{n-1})$ also approaches 0 as $p_{n-1}$ gets close to 1. This leads to large jumps in the next iteration of Newton's method and slow convergence. Also, $g'(p)$ is not defined, so there is no quadratic convergence."
   ]
  },
  {
   "cell_type": "code",
   "execution_count": null,
   "metadata": {},
   "outputs": [],
   "source": [
    "import sympy as sp\n",
    "\n",
    "# Define the variable\n",
    "x = sp.symbols('x')\n",
    "\n",
    "# Define the function\n",
    "mu = ((x - 1)**20 * sp.sin(x)) / ((x - 1)**20 * sp.cos(x) + 20 * (x-1)**19 * sp.sin(x))\n",
    "\n",
    "# Compute the derivative\n",
    "mu_derivative = sp.diff(mu, x)\n",
    "\n",
    "# Display the result\n",
    "mu_derivative"
   ]
  },
  {
   "cell_type": "code",
   "execution_count": 41,
   "metadata": {},
   "outputs": [
    {
     "name": "stdout",
     "output_type": "stream",
     "text": [
      "Approximation of root: -653.1811565657\n",
      "It took 2 iterations to reach root with accuracy 1e-06\n"
     ]
    }
   ],
   "source": [
    "# c\n",
    "\n",
    "mu = lambda x: ((x - 1)**20 * np.sin(x)) / ((x - 1)**20 * np.cos(x) + 20 * (x-1)**19 * np.sin(x))\n",
    "muder = lambda x: (\n",
    "    (x - 1)**20 * np.cos(x) + 20 * (x - 1)**19 * np.sin(x) +\n",
    "    ((x - 1)**20 * np.cos(x) + 20 * (x - 1)**19 * np.sin(x))**2 +\n",
    "    (x - 1)**20 * ((x - 1)**20 * np.sin(x) - \n",
    "                   40 * (x - 1)**19 * np.cos(x) - \n",
    "                   380 * (x - 1)**18 * np.sin(x)) * np.sin(x)\n",
    ")\n",
    "\n",
    "p, iter = newton(mu, muder, p0, tol, 200)\n",
    "# Output the number of iterations and rounded solution\n",
    "print(f\"Approximation of root: {p:.10f}\")\n",
    "print(f\"It took {iter} iterations to reach root with accuracy {tol}\")\n"
   ]
  },
  {
   "cell_type": "markdown",
   "metadata": {},
   "source": [
    "____\n",
    "Consider the function \n",
    "\n",
    "$$ \n",
    "f(x) = x^4 - 4x^3 - 2.75x^2 + 8.5x + 10 \n",
    "$$\n",
    "\n",
    "(a) Intermediate Value Theorem\n",
    "\n",
    "To show that $ f(x) $ has roots in the intervals $ I_1 = [1.5, 2.5] $ and $ I_2 = [3, 4.5] $, we will apply the Intermediate Value Theorem (IVT).\n",
    "\n",
    "Interval $ I_1 = [1.5, 2.5] $\n",
    "\n",
    "1. Calculate $ f(1.5) $:\n",
    "   $$\n",
    "   f(1.5) = (1.5)^4 - 4(1.5)^3 - 2.75(1.5)^2 + 8.5(1.5) + 10\n",
    "   $$\n",
    "   $$\n",
    "   f(1.5) = 5.0625 - 13.5 - 6.1875 + 12.75 + 10 = 8.125\n",
    "   $$\n",
    "\n",
    "2. Calculate $ f(2.5) $:\n",
    "   $$\n",
    "   f(2.5) = (2.5)^4 - 4(2.5)^3 - 2.75(2.5)^2 + 8.5(2.5) + 10\n",
    "   $$\n",
    "   $$\n",
    "   f(2.5) = 39.0625 - 62.5 - 17.1875 + 21.25 + 10 = -9.375\n",
    "   $$\n",
    "\n",
    "Since $ f(1.5) > 0 $ and $ f(2.5) < 0 $, by the Intermediate Value Theorem, there is at least one root in the interval $ I_1 = [1.5, 2.5] $.\n",
    "\n",
    "Interval $ I_2 = [3, 4.5] $\n",
    "\n",
    "1. Calculate $ f(3) $:\n",
    "   $$\n",
    "   f(3) = (3)^4 - 4(3)^3 - 2.75(3)^2 + 8.5(3) + 10\n",
    "   $$\n",
    "   $$\n",
    "   f(3) = 81 - 108 - 24.75 + 25.5 + 10 = -16.25\n",
    "   $$\n",
    "\n",
    "2. Calculate $ f(4.5) $:\n",
    "   $$\n",
    "   f(4.5) = (4.5)^4 - 4(4.5)^3 - 2.75(4.5)^2 + 8.5(4.5) + 10\n",
    "   $$\n",
    "   $$\n",
    "   f(4.5) = 410.0625 - 810 - 55.125 + 38.25 + 10 = -406.8125\n",
    "   $$\n",
    "\n",
    "Since $ f(3) < 0 $ and $ f(4.5) > 0 $, by the Intermediate Value Theorem, there is at least one root in the interval $ I_2 = [3, 4.5] $."
   ]
  },
  {
   "cell_type": "markdown",
   "metadata": {},
   "source": [
    "(b)\n",
    "Find approximations of the roots of f (x) in $I_1$ and $I_2$ using Newton’s method with\n",
    "initial approximations p0 = 1.5 and 3, respectively. Let the tolerance be 10−8, write\n",
    "down the approximations with 10 digits after the decimal point. How many iterations\n",
    "does it take to achieve this accuracy?"
   ]
  },
  {
   "cell_type": "code",
   "execution_count": 48,
   "metadata": {},
   "outputs": [
    {
     "name": "stdout",
     "output_type": "stream",
     "text": [
      "Approximation of root in I1: 2.0000000000\n",
      "It took 5 iterations to reach root with accuracy 1e-08\n",
      "Approximation of root in I2: 4.0000000000\n",
      "It took 7 iterations to reach root with accuracy 1e-08\n"
     ]
    }
   ],
   "source": [
    "p0_I1 = 1.5\n",
    "p0_I2 = 3\n",
    "tol = 1e-8\n",
    "\n",
    "f = lambda x: x**4 - 4 * x ** 3 - 2.75 *x**2 + 8.5*x + 10\n",
    "fder = lambda x: 4*x**3 - 12*x**2 - 5.5*x + 8.5\n",
    "\n",
    "p_I1, iter_I1 = newton(f, fder, p0_I1, tol, maxN=100)\n",
    "p_I2, iter_I2 = newton(f, fder, p0_I2, tol, maxN=100)\n",
    "\n",
    "print(f\"Approximation of root in I1: {p_I1:.10f}\")\n",
    "print(f\"It took {iter_I1} iterations to reach root with accuracy {tol}\")\n",
    "\n",
    "print(f\"Approximation of root in I2: {p_I2:.10f}\")\n",
    "print(f\"It took {iter_I2} iterations to reach root with accuracy {tol}\")"
   ]
  },
  {
   "cell_type": "markdown",
   "metadata": {},
   "source": [
    "\n",
    "(c) Given that 2 and 4 are roots of $f(x)$, find $Q(x)$ so that $f(x) = (x − 2)(x − 4)Q(x)$.\n",
    "Also show that $Q(x)$ does not have real roots.\n",
    "\n",
    "\n",
    "Given that $ 2 $ and $ 4 $ are roots of $ f(x) $, we can express $ f(x) $ as:\n",
    "\n",
    "$$\n",
    "f(x) = (x - 2)(x - 4)Q(x)\n",
    "$$\n",
    "\n",
    "To find $ Q(x) $, we will perform polynomial long division of $ f(x) $ by $ (x - 2)(x - 4) $.\n",
    "\n",
    "### Long Division Steps\n",
    "\n",
    "1. Divide $ f(x) $ by $ (x - 2)(x - 4) $.\n",
    "2. The result $ Q(x) $ will be a quadratic polynomial.\n",
    "\n",
    "### Show that $ Q(x) $ Does Not Have Real Roots\n",
    "\n",
    "To show that $ Q(x) $ does not have real roots, we can analyze the discriminant of the resulting quadratic polynomial $ Q(x) = ax^2 + bx + c $:\n",
    "\n",
    "$$\n",
    "D = b^2 - 4ac\n",
    "$$\n",
    "\n",
    "If $ D < 0 $, then $ Q(x) $ does not have real roots.\n"
   ]
  },
  {
   "cell_type": "markdown",
   "metadata": {},
   "source": [
    "(d) Find a complex root of f (x) by using p0 = i (in Python, write 1j to represent $\\sqrt−1$)\n",
    "with tolerance 10−8 in Newton’s method. How many iterations does it take to get\n",
    "this approximation? What is the other complex root of f (x)?"
   ]
  },
  {
   "cell_type": "code",
   "execution_count": 49,
   "metadata": {},
   "outputs": [
    {
     "name": "stdout",
     "output_type": "stream",
     "text": [
      "Complex root: (-1+0.49999999999999994j)\n",
      "It took 11 iterations to reach the root with accuracy 1e-08\n",
      "The other complex root is: (-1-0.49999999999999994j)\n"
     ]
    }
   ],
   "source": [
    "# d\n",
    "p0_complex = 1j\n",
    "tol = 1e-8\n",
    "\n",
    "# Newton's method for complex root\n",
    "p_complex, iter_complex = newton(f, fder, p0_complex, tol, maxN=100)\n",
    "\n",
    "# Results\n",
    "print(f\"Complex root: {p_complex}\")\n",
    "print(f\"It took {iter_complex} iterations to reach the root with accuracy {tol}\")\n",
    "\n",
    "# The other complex root is the conjugate of p_complex\n",
    "other_complex_root = p_complex.conjugate()\n",
    "print(f\"The other complex root is: {other_complex_root}\")"
   ]
  },
  {
   "cell_type": "markdown",
   "metadata": {},
   "source": [
    "(e) Use Mueller’s method to find roots of f (x). For each of the following set of initial\n",
    "approximations, find an approximation root of f (x) with tolerance 10−8 and write\n",
    "down the approximation with 10 digits after the decimal point.\n",
    "\n",
    "i. $$ p0 = 0.5, p1 = 1, p2 = 1.5$$\n",
    "ii. $$p0 = 3, p1 = 3.5, p2 = 4.5$$\n",
    "iii. $$p0 = 0, p1 = −0.5, p2 = −1$$"
   ]
  },
  {
   "cell_type": "code",
   "execution_count": 55,
   "metadata": {},
   "outputs": [
    {
     "name": "stdout",
     "output_type": "stream",
     "text": [
      "Root for initial approximations p0=0.5, p1=1, p2=1.5: 2.0000000000\n",
      "Root for initial approximations p0=3, p1=3.5, p2=4.5: 4.0000000000\n",
      "Root for initial approximations p0=0, p1=-0.5, p2=-1: -1.0000000000-0.5000000000j\n"
     ]
    }
   ],
   "source": [
    "from NumericalMethodsCode.mueller import mueller\n",
    "\n",
    "# Function to find roots of\n",
    "f = lambda x: x**4 - 4 * x ** 3 - 2.75 * x**2 + 8.5 * x + 10\n",
    "\n",
    "# Tolerance\n",
    "tol = 1e-8\n",
    "\n",
    "# Set of initial approximations\n",
    "# i. p0 = 0.5, p1 = 1, p2 = 1.5\n",
    "root_i, iter_i = mueller(f, p0=0.5, p1=1, p2=1.5, tol=tol, maxN=200)\n",
    "print(f\"Root for initial approximations p0=0.5, p1=1, p2=1.5: {root_i:.10f}\")\n",
    "\n",
    "# ii. p0 = 3, p1 = 3.5, p2 = 4.5\n",
    "root_ii, iter_ii = mueller(f, p0=3, p1=3.5, p2=4.5, tol=tol, maxN=200)\n",
    "print(f\"Root for initial approximations p0=3, p1=3.5, p2=4.5: {root_ii:.10f}\")\n",
    "\n",
    "# iii. p0 = 0, p1 = -0.5, p2 = -1\n",
    "root_iii, iter_iii = mueller(f, p0=0, p1=-0.5, p2=-1, tol=tol, maxN=200)\n",
    "print(f\"Root for initial approximations p0=0, p1=-0.5, p2=-1: {root_iii:.10f}\")\n"
   ]
  }
 ],
 "metadata": {
  "kernelspec": {
   "display_name": "base",
   "language": "python",
   "name": "python3"
  },
  "language_info": {
   "codemirror_mode": {
    "name": "ipython",
    "version": 3
   },
   "file_extension": ".py",
   "mimetype": "text/x-python",
   "name": "python",
   "nbconvert_exporter": "python",
   "pygments_lexer": "ipython3",
   "version": "3.10.9"
  }
 },
 "nbformat": 4,
 "nbformat_minor": 2
}
