{
 "cells": [
  {
   "cell_type": "markdown",
   "metadata": {},
   "source": [
    "\n",
    "### Consider the same function $ f(x) = (x - 1)^{20} \\sin x $.\n",
    "\n",
    "(a)\n",
    "Use Newton’s method to find an approximation of the root of $ f(x) $ with accuracy $ 10^{-6} $ starting from $ p_0 = 1.5 $. How many iterations does it take to achieve this accuracy?\n",
    "\n",
    "(b)\n",
    "For Newton’s method\n",
    "\n",
    "$$\n",
    "p_n = p_{n-1} - \\frac{f(p_{n-1})}{f'(p_{n-1})}\n",
    "$$\n",
    "\n",
    "with the given $ f(x) $, what happens to $ f'(p_{n-1}) $ when $ p_{n-1} $ is close to 1? Explain why the convergence is slow in (a).\n",
    "\n",
    "(c)\n",
    "Try the modified Newton’s method, by running Newton’s method on $ \\mu(x) = \\frac{f(x)}{f'(x)} $, with $ p_0 = 1.5 $. How many iterations does it take to achieve the accuracy $ 10^{-6} $?\n"
   ]
  },
  {
   "cell_type": "code",
   "execution_count": 2,
   "metadata": {},
   "outputs": [],
   "source": [
    "import sys\n",
    "import os\n",
    "sys.path.append(r\"C:\\\\Users\\\\ntlmp\\\\MATH323-NumericalAnalysis\")\n"
   ]
  },
  {
   "cell_type": "code",
   "execution_count": 2,
   "metadata": {},
   "outputs": [
    {
     "name": "stdout",
     "output_type": "stream",
     "text": [
      "(x - 1)**20*cos(x) + 20*(x - 1)**19*sin(x)\n",
      "-(x - 1)**20*sin(x) + 40*(x - 1)**19*cos(x) + 380*(x - 1)**18*sin(x)\n"
     ]
    }
   ],
   "source": [
    "import sympy as sp\n",
    "\n",
    "# Define the variable\n",
    "x = sp.symbols('x')\n",
    "\n",
    "# Define the function\n",
    "f = (x - 1)**20 * sp.sin(x)\n",
    "\n",
    "# Compute the derivative\n",
    "f_derivative = sp.diff(f, x)\n",
    "\n",
    "# Display the result\n",
    "print(f_derivative)\n",
    "\n",
    "f_2derivative = sp.diff(f_derivative, x)\n",
    "print(f_2derivative)"
   ]
  },
  {
   "cell_type": "code",
   "execution_count": 3,
   "metadata": {},
   "outputs": [
    {
     "name": "stdout",
     "output_type": "stream",
     "text": [
      "Approximation of root: 1.0000186113\n",
      "It took 199 iterations to reach root with accuracy 1e-06\n"
     ]
    }
   ],
   "source": [
    "# a\n",
    "from NumericalMethodsCode.newton import newton\n",
    "import numpy as np\n",
    "\n",
    "f = lambda x: (x - 1)**20 * np.sin(x)\n",
    "fder = lambda x: (x - 1)**20 * np.cos(x) + 20 * (x-1)**19 * np.sin(x)\n",
    "\n",
    "p0 = 1.5\n",
    "tol = 1e-6\n",
    "\n",
    "p, iter = newton(f, fder, p0, tol, maxN=200)\n",
    "\n",
    "# Output the number of iterations and rounded solution\n",
    "print(f\"Approximation of root: {p:.10f}\")\n",
    "print(f\"It took {iter} iterations to reach root with accuracy {tol}\")"
   ]
  },
  {
   "cell_type": "markdown",
   "metadata": {},
   "source": [
    "(b)\n",
    "When $p_{n-1}$ is close to 1, $f(p_{n-1})$ becomes very close to 0 because $f(p_{n-1})$ represents the function value at $p_{n-1}$. However, the derivative $f'(p_{n-1})$ also approaches 0 as $p_{n-1}$ gets close to 1. This leads to large jumps in the next iteration of Newton's method and slow convergence. Also, $g'(p)$ is not defined, so there is no quadratic convergence."
   ]
  },
  {
   "cell_type": "code",
   "execution_count": 4,
   "metadata": {},
   "outputs": [
    {
     "name": "stdout",
     "output_type": "stream",
     "text": [
      "Approximation of root: 1.0000000000\n",
      "It took 3 iterations to reach root with accuracy 1e-06\n"
     ]
    }
   ],
   "source": [
    "# c\n",
    "\n",
    "# Second derivative function f''(x)\n",
    "f2der = lambda x: -(x - 1)**20 * np.sin(x) + 40 * (x - 1)**19 * np.cos(x) + 380 * (x - 1)**18 * np.sin(x)\n",
    "\n",
    "# Define mu(x) = f(x) / f'(x) and its derivative mu'(x)\n",
    "mu = lambda x: f(x) / fder(x)\n",
    "muder = lambda x: (fder(x)**2 - f(x) * f2der(x)) / (fder(x)**2)\n",
    "\n",
    "# Apply Newton's method\n",
    "p, iter = newton(mu, muder, p0, tol, 200)\n",
    "\n",
    "# # Output the number of iterations and rounded solution\n",
    "print(f\"Approximation of root: {p:.10f}\")\n",
    "print(f\"It took {iter} iterations to reach root with accuracy {tol}\")\n",
    "\n"
   ]
  },
  {
   "cell_type": "markdown",
   "metadata": {},
   "source": [
    "____\n",
    "### Consider the function \n",
    "\n",
    "$$ \n",
    "f(x) = x^4 - 4x^3 - 2.75x^2 + 8.5x + 10 \n",
    "$$\n",
    "\n",
    "(a) Intermediate Value Theorem\n",
    "\n",
    "To show that $ f(x) $ has roots in the intervals $ I_1 = [1.5, 2.5] $ and $ I_2 = [3, 4.5] $, we will apply the Intermediate Value Theorem (IVT).\n",
    "\n",
    "Interval $ I_1 = [1.5, 2.5] $\n",
    "\n",
    "1. Calculate $ f(1.5) $:\n",
    "   $$\n",
    "   f(1.5) = (1.5)^4 - 4(1.5)^3 - 2.75(1.5)^2 + 8.5(1.5) + 10\n",
    "   $$\n",
    "   $$\n",
    "   f(1.5) = 5.0625 - 13.5 - 6.1875 + 12.75 + 10 = 8.125\n",
    "   $$\n",
    "\n",
    "2. Calculate $ f(2.5) $:\n",
    "   $$\n",
    "   f(2.5) = (2.5)^4 - 4(2.5)^3 - 2.75(2.5)^2 + 8.5(2.5) + 10\n",
    "   $$\n",
    "   $$\n",
    "   f(2.5) = 39.0625 - 62.5 - 17.1875 + 21.25 + 10 = -9.375\n",
    "   $$\n",
    "\n",
    "Since $ f(1.5) > 0 $ and $ f(2.5) < 0 $, by the Intermediate Value Theorem, there is at least one root in the interval $ I_1 = [1.5, 2.5] $.\n",
    "\n",
    "Interval $ I_2 = [3, 4.5] $\n",
    "\n",
    "1. Calculate $ f(3) $:\n",
    "   $$\n",
    "   f(3) = (3)^4 - 4(3)^3 - 2.75(3)^2 + 8.5(3) + 10\n",
    "   $$\n",
    "   $$\n",
    "   f(3) = 81 - 108 - 24.75 + 25.5 + 10 = -16.25\n",
    "   $$\n",
    "\n",
    "2. Calculate $ f(4.5) $:\n",
    "   $$\n",
    "   f(4.5) = (4.5)^4 - 4(4.5)^3 - 2.75(4.5)^2 + 8.5(4.5) + 10\n",
    "   $$\n",
    "   $$\n",
    "   f(4.5) = 410.0625 - 810 - 55.125 + 38.25 + 10 = -406.8125\n",
    "   $$\n",
    "\n",
    "Since $ f(3) < 0 $ and $ f(4.5) > 0 $, by the Intermediate Value Theorem, there is at least one root in the interval $ I_2 = [3, 4.5] $."
   ]
  },
  {
   "cell_type": "markdown",
   "metadata": {},
   "source": [
    "(b)\n",
    "Find approximations of the roots of f (x) in $I_1$ and $I_2$ using Newton’s method with\n",
    "initial approximations p0 = 1.5 and 3, respectively. Let the tolerance be 10−8, write\n",
    "down the approximations with 10 digits after the decimal point. How many iterations\n",
    "does it take to achieve this accuracy?"
   ]
  },
  {
   "cell_type": "code",
   "execution_count": 6,
   "metadata": {},
   "outputs": [
    {
     "name": "stdout",
     "output_type": "stream",
     "text": [
      "Approximation of root in I1: 2.0000000000\n",
      "It took 5 iterations to reach root with accuracy 1e-08\n",
      "Approximation of root in I2: 4.0000000000\n",
      "It took 7 iterations to reach root with accuracy 1e-08\n"
     ]
    }
   ],
   "source": [
    "p0_I1 = 1.5\n",
    "p0_I2 = 3\n",
    "tol = 1e-8\n",
    "\n",
    "f = lambda x: x**4 - 4 * x ** 3 - 2.75 *x**2 + 8.5*x + 10\n",
    "fder = lambda x: 4*x**3 - 12*x**2 - 5.5*x + 8.5\n",
    "\n",
    "p_I1, iter_I1 = newton(f, fder, p0_I1, tol, maxN=100)\n",
    "p_I2, iter_I2 = newton(f, fder, p0_I2, tol, maxN=100)\n",
    "\n",
    "print(f\"Approximation of root in I1: {p_I1:.10f}\")\n",
    "print(f\"It took {iter_I1} iterations to reach root with accuracy {tol}\")\n",
    "\n",
    "print(f\"Approximation of root in I2: {p_I2:.10f}\")\n",
    "print(f\"It took {iter_I2} iterations to reach root with accuracy {tol}\")"
   ]
  },
  {
   "cell_type": "markdown",
   "metadata": {},
   "source": [
    "\n",
    "(c) Given that 2 and 4 are roots of $f(x)$, find $Q(x)$ so that $f(x) = (x − 2)(x − 4)Q(x)$.\n",
    "Also show that $Q(x)$ does not have real roots.\n",
    "\n",
    "\n",
    "\n",
    "We can express $ f(x) $ as:\n",
    "\n",
    "$$\n",
    "f(x) = (x - 2)(x - 4)Q(x)\n",
    "$$\n",
    "\n",
    "To find $ Q(x) $, we will perform polynomial long division of $ f(x) $ by $ (x - 2)(x - 4) $.\n",
    "\n",
    "\n",
    "1. Divide $ f(x) $ by $ (x - 2)(x - 4) $.\n",
    "2. The result $ Q(x) $ will be a quadratic polynomial.\n",
    "\n",
    "To show that $ Q(x) $ does not have real roots, we can analyze the discriminant of the resulting quadratic polynomial $ Q(x) = ax^2 + bx + c $:\n",
    "\n",
    "$$\n",
    "D = b^2 - 4ac\n",
    "$$\n",
    "\n",
    "If $ D < 0 $, then $ Q(x) $ does not have real roots.\n"
   ]
  },
  {
   "cell_type": "markdown",
   "metadata": {},
   "source": [
    "(d) Find a complex root of f (x) by using p0 = i (in Python, write 1j to represent $\\sqrt−1$)\n",
    "with tolerance 10−8 in Newton’s method. How many iterations does it take to get\n",
    "this approximation? What is the other complex root of f (x)?"
   ]
  },
  {
   "cell_type": "code",
   "execution_count": 7,
   "metadata": {},
   "outputs": [
    {
     "name": "stdout",
     "output_type": "stream",
     "text": [
      "Complex root: (-1+0.49999999999999994j)\n",
      "It took 11 iterations to reach the root with accuracy 1e-08\n",
      "The other complex root is: (-1-0.49999999999999994j)\n"
     ]
    }
   ],
   "source": [
    "# d\n",
    "p0_complex = 1j\n",
    "tol = 1e-8\n",
    "\n",
    "# Newton's method for complex root\n",
    "p_complex, iter_complex = newton(f, fder, p0_complex, tol, maxN=100)\n",
    "\n",
    "# Results\n",
    "print(f\"Complex root: {p_complex}\")\n",
    "print(f\"It took {iter_complex} iterations to reach the root with accuracy {tol}\")\n",
    "\n",
    "# The other complex root is the conjugate of p_complex\n",
    "other_complex_root = p_complex.conjugate()\n",
    "print(f\"The other complex root is: {other_complex_root}\")"
   ]
  },
  {
   "cell_type": "markdown",
   "metadata": {},
   "source": [
    "(e) Use Mueller’s method to find roots of f (x). For each of the following set of initial approximations, find an approximation root of f (x) with tolerance 10−8 and write down the approximation with 10 digits after the decimal point.\n",
    "\n",
    "i. $$ p_0 = 0.5, p_1 = 1, p_2 = 1.5$$\n",
    "ii. $$p_0 = 3, p_1 = 3.5, p_2 = 4.5$$\n",
    "iii. $$p_0 = 0, p_1 = −0.5, p_2 = −1$$"
   ]
  },
  {
   "cell_type": "code",
   "execution_count": 8,
   "metadata": {},
   "outputs": [
    {
     "name": "stdout",
     "output_type": "stream",
     "text": [
      "Root i: 2.0\n",
      "Iterations (i): 5\n",
      "Root ii: 4.0\n",
      "Iterations (ii): 5\n",
      "Warning: D squared is negative; computation may be invalid.\n"
     ]
    }
   ],
   "source": [
    "from NumericalMethodsCode.mueller import mueller\n",
    "\n",
    "# Function definition\n",
    "f = lambda x: x**4 - 4 * x ** 3 - 2.75 * x**2 + 8.5 * x + 10\n",
    "\n",
    "# Tolerance\n",
    "tol = 1e-8\n",
    "\n",
    "# Set of initial approximations\n",
    "\n",
    "# i. p0 = 0.5, p1 = 1, p2 = 1.5\n",
    "root_i, iter_i = mueller(f, p0=0.5, p1=1, p2=1.5, tol=tol, maxN=200)\n",
    "if root_i is not None:\n",
    "    print(f\"Root i: {root_i}\")\n",
    "    print(f\"Iterations (i): {iter_i}\")\n",
    "else:\n",
    "    print(f\"Mueller's method failed to converge for p0=0.5, p1=1, p2=1.5 after {iter_i} iterations.\")\n",
    "\n",
    "# ii. p0 = 3, p1 = 3.5, p2 = 4.5\n",
    "root_ii, iter_ii = mueller(f, p0=3, p1=3.5, p2=4.5, tol=tol, maxN=200)\n",
    "if root_ii is not None:\n",
    "    print(f\"Root ii: {root_ii}\")\n",
    "    print(f\"Iterations (ii): {iter_ii}\")\n",
    "\n",
    "# iii. p0=0, p1=-0.5, p2=-1\n",
    "root_iii, iter_iii = mueller(f, p0=3, p1=-0.5, p2=-1, tol=tol, maxN=200)"
   ]
  },
  {
   "cell_type": "code",
   "execution_count": 10,
   "metadata": {},
   "outputs": [
    {
     "name": "stdout",
     "output_type": "stream",
     "text": [
      "(-1-0.49999999999999994j) 7\n"
     ]
    }
   ],
   "source": [
    "import cmath  # For complex math operations\n",
    "\n",
    "def mueller(f, p0, p1, p2, tol, maxN):\n",
    "    \"\"\"\n",
    "    Finds a solution to the function using Mueller's method, allowing complex roots.\n",
    "\n",
    "    Parameters:\n",
    "        f: The function whose root is to be found.\n",
    "        p0, p1, p2: Initial guesses for the root.\n",
    "        tol: The tolerance for the root.\n",
    "        maxN: The maximum number of iterations.\n",
    "\n",
    "    Returns:\n",
    "        The approximate root of the function and the number of iterations.\n",
    "    \"\"\"\n",
    "    \n",
    "    # Calculate initial differences and derivatives\n",
    "    h1 = p1 - p0\n",
    "    h2 = p2 - p1\n",
    "    d1 = (f(p1) - f(p0)) / h1\n",
    "    d2 = (f(p2) - f(p1)) / h2\n",
    "    d = (d2 - d1) / (h2 + h1)\n",
    "    i = 1\n",
    "\n",
    "    while i <= maxN:\n",
    "        # Compute coefficients for the quadratic approximation\n",
    "        b = d2 + h2 * d\n",
    "        D_squared = b**2 - 4 * f(p2) * d  # Allow D_squared to be negative for complex roots\n",
    "\n",
    "        # Take the square root, which can now be complex\n",
    "        D = cmath.sqrt(D_squared)\n",
    "\n",
    "        # Determine E based on the signs of b and D\n",
    "        E = b + D if abs(b - D) < abs(b + D) else b - D\n",
    "\n",
    "        h = -2 * f(p2) / E\n",
    "        p = p2 + h  # New approximation of the root\n",
    "\n",
    "        # Check if the result is within the desired tolerance\n",
    "        if abs(h) < tol:\n",
    "            return p, i\n",
    "        \n",
    "        # Update the points for the next iteration\n",
    "        p0, p1, p2 = p1, p2, p  # Shift points\n",
    "        h1, h2 = p1 - p0, p2 - p1  # Update differences\n",
    "        d1 = (f(p1) - f(p0)) / h1\n",
    "        d2 = (f(p2) - f(p1)) / h2\n",
    "        d = (d2 - d1) / (h2 + h1)  # Update derivative approximation\n",
    "        i += 1\n",
    "\n",
    "    print(\"Method failed to converge.\")\n",
    "    return None, i  # Return None if max iterations are reached\n",
    "\n",
    "# iii. p0=0, p1=-0.5, p2=-1\n",
    "root_iii, iter_iii = mueller(f, p0=3, p1=-0.5, p2=-1, tol=tol, maxN=200)\n",
    "print(root_iii, iter_iii)\n",
    "# this may be incorrect...\n"
   ]
  },
  {
   "cell_type": "markdown",
   "metadata": {},
   "source": [
    "### Consider the function $ f(x) = \\sin x - (x - 1)^3 - e^x $.\n",
    "\n",
    "**(a)** Show that 0 is a root of $ f(x) $.\n",
    "\n",
    "$$\n",
    "f(0) = \\sin(0) - (0 - 1)^3 - e^0 = 0\n",
    "$$\n",
    "\n",
    "**(b)** Show that 0 is a fixed point of the function $ g(x) = x + \\left( \\sin x - (x - 1)^3 - e^x \\right)e^{3x - 1} $.\n",
    "\n",
    "$$\n",
    "g(0) = 0 + \\left( \\sin(0) - (0 - 1)^3 - e^0 \\right)e^{3(0) - 1} = 0\n",
    "$$\n",
    "\n",
    "**(c)** Use your bisection program with initial interval $[-1, 0.5]$ to find an approximation of the root of $ f(x) $ with accuracy $ 10^{-8} $. Write down the approximation with 10 digits after the decimal point. How many iterations does it take to achieve such an accuracy?\n",
    "\n",
    "**(d)** Use your fixed point program with $ g(x) $ defined in (b) and $ p_0 = -1 $ to find an approximation of the root of $ f(x) $ with accuracy $ 10^{-8} $. Write down the approximation with 10 digits after the decimal point. How many iterations does it take to achieve such an accuracy?\n",
    "\n",
    "**(e)** Use your Newton program with $ p_0 = -1 $ to find an approximation of the root of $f(x)$ with accuracy $ 10^{-8} $. Write down the approximation with 10 digits after the decimal point. How many iterations does it take to achieve such an accuracy?\n",
    "\n",
    "**(f)** Use your secant program with $ p_0 = -1 $, $ p_1 = -0.5 $ to find an approximation of the root of $ f(x) $ with accuracy $ 10^{-8} $. Write down the approximation with 10 digits after the decimal point. How many iterations does it take to achieve such an accuracy?\n",
    "\n",
    "**(g)** Use your Mueller program with $ p_0 = -1 $, $ p_1 = -0.5 $, $ p_2 = 0.4 $ to find an approximation of the root of $ f(x) $ with accuracy $ 10^{-8} $. Write down the approximation with 10 digits after the decimal point. How many iterations does it take to achieve such an accuracy?\n",
    "\n",
    "**(h)** Which methods give faster convergence? Which methods are slower? Why?\n"
   ]
  },
  {
   "cell_type": "code",
   "execution_count": 11,
   "metadata": {},
   "outputs": [
    {
     "name": "stdout",
     "output_type": "stream",
     "text": [
      "There may not be a root.\n"
     ]
    },
    {
     "ename": "UnboundLocalError",
     "evalue": "local variable 'iter' referenced before assignment",
     "output_type": "error",
     "traceback": [
      "\u001b[1;31m---------------------------------------------------------------------------\u001b[0m",
      "\u001b[1;31mUnboundLocalError\u001b[0m                         Traceback (most recent call last)",
      "Input \u001b[1;32mIn [11]\u001b[0m, in \u001b[0;36m<cell line: 13>\u001b[1;34m()\u001b[0m\n\u001b[0;32m     11\u001b[0m \u001b[38;5;28;01mglobal\u001b[39;00m \u001b[38;5;28miter\u001b[39m\n\u001b[0;32m     12\u001b[0m \u001b[38;5;66;03m# Call the bisection function\u001b[39;00m\n\u001b[1;32m---> 13\u001b[0m p, iters \u001b[38;5;241m=\u001b[39m \u001b[43mbisection\u001b[49m\u001b[43m(\u001b[49m\u001b[43mf\u001b[49m\u001b[43m,\u001b[49m\u001b[43m \u001b[49m\u001b[43ma\u001b[49m\u001b[43m,\u001b[49m\u001b[43m \u001b[49m\u001b[43mb\u001b[49m\u001b[43m,\u001b[49m\u001b[43m \u001b[49m\u001b[43mtol\u001b[49m\u001b[43m,\u001b[49m\u001b[43m \u001b[49m\u001b[43mmaxN\u001b[49m\u001b[38;5;241;43m=\u001b[39;49m\u001b[38;5;241;43m200\u001b[39;49m\u001b[43m)\u001b[49m\n\u001b[0;32m     15\u001b[0m \u001b[38;5;66;03m# Output the results\u001b[39;00m\n\u001b[0;32m     16\u001b[0m \u001b[38;5;28mprint\u001b[39m(\u001b[38;5;124mf\u001b[39m\u001b[38;5;124m\"\u001b[39m\u001b[38;5;124mRoot approximation: \u001b[39m\u001b[38;5;132;01m{\u001b[39;00mp\u001b[38;5;132;01m}\u001b[39;00m\u001b[38;5;124m, Iterations: \u001b[39m\u001b[38;5;132;01m{\u001b[39;00miters\u001b[38;5;132;01m}\u001b[39;00m\u001b[38;5;124m\"\u001b[39m)\n",
      "File \u001b[1;32mC:\\\\Users\\\\ntlmp\\\\MATH323-NumericalAnalysis\\NumericalMethodsCode\\bisection.py:22\u001b[0m, in \u001b[0;36mbisection\u001b[1;34m(f, a, b, tol, maxN)\u001b[0m\n\u001b[0;32m     20\u001b[0m             a \u001b[38;5;241m=\u001b[39m p\n\u001b[0;32m     21\u001b[0m         \u001b[38;5;28miter\u001b[39m \u001b[38;5;241m+\u001b[39m\u001b[38;5;241m=\u001b[39m \u001b[38;5;241m1\u001b[39m\n\u001b[1;32m---> 22\u001b[0m \u001b[38;5;28;01mreturn\u001b[39;00m p, \u001b[38;5;28;43miter\u001b[39;49m\n",
      "\u001b[1;31mUnboundLocalError\u001b[0m: local variable 'iter' referenced before assignment"
     ]
    }
   ],
   "source": [
    "# c\n",
    "from NumericalMethodsCode.bisection import bisection\n",
    "import numpy as np\n",
    "global iter\n",
    "f = lambda x: np.sin(x) - (x-1)**3 + np.exp(x)\n",
    "\n",
    "# Define the interval and tolerance\n",
    "a = -1\n",
    "b = 0.5\n",
    "tol = 1e-8\n",
    "global iter\n",
    "# Call the bisection function\n",
    "p, iters = bisection(f, a, b, tol, maxN=200)\n",
    "\n",
    "# Output the results\n",
    "print(f\"Root approximation: {p}, Iterations: {iters}\")\n"
   ]
  },
  {
   "cell_type": "code",
   "execution_count": 12,
   "metadata": {},
   "outputs": [
    {
     "name": "stdout",
     "output_type": "stream",
     "text": [
      "Approximation of the root: 0.0000000001\n",
      "Number of iterations: 14\n"
     ]
    }
   ],
   "source": [
    "# d\n",
    "import numpy as np\n",
    "from NumericalMethodsCode.fixedpt import fixedpt\n",
    "\n",
    "# Define the function g(x)\n",
    "g = lambda x: x + (np.sin(x) - (x - 1)**3 - np.exp(x)) * np.exp(3 * x - 1)\n",
    "\n",
    "# Set the initial guess and tolerance\n",
    "p0 = -1\n",
    "tol = 1e-8\n",
    "maxN = 200  # Max number of iterations\n",
    "\n",
    "# Use the fixed-point iteration to find the root\n",
    "root, iterations = fixedpt(g, p0, tol=tol, maxN=maxN)\n",
    "\n",
    "# Print the results\n",
    "print(f\"Approximation of the root: {root:.10f}\")\n",
    "print(f\"Number of iterations: {iterations}\")\n",
    "\n"
   ]
  },
  {
   "cell_type": "code",
   "execution_count": 13,
   "metadata": {},
   "outputs": [
    {
     "name": "stdout",
     "output_type": "stream",
     "text": [
      "The method failed after 200 iterations.\n"
     ]
    },
    {
     "ename": "TypeError",
     "evalue": "cannot unpack non-iterable numpy.float64 object",
     "output_type": "error",
     "traceback": [
      "\u001b[1;31m---------------------------------------------------------------------------\u001b[0m",
      "\u001b[1;31mTypeError\u001b[0m                                 Traceback (most recent call last)",
      "Input \u001b[1;32mIn [13]\u001b[0m, in \u001b[0;36m<cell line: 37>\u001b[1;34m()\u001b[0m\n\u001b[0;32m     34\u001b[0m tol \u001b[38;5;241m=\u001b[39m \u001b[38;5;241m1e-8\u001b[39m\n\u001b[0;32m     36\u001b[0m \u001b[38;5;66;03m# Apply Newton's method\u001b[39;00m\n\u001b[1;32m---> 37\u001b[0m p, \u001b[38;5;28miter\u001b[39m \u001b[38;5;241m=\u001b[39m newton(f, fder, p0, tol, \u001b[38;5;241m200\u001b[39m)\n\u001b[0;32m     39\u001b[0m \u001b[38;5;66;03m# Output the results\u001b[39;00m\n\u001b[0;32m     40\u001b[0m \u001b[38;5;28mprint\u001b[39m(\u001b[38;5;124mf\u001b[39m\u001b[38;5;124m\"\u001b[39m\u001b[38;5;124mRoot approximation: \u001b[39m\u001b[38;5;132;01m{\u001b[39;00mp\u001b[38;5;132;01m:\u001b[39;00m\u001b[38;5;124m.10f\u001b[39m\u001b[38;5;132;01m}\u001b[39;00m\u001b[38;5;124m, Iterations: \u001b[39m\u001b[38;5;132;01m{\u001b[39;00m\u001b[38;5;28miter\u001b[39m\u001b[38;5;132;01m}\u001b[39;00m\u001b[38;5;124m\"\u001b[39m)\n",
      "\u001b[1;31mTypeError\u001b[0m: cannot unpack non-iterable numpy.float64 object"
     ]
    }
   ],
   "source": [
    "import numpy as np\n",
    "\n",
    "# def newton(f, fder, p0, tol, maxN):\n",
    "#     \"\"\"\n",
    "#     Newton's method for finding roots.\n",
    "#     f: function for which root is sought\n",
    "#     fder: derivative of f\n",
    "#     p0: initial guess\n",
    "#     tol: tolerance level\n",
    "#     maxN: maximum number of iterations\n",
    "#     \"\"\"\n",
    "#     p = p0\n",
    "#     i = 1\n",
    "#     while i <= maxN:\n",
    "#         # Update the approximation\n",
    "#         p_new = p - f(p) / fder(p)\n",
    "        \n",
    "#         # Check if the difference is within the tolerance\n",
    "#         if abs(p_new - p) < tol:\n",
    "#             return p_new, i  # Return both the root and the number of iterations\n",
    "        \n",
    "#         p = p_new  # Update p for the next iteration\n",
    "#         i += 1\n",
    "        \n",
    "#     print(\"The method failed after\", maxN, \"iterations.\")\n",
    "#     return p, i  # Ensure it returns both values at the end\n",
    "\n",
    "# Example function definition\n",
    "f = lambda x: np.sin(x) - (x - 1)**3 + np.exp(x)\n",
    "fder = lambda x: np.cos(x) - 3 * (x - 1)**2 + np.exp(x)\n",
    "\n",
    "# Initial guess and tolerance\n",
    "p0 = -1\n",
    "tol = 1e-8\n",
    "\n",
    "# Apply Newton's method\n",
    "p, iter = newton(f, fder, p0, tol, 200)\n",
    "\n",
    "# Output the results\n",
    "print(f\"Root approximation: {p:.10f}, Iterations: {iter}\")\n",
    "\n"
   ]
  },
  {
   "cell_type": "code",
   "execution_count": 14,
   "metadata": {},
   "outputs": [
    {
     "name": "stdout",
     "output_type": "stream",
     "text": [
      "Root approximation: 1.5013406147, Iterations: 192\n"
     ]
    }
   ],
   "source": [
    "# f\n",
    "from NumericalMethodsCode.secant import secant\n",
    "\n",
    "f = lambda x: np.sin(x) - (x - 1)**3 + np.exp(x)\n",
    "p0 = -1\n",
    "p1 = -.5\n",
    "\n",
    "p, iter = secant(f, p0, p1, tol=1e-8, maxN=200)\n",
    "\n",
    "# Output the results\n",
    "print(f\"Root approximation: {p:.10f}, Iterations: {iter}\")"
   ]
  },
  {
   "cell_type": "code",
   "execution_count": 15,
   "metadata": {},
   "outputs": [
    {
     "name": "stdout",
     "output_type": "stream",
     "text": [
      "Warning: D squared is negative; computation may be invalid.\n"
     ]
    },
    {
     "ename": "TypeError",
     "evalue": "unsupported format string passed to NoneType.__format__",
     "output_type": "error",
     "traceback": [
      "\u001b[1;31m---------------------------------------------------------------------------\u001b[0m",
      "\u001b[1;31mTypeError\u001b[0m                                 Traceback (most recent call last)",
      "Input \u001b[1;32mIn [15]\u001b[0m, in \u001b[0;36m<cell line: 10>\u001b[1;34m()\u001b[0m\n\u001b[0;32m      7\u001b[0m p, \u001b[38;5;28miter\u001b[39m \u001b[38;5;241m=\u001b[39m mueller(f, p0, p1, p2, tol\u001b[38;5;241m=\u001b[39m\u001b[38;5;241m1e-8\u001b[39m, maxN\u001b[38;5;241m=\u001b[39m\u001b[38;5;241m200\u001b[39m)\n\u001b[0;32m      9\u001b[0m \u001b[38;5;66;03m# Output the results\u001b[39;00m\n\u001b[1;32m---> 10\u001b[0m \u001b[38;5;28mprint\u001b[39m(\u001b[38;5;124mf\u001b[39m\u001b[38;5;124m\"\u001b[39m\u001b[38;5;124mRoot approximation: \u001b[39m\u001b[38;5;132;01m{\u001b[39;00mp\u001b[38;5;132;01m:\u001b[39;00m\u001b[38;5;124m.10f\u001b[39m\u001b[38;5;132;01m}\u001b[39;00m\u001b[38;5;124m, Iterations: \u001b[39m\u001b[38;5;132;01m{\u001b[39;00m\u001b[38;5;28miter\u001b[39m\u001b[38;5;132;01m}\u001b[39;00m\u001b[38;5;124m\"\u001b[39m)\n",
      "\u001b[1;31mTypeError\u001b[0m: unsupported format string passed to NoneType.__format__"
     ]
    }
   ],
   "source": [
    "# g\n",
    "from NumericalMethodsCode.mueller import mueller\n",
    "\n",
    "f = lambda x: np.sin(x) - (x - 1)**3 + np.exp(x)\n",
    "p0, p1, p2 = -1, -0.5, 0.4\n",
    "\n",
    "p, iter = mueller(f, p0, p1, p2, tol=1e-8, maxN=200)\n",
    "\n",
    "# Output the results\n",
    "print(f\"Root approximation: {p:.10f}, Iterations: {iter}\")"
   ]
  },
  {
   "cell_type": "markdown",
   "metadata": {},
   "source": [
    "(h) Newton, secant, and Mueller are faster. Bisection and Fixed Point are slower. Orders of convergence are different."
   ]
  }
 ],
 "metadata": {
  "kernelspec": {
   "display_name": "base",
   "language": "python",
   "name": "python3"
  },
  "language_info": {
   "codemirror_mode": {
    "name": "ipython",
    "version": 3
   },
   "file_extension": ".py",
   "mimetype": "text/x-python",
   "name": "python",
   "nbconvert_exporter": "python",
   "pygments_lexer": "ipython3",
   "version": "3.10.9"
  }
 },
 "nbformat": 4,
 "nbformat_minor": 2
}
