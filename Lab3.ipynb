{
 "cells": [
  {
   "cell_type": "markdown",
   "metadata": {},
   "source": [
    "\n",
    "1. Consider the same function $ f(x) = (x - 1)^{20} \\sin x $.\n",
    "\n",
    "(a)\n",
    "Use Newton’s method to find an approximation of the root of $ f(x) $ with accuracy $ 10^{-6} $ starting from $ p_0 = 1.5 $. How many iterations does it take to achieve this accuracy?\n",
    "\n",
    "(b)\n",
    "For Newton’s method\n",
    "\n",
    "$$\n",
    "p_n = p_{n-1} - \\frac{f(p_{n-1})}{f'(p_{n-1})}\n",
    "$$\n",
    "\n",
    "with the given $ f(x) $, what happens to $ f'(p_{n-1}) $ when $ p_{n-1} $ is close to 1? Explain why the convergence is slow in (a).\n",
    "\n",
    "(c)\n",
    "Try the modified Newton’s method, by running Newton’s method on $ \\mu(x) = \\frac{f(x)}{f'(x)} $, with $ p_0 = 1.5 $. How many iterations does it take to achieve the accuracy $ 10^{-6} $?\n"
   ]
  },
  {
   "cell_type": "code",
   "execution_count": 10,
   "metadata": {},
   "outputs": [
    {
     "data": {
      "text/latex": [
       "$\\displaystyle \\left(x - 1\\right)^{20} \\cos{\\left(x \\right)} + 20 \\left(x - 1\\right)^{19} \\sin{\\left(x \\right)}$"
      ],
      "text/plain": [
       "(x - 1)**20*cos(x) + 20*(x - 1)**19*sin(x)"
      ]
     },
     "execution_count": 10,
     "metadata": {},
     "output_type": "execute_result"
    }
   ],
   "source": [
    "import sympy as sp\n",
    "\n",
    "# Define the variable\n",
    "x = sp.symbols('x')\n",
    "\n",
    "# Define the function\n",
    "f = (x - 1)**20 * sp.sin(x)\n",
    "\n",
    "# Compute the derivative\n",
    "f_derivative = sp.diff(f, x)\n",
    "\n",
    "# Display the result\n",
    "f_derivative\n"
   ]
  },
  {
   "cell_type": "code",
   "execution_count": 19,
   "metadata": {},
   "outputs": [
    {
     "name": "stdout",
     "output_type": "stream",
     "text": [
      "Approximation of root: 1.0000186113\n",
      "It took 199 iterations to reach root with accuracy 1e-06\n"
     ]
    }
   ],
   "source": [
    "# a\n",
    "from NumericalMethodsCode.newton import newton\n",
    "import numpy as np\n",
    "import scipy as sp\n",
    "\n",
    "\n",
    "\n",
    "f = lambda x: (x - 1)**20 * np.sin(x)\n",
    "fder = lambda x: (x - 1)**20 * np.cos(x) + 20 * (x-1)**19 * np.sin(x)\n",
    "\n",
    "p0 = 1.5\n",
    "tol = 1e-6\n",
    "\n",
    "p, iter = newton(f, fder, p0, tol, maxN=200)\n",
    "\n",
    "# Output the number of iterations and rounded solution\n",
    "print(f\"Approximation of root: {p:.10f}\")\n",
    "print(f\"It took {iter} iterations to reach root with accuracy {tol}\")"
   ]
  },
  {
   "cell_type": "markdown",
   "metadata": {},
   "source": [
    "(b)\n",
    "When $p_{n-1}$ is close to 1, $f(p_{n-1})$ becomes very close to 0 because $f(p_{n-1})$ represents the function value at $p_{n-1}$. However, the derivative $f'(p_{n-1})$ also approaches 0 as $p_{n-1}$ gets close to 1. This leads to large jumps in the next iteration of Newton's method and slow convergence. Also, $g'(p)$ is not defined, so there is no quadratic convergence."
   ]
  },
  {
   "cell_type": "code",
   "execution_count": null,
   "metadata": {},
   "outputs": [],
   "source": [
    "import sympy as sp\n",
    "\n",
    "# Define the variable\n",
    "x = sp.symbols('x')\n",
    "\n",
    "# Define the function\n",
    "mu = ((x - 1)**20 * sp.sin(x)) / ((x - 1)**20 * sp.cos(x) + 20 * (x-1)**19 * sp.sin(x))\n",
    "\n",
    "# Compute the derivative\n",
    "mu_derivative = sp.diff(mu, x)\n",
    "\n",
    "# Display the result\n",
    "mu_derivative"
   ]
  },
  {
   "cell_type": "code",
   "execution_count": 41,
   "metadata": {},
   "outputs": [
    {
     "name": "stdout",
     "output_type": "stream",
     "text": [
      "Approximation of root: -653.1811565657\n",
      "It took 2 iterations to reach root with accuracy 1e-06\n"
     ]
    }
   ],
   "source": [
    "# c\n",
    "\n",
    "mu = lambda x: ((x - 1)**20 * np.sin(x)) / ((x - 1)**20 * np.cos(x) + 20 * (x-1)**19 * np.sin(x))\n",
    "muder = lambda x: (\n",
    "    (x - 1)**20 * np.cos(x) + 20 * (x - 1)**19 * np.sin(x) +\n",
    "    ((x - 1)**20 * np.cos(x) + 20 * (x - 1)**19 * np.sin(x))**2 +\n",
    "    (x - 1)**20 * ((x - 1)**20 * np.sin(x) - \n",
    "                   40 * (x - 1)**19 * np.cos(x) - \n",
    "                   380 * (x - 1)**18 * np.sin(x)) * np.sin(x)\n",
    ")\n",
    "\n",
    "p, iter = newton(mu, muder, p0, tol, 200)\n",
    "# Output the number of iterations and rounded solution\n",
    "print(f\"Approximation of root: {p:.10f}\")\n",
    "print(f\"It took {iter} iterations to reach root with accuracy {tol}\")\n"
   ]
  }
 ],
 "metadata": {
  "kernelspec": {
   "display_name": "base",
   "language": "python",
   "name": "python3"
  },
  "language_info": {
   "codemirror_mode": {
    "name": "ipython",
    "version": 3
   },
   "file_extension": ".py",
   "mimetype": "text/x-python",
   "name": "python",
   "nbconvert_exporter": "python",
   "pygments_lexer": "ipython3",
   "version": "3.10.9"
  }
 },
 "nbformat": 4,
 "nbformat_minor": 2
}
