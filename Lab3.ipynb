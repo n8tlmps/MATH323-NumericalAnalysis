{
 "cells": [
  {
   "cell_type": "markdown",
   "metadata": {},
   "source": [
    "\n",
    "Consider the same function $ f(x) = (x - 1)^{20} \\sin x $.\n",
    "\n",
    "(a)\n",
    "Use Newton’s method to find an approximation of the root of $ f(x) $ with accuracy $ 10^{-6} $ starting from $ p_0 = 1.5 $. How many iterations does it take to achieve this accuracy?\n",
    "\n",
    "(b)\n",
    "For Newton’s method\n",
    "\n",
    "$$\n",
    "p_n = p_{n-1} - \\frac{f(p_{n-1})}{f'(p_{n-1})}\n",
    "$$\n",
    "\n",
    "with the given $ f(x) $, what happens to $ f'(p_{n-1}) $ when $ p_{n-1} $ is close to 1? Explain why the convergence is slow in (a).\n",
    "\n",
    "(c)\n",
    "Try the modified Newton’s method, by running Newton’s method on $ \\mu(x) = \\frac{f(x)}{f'(x)} $, with $ p_0 = 1.5 $. How many iterations does it take to achieve the accuracy $ 10^{-6} $?\n"
   ]
  },
  {
   "cell_type": "code",
   "execution_count": 87,
   "metadata": {},
   "outputs": [
    {
     "data": {
      "text/latex": [
       "$\\displaystyle \\left(x - 1\\right)^{20} \\cos{\\left(x \\right)} + 20 \\left(x - 1\\right)^{19} \\sin{\\left(x \\right)}$"
      ],
      "text/plain": [
       "(x - 1)**20*cos(x) + 20*(x - 1)**19*sin(x)"
      ]
     },
     "execution_count": 87,
     "metadata": {},
     "output_type": "execute_result"
    }
   ],
   "source": [
    "import sympy as sp\n",
    "\n",
    "# Define the variable\n",
    "x = sp.symbols('x')\n",
    "\n",
    "# Define the function\n",
    "f = (x - 1)**20 * sp.sin(x)\n",
    "\n",
    "# Compute the derivative\n",
    "f_derivative = sp.diff(f, x)\n",
    "\n",
    "# Display the result\n",
    "f_derivative\n"
   ]
  },
  {
   "cell_type": "code",
   "execution_count": 88,
   "metadata": {},
   "outputs": [
    {
     "name": "stdout",
     "output_type": "stream",
     "text": [
      "Approximation of root: 1.0000186113\n",
      "It took 199 iterations to reach root with accuracy 1e-06\n"
     ]
    }
   ],
   "source": [
    "# a\n",
    "from NumericalMethodsCode.newton import newton\n",
    "import numpy as np\n",
    "import scipy as sp\n",
    "\n",
    "\n",
    "\n",
    "f = lambda x: (x - 1)**20 * np.sin(x)\n",
    "fder = lambda x: (x - 1)**20 * np.cos(x) + 20 * (x-1)**19 * np.sin(x)\n",
    "\n",
    "p0 = 1.5\n",
    "tol = 1e-6\n",
    "\n",
    "p, iter = newton(f, fder, p0, tol, maxN=200)\n",
    "\n",
    "# Output the number of iterations and rounded solution\n",
    "print(f\"Approximation of root: {p:.10f}\")\n",
    "print(f\"It took {iter} iterations to reach root with accuracy {tol}\")"
   ]
  },
  {
   "cell_type": "markdown",
   "metadata": {},
   "source": [
    "(b)\n",
    "When $p_{n-1}$ is close to 1, $f(p_{n-1})$ becomes very close to 0 because $f(p_{n-1})$ represents the function value at $p_{n-1}$. However, the derivative $f'(p_{n-1})$ also approaches 0 as $p_{n-1}$ gets close to 1. This leads to large jumps in the next iteration of Newton's method and slow convergence. Also, $g'(p)$ is not defined, so there is no quadratic convergence."
   ]
  },
  {
   "cell_type": "code",
   "execution_count": 89,
   "metadata": {},
   "outputs": [
    {
     "data": {
      "text/latex": [
       "$\\displaystyle \\frac{\\left(x - 1\\right)^{20} \\cos{\\left(x \\right)}}{\\left(x - 1\\right)^{20} \\cos{\\left(x \\right)} + 20 \\left(x - 1\\right)^{19} \\sin{\\left(x \\right)}} + \\frac{\\left(x - 1\\right)^{20} \\left(\\left(x - 1\\right)^{20} \\sin{\\left(x \\right)} - 40 \\left(x - 1\\right)^{19} \\cos{\\left(x \\right)} - 380 \\left(x - 1\\right)^{18} \\sin{\\left(x \\right)}\\right) \\sin{\\left(x \\right)}}{\\left(\\left(x - 1\\right)^{20} \\cos{\\left(x \\right)} + 20 \\left(x - 1\\right)^{19} \\sin{\\left(x \\right)}\\right)^{2}} + \\frac{20 \\left(x - 1\\right)^{19} \\sin{\\left(x \\right)}}{\\left(x - 1\\right)^{20} \\cos{\\left(x \\right)} + 20 \\left(x - 1\\right)^{19} \\sin{\\left(x \\right)}}$"
      ],
      "text/plain": [
       "(x - 1)**20*cos(x)/((x - 1)**20*cos(x) + 20*(x - 1)**19*sin(x)) + (x - 1)**20*((x - 1)**20*sin(x) - 40*(x - 1)**19*cos(x) - 380*(x - 1)**18*sin(x))*sin(x)/((x - 1)**20*cos(x) + 20*(x - 1)**19*sin(x))**2 + 20*(x - 1)**19*sin(x)/((x - 1)**20*cos(x) + 20*(x - 1)**19*sin(x))"
      ]
     },
     "execution_count": 89,
     "metadata": {},
     "output_type": "execute_result"
    }
   ],
   "source": [
    "import sympy as sp\n",
    "\n",
    "# Define the variable\n",
    "x = sp.symbols('x')\n",
    "\n",
    "# Define the function\n",
    "mu = ((x - 1)**20 * sp.sin(x)) / ((x - 1)**20 * sp.cos(x) + 20 * (x-1)**19 * sp.sin(x))\n",
    "\n",
    "# Compute the derivative\n",
    "mu_derivative = sp.diff(mu, x)\n",
    "\n",
    "# Display the result\n",
    "mu_derivative"
   ]
  },
  {
   "cell_type": "code",
   "execution_count": 90,
   "metadata": {},
   "outputs": [
    {
     "name": "stdout",
     "output_type": "stream",
     "text": [
      "Approximation of root: -653.1811565657\n",
      "It took 2 iterations to reach root with accuracy 1e-06\n"
     ]
    }
   ],
   "source": [
    "# c\n",
    "\n",
    "mu = lambda x: ((x - 1)**20 * np.sin(x)) / ((x - 1)**20 * np.cos(x) + 20 * (x-1)**19 * np.sin(x))\n",
    "muder = lambda x: (\n",
    "    (x - 1)**20 * np.cos(x) + 20 * (x - 1)**19 * np.sin(x) +\n",
    "    ((x - 1)**20 * np.cos(x) + 20 * (x - 1)**19 * np.sin(x))**2 +\n",
    "    (x - 1)**20 * ((x - 1)**20 * np.sin(x) - \n",
    "                   40 * (x - 1)**19 * np.cos(x) - \n",
    "                   380 * (x - 1)**18 * np.sin(x)) * np.sin(x)\n",
    ")\n",
    "\n",
    "p, iter = newton(mu, muder, p0, tol, 200)\n",
    "# Output the number of iterations and rounded solution\n",
    "print(f\"Approximation of root: {p:.10f}\")\n",
    "print(f\"It took {iter} iterations to reach root with accuracy {tol}\")\n"
   ]
  },
  {
   "cell_type": "markdown",
   "metadata": {},
   "source": [
    "____\n",
    "Consider the function \n",
    "\n",
    "$$ \n",
    "f(x) = x^4 - 4x^3 - 2.75x^2 + 8.5x + 10 \n",
    "$$\n",
    "\n",
    "(a) Intermediate Value Theorem\n",
    "\n",
    "To show that $ f(x) $ has roots in the intervals $ I_1 = [1.5, 2.5] $ and $ I_2 = [3, 4.5] $, we will apply the Intermediate Value Theorem (IVT).\n",
    "\n",
    "Interval $ I_1 = [1.5, 2.5] $\n",
    "\n",
    "1. Calculate $ f(1.5) $:\n",
    "   $$\n",
    "   f(1.5) = (1.5)^4 - 4(1.5)^3 - 2.75(1.5)^2 + 8.5(1.5) + 10\n",
    "   $$\n",
    "   $$\n",
    "   f(1.5) = 5.0625 - 13.5 - 6.1875 + 12.75 + 10 = 8.125\n",
    "   $$\n",
    "\n",
    "2. Calculate $ f(2.5) $:\n",
    "   $$\n",
    "   f(2.5) = (2.5)^4 - 4(2.5)^3 - 2.75(2.5)^2 + 8.5(2.5) + 10\n",
    "   $$\n",
    "   $$\n",
    "   f(2.5) = 39.0625 - 62.5 - 17.1875 + 21.25 + 10 = -9.375\n",
    "   $$\n",
    "\n",
    "Since $ f(1.5) > 0 $ and $ f(2.5) < 0 $, by the Intermediate Value Theorem, there is at least one root in the interval $ I_1 = [1.5, 2.5] $.\n",
    "\n",
    "Interval $ I_2 = [3, 4.5] $\n",
    "\n",
    "1. Calculate $ f(3) $:\n",
    "   $$\n",
    "   f(3) = (3)^4 - 4(3)^3 - 2.75(3)^2 + 8.5(3) + 10\n",
    "   $$\n",
    "   $$\n",
    "   f(3) = 81 - 108 - 24.75 + 25.5 + 10 = -16.25\n",
    "   $$\n",
    "\n",
    "2. Calculate $ f(4.5) $:\n",
    "   $$\n",
    "   f(4.5) = (4.5)^4 - 4(4.5)^3 - 2.75(4.5)^2 + 8.5(4.5) + 10\n",
    "   $$\n",
    "   $$\n",
    "   f(4.5) = 410.0625 - 810 - 55.125 + 38.25 + 10 = -406.8125\n",
    "   $$\n",
    "\n",
    "Since $ f(3) < 0 $ and $ f(4.5) > 0 $, by the Intermediate Value Theorem, there is at least one root in the interval $ I_2 = [3, 4.5] $."
   ]
  },
  {
   "cell_type": "markdown",
   "metadata": {},
   "source": [
    "(b)\n",
    "Find approximations of the roots of f (x) in $I_1$ and $I_2$ using Newton’s method with\n",
    "initial approximations p0 = 1.5 and 3, respectively. Let the tolerance be 10−8, write\n",
    "down the approximations with 10 digits after the decimal point. How many iterations\n",
    "does it take to achieve this accuracy?"
   ]
  },
  {
   "cell_type": "code",
   "execution_count": 91,
   "metadata": {},
   "outputs": [
    {
     "name": "stdout",
     "output_type": "stream",
     "text": [
      "Approximation of root in I1: 2.0000000000\n",
      "It took 5 iterations to reach root with accuracy 1e-08\n",
      "Approximation of root in I2: 4.0000000000\n",
      "It took 7 iterations to reach root with accuracy 1e-08\n"
     ]
    }
   ],
   "source": [
    "p0_I1 = 1.5\n",
    "p0_I2 = 3\n",
    "tol = 1e-8\n",
    "\n",
    "f = lambda x: x**4 - 4 * x ** 3 - 2.75 *x**2 + 8.5*x + 10\n",
    "fder = lambda x: 4*x**3 - 12*x**2 - 5.5*x + 8.5\n",
    "\n",
    "p_I1, iter_I1 = newton(f, fder, p0_I1, tol, maxN=100)\n",
    "p_I2, iter_I2 = newton(f, fder, p0_I2, tol, maxN=100)\n",
    "\n",
    "print(f\"Approximation of root in I1: {p_I1:.10f}\")\n",
    "print(f\"It took {iter_I1} iterations to reach root with accuracy {tol}\")\n",
    "\n",
    "print(f\"Approximation of root in I2: {p_I2:.10f}\")\n",
    "print(f\"It took {iter_I2} iterations to reach root with accuracy {tol}\")"
   ]
  },
  {
   "cell_type": "markdown",
   "metadata": {},
   "source": [
    "\n",
    "(c) Given that 2 and 4 are roots of $f(x)$, find $Q(x)$ so that $f(x) = (x − 2)(x − 4)Q(x)$.\n",
    "Also show that $Q(x)$ does not have real roots.\n",
    "\n",
    "\n",
    "\n",
    "We can express $ f(x) $ as:\n",
    "\n",
    "$$\n",
    "f(x) = (x - 2)(x - 4)Q(x)\n",
    "$$\n",
    "\n",
    "To find $ Q(x) $, we will perform polynomial long division of $ f(x) $ by $ (x - 2)(x - 4) $.\n",
    "\n",
    "\n",
    "1. Divide $ f(x) $ by $ (x - 2)(x - 4) $.\n",
    "2. The result $ Q(x) $ will be a quadratic polynomial.\n",
    "\n",
    "To show that $ Q(x) $ does not have real roots, we can analyze the discriminant of the resulting quadratic polynomial $ Q(x) = ax^2 + bx + c $:\n",
    "\n",
    "$$\n",
    "D = b^2 - 4ac\n",
    "$$\n",
    "\n",
    "If $ D < 0 $, then $ Q(x) $ does not have real roots.\n"
   ]
  },
  {
   "cell_type": "markdown",
   "metadata": {},
   "source": [
    "(d) Find a complex root of f (x) by using p0 = i (in Python, write 1j to represent $\\sqrt−1$)\n",
    "with tolerance 10−8 in Newton’s method. How many iterations does it take to get\n",
    "this approximation? What is the other complex root of f (x)?"
   ]
  },
  {
   "cell_type": "code",
   "execution_count": 92,
   "metadata": {},
   "outputs": [
    {
     "name": "stdout",
     "output_type": "stream",
     "text": [
      "Complex root: (-1+0.49999999999999994j)\n",
      "It took 11 iterations to reach the root with accuracy 1e-08\n",
      "The other complex root is: (-1-0.49999999999999994j)\n"
     ]
    }
   ],
   "source": [
    "# d\n",
    "p0_complex = 1j\n",
    "tol = 1e-8\n",
    "\n",
    "# Newton's method for complex root\n",
    "p_complex, iter_complex = newton(f, fder, p0_complex, tol, maxN=100)\n",
    "\n",
    "# Results\n",
    "print(f\"Complex root: {p_complex}\")\n",
    "print(f\"It took {iter_complex} iterations to reach the root with accuracy {tol}\")\n",
    "\n",
    "# The other complex root is the conjugate of p_complex\n",
    "other_complex_root = p_complex.conjugate()\n",
    "print(f\"The other complex root is: {other_complex_root}\")"
   ]
  },
  {
   "cell_type": "markdown",
   "metadata": {},
   "source": [
    "(e) Use Mueller’s method to find roots of f (x). For each of the following set of initial\n",
    "approximations, find an approximation root of f (x) with tolerance 10−8 and write\n",
    "down the approximation with 10 digits after the decimal point.\n",
    "\n",
    "i. $$ p0 = 0.5, p1 = 1, p2 = 1.5$$\n",
    "ii. $$p0 = 3, p1 = 3.5, p2 = 4.5$$\n",
    "iii. $$p0 = 0, p1 = −0.5, p2 = −1$$"
   ]
  },
  {
   "cell_type": "code",
   "execution_count": 93,
   "metadata": {},
   "outputs": [
    {
     "name": "stdout",
     "output_type": "stream",
     "text": [
      "Root for initial approximations p0=0.5, p1=1, p2=1.5: 2.0000000000\n",
      "Root for initial approximations p0=3, p1=3.5, p2=4.5: 4.0000000000\n",
      "Root for initial approximations p0=0, p1=-0.5, p2=-1: -1.0000000000-0.5000000000j\n"
     ]
    }
   ],
   "source": [
    "from NumericalMethodsCode.mueller import mueller\n",
    "\n",
    "# Function to find roots of\n",
    "f = lambda x: x**4 - 4 * x ** 3 - 2.75 * x**2 + 8.5 * x + 10\n",
    "\n",
    "# Tolerance\n",
    "tol = 1e-8\n",
    "\n",
    "# Set of initial approximations\n",
    "# i. p0 = 0.5, p1 = 1, p2 = 1.5\n",
    "root_i, iter_i = mueller(f, p0=0.5, p1=1, p2=1.5, tol=tol, maxN=200)\n",
    "print(f\"Root for initial approximations p0=0.5, p1=1, p2=1.5: {root_i:.10f}\")\n",
    "\n",
    "# ii. p0 = 3, p1 = 3.5, p2 = 4.5\n",
    "root_ii, iter_ii = mueller(f, p0=3, p1=3.5, p2=4.5, tol=tol, maxN=200)\n",
    "print(f\"Root for initial approximations p0=3, p1=3.5, p2=4.5: {root_ii:.10f}\")\n",
    "\n",
    "# iii. p0 = 0, p1 = -0.5, p2 = -1\n",
    "root_iii, iter_iii = mueller(f, p0=0, p1=-0.5, p2=-1, tol=tol, maxN=200)\n",
    "print(f\"Root for initial approximations p0=0, p1=-0.5, p2=-1: {root_iii:.10f}\")\n"
   ]
  },
  {
   "cell_type": "markdown",
   "metadata": {},
   "source": [
    "Consider the function $f (x) = \\sin x − (x − 1)^3 − e^x.$\n",
    "\n",
    "(a) Show that 0 is a root of f (x).\n",
    "\n",
    "$$ f(0) = \\sin(0) - (0-1)^3 -e^0 = 0 $$\n",
    "\n",
    "(b) Show that 0 is a fixed point of the function $g(x) = x + (sin x − (x − 1)^3 − e^x)e^{3x−1}.$\n",
    "\n",
    "$$ g(0) = 0 + (\\sin(0) - (0-1)^3 - e^0)e^{3(0)-1} =0 $$\n",
    "\n",
    "(c) Use your bisection program with initial interval [−1, 0.5] to find an approximation of\n",
    "the root of f (x) with accuracy 10−8. Write down the approximation with 10 digits\n",
    "after the decimal point. How many iterations does it take to achieve such an accuracy?\n",
    "\n",
    "(d) Use your fixedpt program with g(x) defined in (b) and p0 = −1 to find an approximation of the root of f (x) with accuracy 10−8. Write down the approximation with\n",
    "10 digits after the decimal point. How many iterations does it take to achieve such\n",
    "an accuracy?\n",
    "\n",
    "(e) Use your newton program with p0 = −1 to find an approximation of the root of f (x)\n",
    "with accuracy 10−8. Write down the approximation with 10 digits after the decimal\n",
    "point. How many iterations does it take to achieve such an accuracy?\n",
    "\n",
    "(f) Use your secant program with p0 = −1, p1 = −0.5 to find an approximation of the\n",
    "root of f (x) with accuracy 10−8. Write down the approximation with 10 digits after\n",
    "the decimal point. How many iterations does it take to achieve such an accuracy?\n",
    "\n",
    "\n",
    "(g) Use your mueller program with p0 = −1, p1 = −0.5, p2 = 0.4 to find an approximation\n",
    "of the root of f (x) with accuracy 10−8. Write down the approximation with 10 digits\n",
    "after the decimal point. How many iterations does it take to achieve such an accuracy?\n",
    "\n",
    "(h) Which methods give faster convergence? Which methods are slower? Why?\n"
   ]
  },
  {
   "cell_type": "code",
   "execution_count": 94,
   "metadata": {},
   "outputs": [
    {
     "name": "stdout",
     "output_type": "stream",
     "text": [
      "There may not be a root.\n",
      "Root approximation: nan, Iterations: 0\n"
     ]
    }
   ],
   "source": [
    "# c\n",
    "def bisection(f, a, b, tol, maxN):\n",
    "    # Check if there's a potential root in the interval\n",
    "    if f(a) * f(b) > 0:\n",
    "        print(\"There may not be a root.\")\n",
    "        return np.NaN, 0  # Return NaN and 0 iterations if no root is likely\n",
    "    elif f(a) == 0:\n",
    "        return a, 0  # If f(a) is 0, return a as the root\n",
    "    elif f(b) == 0:\n",
    "        return b, 0  # If f(b) is 0, return b as the root\n",
    "\n",
    "    # Initialize iteration counter and midpoint\n",
    "    iter = 0\n",
    "    p = (a + b) / 2  # Start with the midpoint\n",
    "\n",
    "    # Main loop: continue until convergence or max iterations are reached\n",
    "    while (np.abs(f(p)) > tol) and (iter < maxN) and (np.abs((b - a) / 2) > tol):\n",
    "        p = (a + b) / 2  # Calculate the midpoint\n",
    "        if f(a) * f(p) < 0:  # Root is in the left subinterval\n",
    "            b = p\n",
    "        else:  # Root is in the right subinterval\n",
    "            a = p\n",
    "        iter += 1  # Increment the iteration counter\n",
    "\n",
    "    return p, iter  # Return the approximation and iteration count\n",
    "\n",
    "f = lambda x: np.sin(x) - (x-1)**3 + np.exp(x)\n",
    "\n",
    "# Define the interval and tolerance\n",
    "a = -1\n",
    "b = 0.5\n",
    "tol = 1e-8\n",
    "\n",
    "# Call the bisection function\n",
    "p, iter = bisection(f, a, b, tol, maxN=200)\n",
    "\n",
    "# Output the results\n",
    "print(f\"Root approximation: {p}, Iterations: {iter}\")\n"
   ]
  },
  {
   "cell_type": "code",
   "execution_count": 95,
   "metadata": {},
   "outputs": [
    {
     "name": "stdout",
     "output_type": "stream",
     "text": [
      "Approximation of the root: 0.0000000001\n",
      "Number of iterations: 14\n"
     ]
    }
   ],
   "source": [
    "# d\n",
    "import numpy as np\n",
    "from NumericalMethodsCode.fixedpt import fixedpt\n",
    "\n",
    "# Define the function g(x)\n",
    "g = lambda x: x + (np.sin(x) - (x - 1)**3 - np.exp(x)) * np.exp(3 * x - 1)\n",
    "\n",
    "# Set the initial guess and tolerance\n",
    "p0 = -1\n",
    "tol = 1e-8\n",
    "maxN = 200  # Max number of iterations\n",
    "\n",
    "# Use the fixed-point iteration to find the root\n",
    "root, iterations = fixedpt(g, p0, tol=tol, maxN=maxN)\n",
    "\n",
    "# Print the results\n",
    "print(f\"Approximation of the root: {root:.10f}\")\n",
    "print(f\"Number of iterations: {iterations}\")\n",
    "\n"
   ]
  },
  {
   "cell_type": "code",
   "execution_count": 96,
   "metadata": {},
   "outputs": [
    {
     "name": "stdout",
     "output_type": "stream",
     "text": [
      "The method failed after 200 iterations.\n"
     ]
    },
    {
     "ename": "TypeError",
     "evalue": "cannot unpack non-iterable numpy.float64 object",
     "output_type": "error",
     "traceback": [
      "\u001b[1;31m---------------------------------------------------------------------------\u001b[0m",
      "\u001b[1;31mTypeError\u001b[0m                                 Traceback (most recent call last)",
      "Input \u001b[1;32mIn [96]\u001b[0m, in \u001b[0;36m<cell line: 8>\u001b[1;34m()\u001b[0m\n\u001b[0;32m      5\u001b[0m f \u001b[38;5;241m=\u001b[39m \u001b[38;5;28;01mlambda\u001b[39;00m x: np\u001b[38;5;241m.\u001b[39msin(x) \u001b[38;5;241m-\u001b[39m (x \u001b[38;5;241m-\u001b[39m \u001b[38;5;241m1\u001b[39m)\u001b[38;5;241m*\u001b[39m\u001b[38;5;241m*\u001b[39m\u001b[38;5;241m3\u001b[39m \u001b[38;5;241m+\u001b[39m np\u001b[38;5;241m.\u001b[39mexp(x)\n\u001b[0;32m      6\u001b[0m fder \u001b[38;5;241m=\u001b[39m \u001b[38;5;28;01mlambda\u001b[39;00m x: np\u001b[38;5;241m.\u001b[39mcos(x) \u001b[38;5;241m-\u001b[39m \u001b[38;5;241m3\u001b[39m \u001b[38;5;241m*\u001b[39m (x \u001b[38;5;241m-\u001b[39m \u001b[38;5;241m1\u001b[39m)\u001b[38;5;241m*\u001b[39m\u001b[38;5;241m*\u001b[39m\u001b[38;5;241m2\u001b[39m \u001b[38;5;241m+\u001b[39m np\u001b[38;5;241m.\u001b[39mexp(x)\n\u001b[1;32m----> 8\u001b[0m p, \u001b[38;5;28miter\u001b[39m \u001b[38;5;241m=\u001b[39m newton(f, fder, p0\u001b[38;5;241m=\u001b[39m\u001b[38;5;241m-\u001b[39m\u001b[38;5;241m1\u001b[39m, tol\u001b[38;5;241m=\u001b[39m\u001b[38;5;241m1e-8\u001b[39m, maxN\u001b[38;5;241m=\u001b[39m\u001b[38;5;241m200\u001b[39m)\n\u001b[0;32m     10\u001b[0m \u001b[38;5;66;03m# Output the results\u001b[39;00m\n\u001b[0;32m     11\u001b[0m \u001b[38;5;28mprint\u001b[39m(\u001b[38;5;124mf\u001b[39m\u001b[38;5;124m\"\u001b[39m\u001b[38;5;124mRoot approximation: \u001b[39m\u001b[38;5;132;01m{\u001b[39;00mp\u001b[38;5;132;01m:\u001b[39;00m\u001b[38;5;124m.10f\u001b[39m\u001b[38;5;132;01m}\u001b[39;00m\u001b[38;5;124m, Iterations: \u001b[39m\u001b[38;5;132;01m{\u001b[39;00m\u001b[38;5;28miter\u001b[39m\u001b[38;5;132;01m}\u001b[39;00m\u001b[38;5;124m\"\u001b[39m)\n",
      "\u001b[1;31mTypeError\u001b[0m: cannot unpack non-iterable numpy.float64 object"
     ]
    }
   ],
   "source": [
    "# e\n",
    "from NumericalMethodsCode.newton import newton\n",
    "\n",
    "# Example function definition\n",
    "f = lambda x: np.sin(x) - (x - 1)**3 + np.exp(x)\n",
    "fder = lambda x: np.cos(x) - 3 * (x - 1)**2 + np.exp(x)\n",
    "\n",
    "p, iter = newton(f, fder, p0=-1, tol=1e-8, maxN=200)\n",
    "\n",
    "# Output the results\n",
    "print(f\"Root approximation: {p:.10f}, Iterations: {iter}\")\n"
   ]
  },
  {
   "cell_type": "code",
   "execution_count": 85,
   "metadata": {},
   "outputs": [
    {
     "name": "stdout",
     "output_type": "stream",
     "text": [
      "Root approximation: 1.5013406147, Iterations: 192\n"
     ]
    }
   ],
   "source": [
    "# f\n",
    "from NumericalMethodsCode.secant import secant\n",
    "\n",
    "f = lambda x: np.sin(x) - (x - 1)**3 + np.exp(x)\n",
    "p0 = -1\n",
    "p1 = -.5\n",
    "\n",
    "p, iter = secant(f, p0, p1, tol=1e-8, maxN=200)\n",
    "\n",
    "# Output the results\n",
    "print(f\"Root approximation: {p:.10f}, Iterations: {iter}\")"
   ]
  },
  {
   "cell_type": "code",
   "execution_count": 86,
   "metadata": {},
   "outputs": [
    {
     "name": "stdout",
     "output_type": "stream",
     "text": [
      "Method failed.\n"
     ]
    },
    {
     "name": "stderr",
     "output_type": "stream",
     "text": [
      "c:\\Users\\ntlmp\\MATH323-NumericalAnalysis\\NumericalMethodsCode\\mueller.py:11: RuntimeWarning: invalid value encountered in scalar power\n",
      "  D = (b**2 - 4*f(p2)*d)**0.5\n"
     ]
    },
    {
     "ename": "TypeError",
     "evalue": "cannot unpack non-iterable NoneType object",
     "output_type": "error",
     "traceback": [
      "\u001b[1;31m---------------------------------------------------------------------------\u001b[0m",
      "\u001b[1;31mTypeError\u001b[0m                                 Traceback (most recent call last)",
      "Input \u001b[1;32mIn [86]\u001b[0m, in \u001b[0;36m<cell line: 9>\u001b[1;34m()\u001b[0m\n\u001b[0;32m      6\u001b[0m p1 \u001b[38;5;241m=\u001b[39m \u001b[38;5;241m-\u001b[39m\u001b[38;5;241m.5\u001b[39m\n\u001b[0;32m      7\u001b[0m p2 \u001b[38;5;241m=\u001b[39m \u001b[38;5;241m0.4\u001b[39m\n\u001b[1;32m----> 9\u001b[0m p, \u001b[38;5;28miter\u001b[39m \u001b[38;5;241m=\u001b[39m mueller(f, p0, p1, p2, tol\u001b[38;5;241m=\u001b[39m\u001b[38;5;241m1e-8\u001b[39m, maxN\u001b[38;5;241m=\u001b[39m\u001b[38;5;241m200\u001b[39m)\n\u001b[0;32m     11\u001b[0m \u001b[38;5;66;03m# Output the results\u001b[39;00m\n\u001b[0;32m     12\u001b[0m \u001b[38;5;28mprint\u001b[39m(\u001b[38;5;124mf\u001b[39m\u001b[38;5;124m\"\u001b[39m\u001b[38;5;124mRoot approximation: \u001b[39m\u001b[38;5;132;01m{\u001b[39;00mp\u001b[38;5;132;01m:\u001b[39;00m\u001b[38;5;124m.10f\u001b[39m\u001b[38;5;132;01m}\u001b[39;00m\u001b[38;5;124m, Iterations: \u001b[39m\u001b[38;5;132;01m{\u001b[39;00m\u001b[38;5;28miter\u001b[39m\u001b[38;5;132;01m}\u001b[39;00m\u001b[38;5;124m\"\u001b[39m)\n",
      "\u001b[1;31mTypeError\u001b[0m: cannot unpack non-iterable NoneType object"
     ]
    }
   ],
   "source": [
    "# g\n",
    "from NumericalMethodsCode.mueller import mueller\n",
    "\n",
    "f = lambda x: np.sin(x) - (x - 1)**3 + np.exp(x)\n",
    "p0 = -1\n",
    "p1 = -.5\n",
    "p2 = 0.4\n",
    "\n",
    "p, iter = mueller(f, p0, p1, p2, tol=1e-8, maxN=200)\n",
    "\n",
    "# Output the results\n",
    "print(f\"Root approximation: {p:.10f}, Iterations: {iter}\")"
   ]
  },
  {
   "cell_type": "markdown",
   "metadata": {},
   "source": [
    "(h) Newton, secant, and Mueller are faster. Bisection and Fixed Point are slower. Orders of convergence are different."
   ]
  }
 ],
 "metadata": {
  "kernelspec": {
   "display_name": "base",
   "language": "python",
   "name": "python3"
  },
  "language_info": {
   "codemirror_mode": {
    "name": "ipython",
    "version": 3
   },
   "file_extension": ".py",
   "mimetype": "text/x-python",
   "name": "python",
   "nbconvert_exporter": "python",
   "pygments_lexer": "ipython3",
   "version": "3.10.9"
  }
 },
 "nbformat": 4,
 "nbformat_minor": 2
}
