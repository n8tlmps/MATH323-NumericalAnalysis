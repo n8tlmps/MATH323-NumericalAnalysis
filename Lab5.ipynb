{
 "cells": [
  {
   "cell_type": "markdown",
   "metadata": {},
   "source": [
    "# Lab 6: Hermite Polynomials Using Divided Differences/Hermite Interpolation"
   ]
  },
  {
   "cell_type": "markdown",
   "metadata": {},
   "source": [
    "Given the data\n",
    "\n",
    "| x  | f(x)   | f'(x)  |\n",
    "|----|--------|--------|\n",
    "| -1 | -0.7294| 1.5497 |\n",
    "| 0  | 0.3069 | -0.5000|\n",
    "| 1  | -1.7294| -2.5497|\n",
    "| 2  | -2.7806| 0.6328 |\n"
   ]
  },
  {
   "cell_type": "markdown",
   "metadata": {},
   "source": [
    "### (a)\n",
    "- Use your PYthon function `newtonDivDiff` to find the coefficients of the Lagrange interpolating polynomial. Write down the Lagrange interpolating polynomial.\n",
    "\n",
    "### (b)\n",
    "- Use your Python function `hermiteDivDiff` to find the coefficients of the Hermite polynomial. Write down the Hermite interpolating polynomial.\n",
    "\n",
    "### (c)\n",
    "- import `numpy` as `np`. ON the same figure, in the interval [-1.5, 2.5] usign `xp = np.linspace(-1.5, 2.5, 201)`.\n",
    "    - plot the function $f(x) = \\cos(2x) - \\ln(e^x +1)$ (the function that was used to produce the data) with blue solid line\n",
    "    - plot the Lagrange interpolating polynomial you found in (a) with green line, and\n",
    "    - plot the Hermite polynomial you found in (b) with red line\n",
    "    \n",
    "Add a legend to indicate whic hcurve represents the graph of which function.\n",
    "\n",
    "### (d)\n",
    "Plot the absolute differences between the true solution and the two approximating polynomials found in (a) and (b). Add a legend to indicate which curve represents the graph of which difference.\n",
    "\n",
    "Which polynomial gives a better approximation of the function\n",
    "f(x) in [−1, 2]? For the extrapolations in [-1.5, -1] and (2, 2.5], how well do the two polynomials approximate the function?"
   ]
  },
  {
   "cell_type": "code",
   "execution_count": 10,
   "metadata": {},
   "outputs": [],
   "source": [
    "import sys\n",
    "import os\n",
    "\n",
    "sys.path.append(r\"C:\\\\Users\\\\ntlmp\\\\MATH323-NumericalAnalysis\")\n",
    "\n",
    "# Import your function\n",
    "from NumericalMethodsCode.newtonDivDiff import newtonDivDiff"
   ]
  },
  {
   "cell_type": "code",
   "execution_count": 13,
   "metadata": {},
   "outputs": [
    {
     "name": "stdout",
     "output_type": "stream",
     "text": [
      "FDCoeff: [-0.7294      1.0363     -1.5363      0.67628333]\n",
      "x: [-1, 0, 1, 2]\n"
     ]
    }
   ],
   "source": [
    "# part a\n",
    "x = [-1, 0, 1, 2]\n",
    "f = [-0.7294, 0.3069, -1.7294, -2.7806]\n",
    "fd = [1.5497, -0.5000, -2.5497, 0.6328]\n",
    "\n",
    "from NumericalMethodsCode.newtonDivDiff import newtonDivDiff\n",
    "\n",
    "FDCoef1, BDCoef1 = newtonDivDiff(x, f)\n",
    "\n",
    "print(f\"FDCoeff: {FDCoef1}\")\n",
    "print(f\"x: {x}\")"
   ]
  },
  {
   "cell_type": "markdown",
   "metadata": {},
   "source": [
    "The Lagrange interpolating polynomial is written as: $P_5(x) = -0.7294 + 1.0363(x+1) - 1.5363(x+1)x + 0.67628333(x+1)(x)(x-1)$"
   ]
  },
  {
   "cell_type": "code",
   "execution_count": 19,
   "metadata": {},
   "outputs": [
    {
     "name": "stdout",
     "output_type": "stream",
     "text": [
      "FDCoeff: [-7.29400000e-01  1.54970000e+00 -5.13400000e-01 -1.02290000e+00\n",
      "  5.11450000e-01  1.11022302e-16 -5.77694444e-02  1.61935185e-02]\n",
      "x: [-1, 0, 1, 2]\n"
     ]
    }
   ],
   "source": [
    "# part b\n",
    "from NumericalMethodsCode.hermiteDivDiff import hermiteDivDiff\n",
    "FDCoef2 = hermiteDivDiff(x, f, fd)\n",
    "\n",
    "print(f\"FDCoeff: {FDCoef2}\")\n",
    "print(f\"x: {x}\")"
   ]
  },
  {
   "cell_type": "markdown",
   "metadata": {},
   "source": [
    "The Hermite interpolating polynomial is written as: $H_9(x) = -0.7294 + 1.5497(x+1) - 0.5134(x+1)^2 - 1.0229(x+1)^2 x - 0.51145(x+1)^2 x^2 + 1e^{-16} (x+1)^2(x^2)(x-1) - 0.0577(x+1)^2 x^2 (x-1)^2 + 0.016194(x+1)^2 x^2 (x-1)^2 (x-2)$."
   ]
  },
  {
   "cell_type": "code",
   "execution_count": 35,
   "metadata": {},
   "outputs": [
    {
     "data": {
      "image/png": "[encoded data removed]",
      "text/plain": [
       "<Figure size 432x288 with 1 Axes>"
      ]
     },
     "metadata": {
      "needs_background": "light"
     },
     "output_type": "display_data"
    }
   ],
   "source": [
    "# part c\n",
    "\n",
    "import matplotlib.pyplot as plt\n",
    "import numpy as np\n",
    "\n",
    "# Define the true function\n",
    "f = lambda x: np.cos(2*x) - np.log(np.exp(x) + 1)\n",
    "\n",
    "# Define the range for x values\n",
    "xp = np.linspace(-1.5, 2.5, 201)\n",
    "\n",
    "# Define the Lagrange interpolating polynomial\n",
    "lagrange_interpolating_polynomial = lambda x: (-0.7294 + 1.0363*(x+1) \n",
    "                                               - 1.5363*(x+1)*x \n",
    "                                               + 0.67628*(x+1)*x*(x-1))\n",
    "\n",
    "# Define the Hermite interpolating polynomial\n",
    "H_9 = lambda x: (-0.7294 \n",
    "                 + 1.5497 * (x + 1) \n",
    "                 - 0.5134 * (x + 1)**2 \n",
    "                 - 1.0229 * (x + 1)**2 * x \n",
    "                 + 0.51145 * (x + 1)**2 * x**2 \n",
    "                 + 1.1102e-16 * (x + 1)**2 * x**2 * (x - 1) \n",
    "                 - 0.05777 * (x + 1)**2 * x**2 * (x - 1)**2 \n",
    "                 + 0.01619 * (x + 1)**2 * x**2 * (x - 1)**2 * (x - 2))\n",
    "\n",
    "# Plot the true function values\n",
    "plt.plot(xp, f(xp), marker='o', markersize=5, color=\"blue\", label=\"True function values\")\n",
    "\n",
    "# Plot the Lagrange interpolating polynomial approximation\n",
    "plt.plot(xp, lagrange_interpolating_polynomial(xp), marker='P', markersize=5, color=\"green\", label=\"Lagrange interpolating polynomial\")\n",
    "\n",
    "# Plot the Hermite polynomial approximation\n",
    "plt.plot(xp, H_9(xp), marker='o', markersize=5, color=\"red\", label=\"Hermite polynomial\")\n",
    "\n",
    "# Add a legend\n",
    "plt.legend()\n",
    "\n",
    "# Add grid\n",
    "plt.grid(True)\n",
    "\n",
    "# Display the plot\n",
    "plt.show()\n",
    "\n"
   ]
  },
  {
   "cell_type": "code",
   "execution_count": 37,
   "metadata": {},
   "outputs": [
    {
     "data": {
      "image/png": "[encoded data removed]",
      "text/plain": [
       "<Figure size 432x288 with 1 Axes>"
      ]
     },
     "metadata": {
      "needs_background": "light"
     },
     "output_type": "display_data"
    }
   ],
   "source": [
    "# part d\n",
    "\n",
    "plt.plot(xp, abs(f(xp) -lagrange_interpolating_polynomial(xp)), marker='*', markersize=5) # true values - lagrange\n",
    "plt.plot(xp, abs(f(xp) - H_9(xp)), marker='*', markersize=5) # true values - taylor\n",
    "plt.legend([\"difference for Lagrange\", \"difference for Hermite\"])\n",
    "plt.grid()\n",
    "plt.show()"
   ]
  },
  {
   "cell_type": "markdown",
   "metadata": {},
   "source": [
    "Hermite approximates better in the interval of [-1, 2]. Outside of [-1, 2], both approximations are less accurate, but Hermite works bettter."
   ]
  }
 ],
 "metadata": {
  "kernelspec": {
   "display_name": "base",
   "language": "python",
   "name": "python3"
  },
  "language_info": {
   "codemirror_mode": {
    "name": "ipython",
    "version": 3
   },
   "file_extension": ".py",
   "mimetype": "text/x-python",
   "name": "python",
   "nbconvert_exporter": "python",
   "pygments_lexer": "ipython3",
   "version": "3.10.9"
  }
 },
 "nbformat": 4,
 "nbformat_minor": 2
}
