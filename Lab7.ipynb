{
 "cells": [
  {
   "cell_type": "markdown",
   "metadata": {},
   "source": [
    "# Lab 7: 1D Composite Simpson's Rule/Gaussian Quadrature"
   ]
  },
  {
   "cell_type": "markdown",
   "metadata": {},
   "source": [
    "### Consider the integral\n",
    "\n",
    "$$\n",
    "\\int_{0.75}^{2.3} \\sin^2 x - 2x \\sin x + 1 \\, dx \\tag{1}\n",
    "$$\n",
    "\n",
    "(a) Use your Python function `compositeSimpson` to approximate the value of the integral (1) with a number of subintervals $n = 2, 4, 8, 16, 32$. Notice that when $n = 2$, the Composite Simpson’s rule is the same as Simpson’s rule.\n",
    "\n",
    "(b) Use your Python function `gaussianQuad` to approximate the value of the integral (1) with a number of points used in the quadrature $n = 2, 3, 4, 5$.\n",
    "\n",
    "(c) Given that the antiderivative of $\\sin^2 x - 2x \\sin x + 1$ is $\\frac{3}{2} x - \\frac{1}{4} \\sin 2x - 2 \\sin x + 2x \\cos x$. Find the absolute error of the approximations you found in (a) and (b).\n",
    "\n",
    "(d) Consider your results with integral (1). In view of the number of points used in the methods, which method, Composite Simpson’s rule or Gaussian quadrature, is more economical? That is, which method uses fewer points in the method and has more accurate approximations?\n",
    "\n",
    "(e) For the errors of the approximations you found in (a), assume the error is of order $p$; that is, assume $\\text{err}(h) = Ch^p$. Rewrite the relation into $\\ln(\\text{err}(h)) = \\ln(C) + p \\ln(h)$. Now collect the absolute errors we should have\n",
    "\n",
    "$$\n",
    "\\begin{bmatrix}\n",
    "1 & \\ln(h_1) \\\\\n",
    "1 & \\ln(h_2) \\\\\n",
    "\\vdots & \\vdots \\\\\n",
    "1 & \\ln(h_k) \\\\\n",
    "\\end{bmatrix}\n",
    "\\begin{bmatrix}\n",
    "\\ln C \\\\\n",
    "p \\\\\n",
    "\\end{bmatrix}\n",
    "=\n",
    "\\begin{bmatrix}\n",
    "\\ln(\\text{err}(h_1)) \\\\\n",
    "\\ln(\\text{err}(h_2)) \\\\\n",
    "\\vdots \\\\\n",
    "\\ln(\\text{err}(h_k)) \\\\\n",
    "\\end{bmatrix}.\n",
    "$$\n",
    "\n",
    "Let the matrix be $A$ and the right-hand side vector be $\\vec{b}$. Use the NumPy command `numpy.linalg.lstsq(A, b)[0]` to find $p$. Is the result consistent with the theoretical order of the error for the Composite Simpson’s method?\n"
   ]
  },
  {
   "cell_type": "code",
   "execution_count": 1,
   "metadata": {},
   "outputs": [
    {
     "name": "stdout",
     "output_type": "stream",
     "text": [
      "n=2: I1 = -1.4537931762047078\n",
      "n=4: I2 = -1.4671468479293726\n",
      "n=8: I3 = -1.4677056220507707\n",
      "n=16: I4 = -1.4677373438196153\n",
      "n=32: I5 = -1.4677392796675288\n"
     ]
    }
   ],
   "source": [
    "# a\n",
    "from NumericalMethodsCode.compositeSimpson import compositeSimpson\n",
    "import numpy as np\n",
    "f = lambda x: np.sin(x)**2 - 2*x*np.sin(x) + 1\n",
    "I1 = compositeSimpson(f, 0.75, 2.3, 2)\n",
    "print('n=2: I1 =',I1)\n",
    "I2 = compositeSimpson(f, 0.75, 2.3, 4)\n",
    "print('n=4: I2 =',I2)\n",
    "I3 = compositeSimpson(f, 0.75, 2.3, 8)\n",
    "print('n=8: I3 =',I3)\n",
    "I4 = compositeSimpson(f, 0.75, 2.3, 16)\n",
    "print('n=16: I4 =',I4)\n",
    "I5 = compositeSimpson(f, 0.75, 2.3, 32)\n",
    "print('n=32: I5 =',I5)"
   ]
  },
  {
   "cell_type": "code",
   "execution_count": 2,
   "metadata": {},
   "outputs": [
    {
     "name": "stdout",
     "output_type": "stream",
     "text": [
      "n=2: J1 = -1.4772971426576487\n",
      "n=3: J2 = -1.4674499819353886\n",
      "n=4: J3 = -1.4677428298057102\n",
      "n=5: J4 = -1.467739384257614\n"
     ]
    }
   ],
   "source": [
    "# b\n",
    "from NumericalMethodsCode.gaussianQuad import gaussianQuad\n",
    "J1 = gaussianQuad(f, 0.75, 2.3, 2)\n",
    "print('n=2: J1 =', J1)\n",
    "J2 = gaussianQuad(f, 0.75, 2.3, 3)\n",
    "print('n=3: J2 =', J2)\n",
    "J3 = gaussianQuad(f, 0.75, 2.3, 4)\n",
    "print('n=4: J3 =', J3)\n",
    "J4 = gaussianQuad(f, 0.75, 2.3, 5)\n",
    "print('n=5: J4 =', J4)"
   ]
  },
  {
   "cell_type": "code",
   "execution_count": 3,
   "metadata": {},
   "outputs": [
    {
     "name": "stdout",
     "output_type": "stream",
     "text": [
      "Absolute Errors:\n",
      "composite Simpson's rule\n",
      "n=2: 0.013946231740606052\n",
      "n=4: 0.0005925600159413236\n",
      "n=8: 3.378589454317016e-05\n",
      "n=16: 2.064125698586494e-06\n",
      "n=32: 1.2827778506085963e-07\n",
      "\n",
      "Gaussian Quadrature\n",
      "n=2: 0.009557734712334787\n",
      "n=3: 0.00028942600992531986\n",
      "n=4: 3.4218603963687144e-06\n",
      "n=5: 2.3687699801655526e-08\n"
     ]
    }
   ],
   "source": [
    "# c\n",
    "# finding the actual value\n",
    "p = lambda x: (3/2)*x - (1/4)*np.sin(2*x) - 2*np.sin(x) + 2*x*np.cos(x)\n",
    "p_b = p(2.3)\n",
    "p_a = p(0.75)\n",
    "p_ = p_b - p_a\n",
    "\n",
    "print('Absolute Errors:')\n",
    "print(\"composite Simpson's rule\")\n",
    "abserr1 = abs(p_ - I1)\n",
    "print('n=2:', abserr1)\n",
    "abserr2 = abs(p_ - I2)\n",
    "print('n=4:', abserr2)\n",
    "abserr3 = abs(p_ - I3)\n",
    "print('n=8:', abserr3)\n",
    "abserr4 = abs(p_ - I4)\n",
    "print('n=16:', abserr4)\n",
    "abserr5 = abs(p_ - I5)\n",
    "print('n=32:', abserr5)\n",
    "print(\"\")\n",
    "print(\"Gaussian Quadrature\")\n",
    "abserr01 = abs(p_ - J1)\n",
    "print('n=2:', abserr01)\n",
    "abserr02 = abs(p_ - J2)\n",
    "print('n=3:', abserr02)\n",
    "abserr03 = abs(p_ - J3)\n",
    "print('n=4:', abserr03)\n",
    "abserr04 = abs(p_ - J4)\n",
    "print('n=5:', abserr04)"
   ]
  },
  {
   "cell_type": "markdown",
   "metadata": {},
   "source": [
    "c)\n",
    "\n",
    "Gaussian quadrature is more economical since it requires fewer points in the method, and it also contains the lowest absolute errors, meaning it has more accurate approximations."
   ]
  },
  {
   "cell_type": "code",
   "execution_count": 9,
   "metadata": {},
   "outputs": [
    {
     "name": "stderr",
     "output_type": "stream",
     "text": [
      "C:\\Users\\ntlmp\\AppData\\Local\\Temp\\ipykernel_32408\\2639518365.py:22: FutureWarning: `rcond` parameter will change to the default of machine precision times ``max(M, N)`` where M and N are the input matrix dimensions.\n",
      "To use the future default and silence this warning we advise to pass `rcond=None`, to keep using the old, explicitly pass `rcond=-1`.\n",
      "  np.linalg.lstsq(A,b)[0]\n"
     ]
    },
    {
     "data": {
      "text/plain": [
       "array([[-3.36022205],\n",
       "       [ 4.16257756]])"
      ]
     },
     "execution_count": 9,
     "metadata": {},
     "output_type": "execute_result"
    }
   ],
   "source": [
    "# d\n",
    "import numpy as np\n",
    "b = 2.3\n",
    "a = 0.75\n",
    "h1 = (b-a)/2\n",
    "h2 = (b-a)/4\n",
    "h3 = (b-a)/8\n",
    "h4 = (b-a)/16\n",
    "h5 = (b-a)/32\n",
    "\n",
    "A = np.array([[1, np.log(h1)],\n",
    "             [1, np.log(h2)],\n",
    "             [1, np.log(h3)],\n",
    "             [1, np.log(h4)],\n",
    "             [1, np.log(h5)]])\n",
    "b = np.array([[np.log(abserr1)],\n",
    "             [np.log(abserr2)],\n",
    "             [np.log(abserr3)],\n",
    "             [np.log(abserr4)],\n",
    "             [np.log(abserr5)]])\n",
    "\n",
    "np.linalg.lstsq(A,b)[0]"
   ]
  },
  {
   "cell_type": "markdown",
   "metadata": {},
   "source": [
    "The result is conistent with the theoretical order of the error for the Composite Simpson's method since it is $O(h^4)$, and the output for p is\n",
    "\n",
    "```\n",
    "array([[-3.36022205],\n",
    "       [ 4.16257756]])\n",
    "```\n",
    "So the error is of order(4.16257756)."
   ]
  }
 ],
 "metadata": {
  "kernelspec": {
   "display_name": "base",
   "language": "python",
   "name": "python3"
  },
  "language_info": {
   "codemirror_mode": {
    "name": "ipython",
    "version": 3
   },
   "file_extension": ".py",
   "mimetype": "text/x-python",
   "name": "python",
   "nbconvert_exporter": "python",
   "pygments_lexer": "ipython3",
   "version": "3.10.9"
  }
 },
 "nbformat": 4,
 "nbformat_minor": 2
}
