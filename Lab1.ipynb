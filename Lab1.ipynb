{
 "cells": [
  {
   "cell_type": "markdown",
   "metadata": {},
   "source": [
    "# Lab 1 Bisection Method/Fixed Point Method"
   ]
  },
  {
   "cell_type": "markdown",
   "metadata": {},
   "source": [
    "Consider the function $f(x) = −cos(3x) + x^2 − 3e^x + 2.$\n",
    "\n",
    "(a) Show that there is a root of f (x) in the interval [−1, 0]."
   ]
  },
  {
   "cell_type": "markdown",
   "metadata": {},
   "source": [
    "$$ f(x) = -cos(3x) + x^2 - 3e^x + 2 $$\n",
    "$$\\text{f(x) is continuous on the interval [-1, 0].}$$\n",
    "$$ f(-1) = -\\cos(3(-1)) + (-1)^2 -3e^{-1} + 2 = 2.88635 > 0 $$\n",
    "$$ f(0) = -\\cos(3(0)) + (0)^2 -3e^{0} + 2 = -2 < 0 $$\n",
    "$$ \\therefore \\text{by IVT}, \\exists\\ c \\in [-1, 0] s.t. f(c) = 0$$"
   ]
  },
  {
   "cell_type": "markdown",
   "metadata": {},
   "source": [
    "(b) Use the Bisection Method, find the first 6 approximations $p1, p2, p3, p4, p5, p6$ of the\n",
    "root of $f (x)$ in $[−1, 0]$. Write down the approximations with 6 digits after the decimal\n",
    "point."
   ]
  },
  {
   "cell_type": "code",
   "execution_count": 41,
   "metadata": {},
   "outputs": [
    {
     "name": "stdout",
     "output_type": "stream",
     "text": [
      "The 1st approximation is: (-0.5, 1)\n",
      "The 2nd approximation is: (-0.25, 2)\n",
      "The 3rd approximation is: (-0.375, 3)\n",
      "The 4th approximation is: (-0.4375, 4)\n",
      "The 5th approximation is: (-0.46875, 5)\n",
      "The 6th approximation is: (-0.453125, 6)\n"
     ]
    }
   ],
   "source": [
    "from NumericalMethodsCode.bisection import bisection\n",
    "import math\n",
    "\n",
    "# Define the function\n",
    "fn = lambda x: -math.cos(3 * x) + x**2 - 3 * math.exp(x) + 2\n",
    "\n",
    "# Call the bisection method\n",
    "p1 = bisection(fn, -1, 0, 1e-7, 1)\n",
    "p2 = bisection(fn, -1, 0, 1e-7, 2)\n",
    "p3 = bisection(fn, -1, 0, 1e-7, 3)\n",
    "p4 = bisection(fn, -1, 0, 1e-7, 4)\n",
    "p5 = bisection(fn, -1, 0, 1e-7, 5)\n",
    "p6 = bisection(fn, -1, 0, 1e-7, 6)\n",
    "\n",
    "\n",
    "\n",
    "# Output the result rounded to 6 digits\n",
    "print(f\"The 1st approximation is: {p1}\")\n",
    "print(f\"The 2nd approximation is: {p2}\")\n",
    "print(f\"The 3rd approximation is: {p3}\")\n",
    "print(f\"The 4th approximation is: {p4}\")\n",
    "print(f\"The 5th approximation is: {p5}\")\n",
    "print(f\"The 6th approximation is: {p6}\")\n",
    "\n"
   ]
  },
  {
   "cell_type": "markdown",
   "metadata": {},
   "source": [
    "(c) Use your bisection program to find an approximation of the root of $f(x)$ in $[−1, 0]$\n",
    "with accuracy $10^{−7}$. Write down the approximation with 10 digits after the decimal\n",
    "point. How many iterations does it take to achieve such an accuracy?"
   ]
  },
  {
   "cell_type": "code",
   "execution_count": 43,
   "metadata": {},
   "outputs": [
    {
     "name": "stdout",
     "output_type": "stream",
     "text": [
      "The root is approximately: (-0.43767035007476807, 23)\n"
     ]
    }
   ],
   "source": [
    "from NumericalMethodsCode.bisection import bisection\n",
    "import math\n",
    "\n",
    "# Define the function\n",
    "fn = lambda x: -math.cos(3 * x) + x**2 - 3 * math.exp(x) + 2\n",
    "\n",
    "# Call the bisection method\n",
    "p = bisection(fn1, -1, 0, 1e-7, 30)\n",
    "\n",
    "# Output the result\n",
    "print(f\"The root is approximately: {p}\")"
   ]
  },
  {
   "cell_type": "markdown",
   "metadata": {},
   "source": [
    "(d) Could we approximate the root with in the accuracy of $10^{−12}$ use fewer than or equal\n",
    "to 30 iterations? To have the accuracy be within $10^{−12}$, how small should the solution\n",
    "interval be? How many times do we have to bisect the initial interval [−1, 0] to get\n",
    "down to that size? Please justify your answers."
   ]
  },
  {
   "cell_type": "markdown",
   "metadata": {},
   "source": [
    "$$ \\text{interval size} = \\frac{b-a}{2^n}, \\space b - a = 0 - (-1) = 1$$\n",
    "$$ \\frac{b-a}{2^n} \\le 10^{-12}$$\n",
    "$$ \\frac{1}{10^{-12}} \\le 2^n $$\n",
    "$$ \\log(\\frac{1}{10^{-12}}) \\le \\log 2^n $$\n",
    "$$ 12 \\le n \\log 2 $$\n",
    "$$ n \\ge 12/ \\log 2 $$\n",
    "$$ n \\ge 39.863 $$\n",
    "$$ n = 40 $$\n",
    "$$ \\therefore \\text{ need 40 iterations to achieve an interval size of } 10^{-12} $$\n",
    "\n",
    "$$ \\text{ 30 or less iterations will not be sufficient.}\n"
   ]
  },
  {
   "cell_type": "markdown",
   "metadata": {},
   "source": [
    "Consider the function $ f(x) = 3 \\sin(4x) - 4x^2 + 3e^{-x} - 4 $.\n",
    "\n",
    "(a) Let $ g_1(x) = -\\ln(\\frac{4}{3} + \\frac{4}{3} x^2 - \\sin(4x)) $. Show by algebra that the problem $ x = g_1(x) $ and $ f(x) = 0 $ have the same roots.\n"
   ]
  },
  {
   "cell_type": "markdown",
   "metadata": {},
   "source": [
    "\n",
    "\n",
    "$$\n",
    "g_1(x) = -\\ln\\left(\\frac{4}{3} + \\frac{4}{3} x^2 - \\sin(4x)\\right)\n",
    "$$\n",
    "\n",
    "Start with the equation $ x = g_1(x) $:\n",
    "\n",
    "$$\n",
    "x = -\\ln\\left(\\frac{4}{3} + \\frac{4}{3} x^2 - \\sin(4x)\\right)\n",
    "$$\n",
    "\n",
    "$$\n",
    "e^{-x} = \\frac{4}{3} + \\frac{4}{3} x^2 - \\sin(4x)\n",
    "$$\n",
    "\n",
    "$$\n",
    "\\frac{4}{3} + \\frac{4}{3} x^2 - \\sin(4x) - e^{-x} = 0\n",
    "$$\n",
    "\n",
    "Define the function $ f(x) $ as follows:\n",
    "\n",
    "$$\n",
    "f(x) = \\frac{4}{3} + \\frac{4}{3} x^2 - \\sin(4x) - e^{-x}\n",
    "$$\n",
    "\n",
    "### Showing the equivalence of roots\n",
    "\n",
    "1. **If $ x = g_1(x) $**:\n",
    "\n",
    "   We established that:\n",
    "\n",
    "   $$\n",
    "   f(x) = 0\n",
    "   $$\n",
    "\n",
    "   This shows that every root of $ x = g_1(x) $ is also a root of $ f(x) = 0 $.\n",
    "\n",
    "2. **If $ f(x) = 0 $**:\n",
    "   $$\n",
    "   \\frac{4}{3} + \\frac{4}{3} x^2 - \\sin(4x) - e^{-x} = 0\n",
    "   $$\n",
    "\n",
    "   $$\n",
    "   e^{-x} = \\frac{4}{3} + \\frac{4}{3} x^2 - \\sin(4x)\n",
    "   $$\n",
    "\n",
    "   $$\n",
    "   -x = \\ln\\left(\\frac{4}{3} + \\frac{4}{3} x^2 - \\sin(4x)\\right)\n",
    "   $$\n",
    "\n",
    "   Thus, we have:\n",
    "\n",
    "   $$\n",
    "   x = -\\ln\\left(\\frac{4}{3} + \\frac{4}{3} x^2 - \\sin(4x)\\right) = g_1(x)\n",
    "   $$\n",
    "\n",
    "We have shown that the roots of $ x = g_1(x) $ and $ f(x) = 0 $ are the same.\n"
   ]
  },
  {
   "cell_type": "markdown",
   "metadata": {},
   "source": [
    "(b) Find an approximation of a root of $ f(x) $ with accuracy $ 10^{-8} $ using the Fixed Point Problem $ x = g_1(x) $ and initial approximation $ p_0 = -0.8 $. Write down the approximation with 10 digits after the decimal point. How many iterations does it take to achieve such an accuracy?\n"
   ]
  },
  {
   "cell_type": "code",
   "execution_count": 56,
   "metadata": {},
   "outputs": [
    {
     "name": "stdout",
     "output_type": "stream",
     "text": [
      "Approximation of the root: -0.7762571914\n",
      "Number of iterations required: 129\n"
     ]
    }
   ],
   "source": [
    "import numpy as np\n",
    "import math\n",
    "from NumericalMethodsCode.fixedpt import fixedpt\n",
    "\n",
    "g1 = lambda x: -math.log(4/3 + 4/3 * x**2 -math.sin(4*x))\n",
    "\n",
    "root, iter = fixedpt(g=g1, p0=-0.8, tol=1e-8, maxN=1000)\n",
    "\n",
    "print(\"Approximation of the root:\", format(root, '.10f'))\n",
    "print(\"Number of iterations required:\", iter)"
   ]
  },
  {
   "cell_type": "markdown",
   "metadata": {},
   "source": [
    "(c) Let $ g_2(x) = x - \\frac{f(x)}{12 \\cos(4x) - 8x - 3e^{-x}} $. Show by algebra that the problem $ x = g_2(x) $ and $ f(x) = 0 $ have the same roots."
   ]
  },
  {
   "cell_type": "markdown",
   "metadata": {},
   "source": [
    "$$g_2(x) = x - \\frac{f(x)}{12 \\cos(4x) - 8x - 3e^{-x}} $$\n",
    "$$x = x - \\frac{f(x)}{12 \\cos(4x) - 8x - 3e^{-x}} $$\n",
    "$$ 0 = -\\frac{f(x)}{12 \\cos(4x) - 8x - 3e^{-x}} $$\n",
    "$$\\frac{f(x)}{12 \\cos(4x) - 8x - 3e^{-x}} = 0 $$\n",
    "For this fraction to equal zero, the numerator must equal zero (assuming the denominator is not zero). Therefore, we have:\n",
    "$$f(x) = 0$$\n",
    "We also need to check when the denominator $12 \\cos(4x) - 8x - 3e^{-x} $ is not equal to zero, as this would make the equation undefined. Thus, we must ensure that:\n",
    "\n",
    "$$\n",
    "12 \\cos(4x) - 8x - 3e^{-x} \\neq 0.\n",
    "$$\n",
    "\n",
    "- If $ x = g_2(x) $, then $ f(x) = 0 $ holds.\n",
    "- Conversely, if \\( f(x) = 0 \\), then we can write:\n",
    "\n",
    "$$\n",
    "x = g_2(x),\n",
    "$$\n",
    "\n",
    "provided that the denominator $ 12 \\cos(4x) - 8x - 3e^{-x} \\neq 0 $.\n",
    "\n",
    "Thus, we conclude that the equations $ x = g_2(x) $ and $ f(x) = 0 $ have the same roots."
   ]
  },
  {
   "cell_type": "markdown",
   "metadata": {},
   "source": [
    "(d) Find an approximation of a root of $ f(x) $ with accuracy $ 10^{-8} $ using the Fixed Point Problem $ x = g_2(x) $ and initial approximation $ p_0 = -0.8 $. Write down the approximation with 10 digits after the decimal point. How many iterations does it take to achieve such an accuracy?"
   ]
  },
  {
   "cell_type": "code",
   "execution_count": 57,
   "metadata": {},
   "outputs": [
    {
     "name": "stdout",
     "output_type": "stream",
     "text": [
      "Approximation of the root: -0.7762571958\n",
      "Number of iterations required: 3\n"
     ]
    }
   ],
   "source": [
    "import numpy as np\n",
    "import math\n",
    "from NumericalMethodsCode.fixedpt import fixedpt\n",
    "\n",
    "f = lambda x: 3*math.sin(4*x) - 4*x**2 + 3*math.exp(-x) - 4\n",
    "g2 = lambda x: x - f(x) / (12 * math.cos(4*x) - 8*x - 3*math.exp(-x))\n",
    "\n",
    "\n",
    "root, iter = fixedpt(g=g2, p0=-0.8, tol=1e-8, maxN=1000)\n",
    "\n",
    "print(\"Approximation of the root:\", format(root, '.10f'))\n",
    "print(\"Number of iterations required:\", iter)"
   ]
  }
 ],
 "metadata": {
  "kernelspec": {
   "display_name": "base",
   "language": "python",
   "name": "python3"
  },
  "language_info": {
   "codemirror_mode": {
    "name": "ipython",
    "version": 3
   },
   "file_extension": ".py",
   "mimetype": "text/x-python",
   "name": "python",
   "nbconvert_exporter": "python",
   "pygments_lexer": "ipython3",
   "version": "3.10.9"
  }
 },
 "nbformat": 4,
 "nbformat_minor": 2
}
