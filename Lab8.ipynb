{
 "cells": [
  {
   "cell_type": "markdown",
   "metadata": {},
   "source": [
    "# Lab 8: 2D Composite Simpson's Rule/Gaussian Quadrature"
   ]
  },
  {
   "cell_type": "markdown",
   "metadata": {},
   "source": [
    "### Consider the integral\n",
    "\n",
    "$$\n",
    "\\int_{0}^{\\pi/4} \\int_{0}^{\\cos x} \\left( 2y \\sin x + \\cos^2 x \\right) \\, dy \\, dx\n",
    "$$\n",
    "\n",
    "The exact value of the integral is \n",
    "\n",
    "$$\n",
    "\\frac{1}{3} + \\frac{2}{3 \\sqrt{2}}.\n",
    "$$\n",
    "\n",
    "(a) Use your function `gaussianQuad2D` to approximate the integral with  \n",
    "   (i) $n = 3, m = 4$,  \n",
    "   (ii) $n = m = 4$, and  \n",
    "   (iii) $n = m = 5$.  \n",
    "\n",
    "Write down the approximations. Also, find the absolute errors of these approximations.\n",
    "\n",
    "(b) Use your function `compSimpson2D` to approximate the integral with  \n",
    "   (i) $n = 2, m = 40$,  \n",
    "   (ii) $n = 4, m = 40$,  \n",
    "   (iii) $n = 8, m = 40$,  \n",
    "   (iv) $n = 16, m = 40$, and  \n",
    "   (v) $n = 32, m = 40$.  \n",
    "\n",
    "Write down the approximations. Also, find the absolute errors of these approximations.\n",
    "\n",
    "(c) Let $e_1, e_2, e_3, e_4, e_5$ correspond to the absolute errors in (b)(i), (ii), (iii), (iv), (v). What are the values of $\\frac{e_1}{e_2}$, $\\frac{e_2}{e_3}$, $\\frac{e_3}{e_4}$, and $\\frac{e_4}{e_5}$? What do these values say about the order of convergence when the number of subintervals in the $y$-direction is fixed? \n",
    "\n",
    "(Hint: If the error in the $x$-direction is $O(h^p)$, what would half of the subinterval size, i.e., $\\tilde{h} = \\frac{h}{2}$, do to the error?)\n"
   ]
  },
  {
   "cell_type": "code",
   "execution_count": 5,
   "metadata": {},
   "outputs": [
    {
     "name": "stdout",
     "output_type": "stream",
     "text": [
      "I34 = 0.804758793632266\n",
      "I44 = 0.8047377216446593\n",
      "I55 = 0.8047378545724079\n"
     ]
    }
   ],
   "source": [
    "import numpy as np\n",
    "f = lambda x, y: 2*y*np.sin(x) + np.cos(x) ** 2\n",
    "a = 0\n",
    "b = np.pi/4\n",
    "c = lambda x: 0\n",
    "d = lambda x: np.cos(x)\n",
    "\n",
    "# a\n",
    "from NumericalMethodsCode.gaussianQuad2D import gaussianQuad2D\n",
    "# (i)\n",
    "I1 = gaussianQuad2D(f, a, b, c, d, n=3, m=4)\n",
    "print(f\"I34 = {I1}\")\n",
    "# (ii)\n",
    "I2 = gaussianQuad2D(f, a, b, c, d, n=4, m=4)\n",
    "print(f\"I44 = {I2}\")\n",
    "# (iii)\n",
    "I3 = gaussianQuad2D(f, a, b, c, d, n=5, m=5)\n",
    "print(f\"I55 = {I3}\")"
   ]
  },
  {
   "cell_type": "code",
   "execution_count": 12,
   "metadata": {},
   "outputs": [
    {
     "name": "stdout",
     "output_type": "stream",
     "text": [
      "Absolute errors:\n",
      "2.0939507901052146e-05\n",
      "1.3247970565011258e-07\n",
      "4.480429360853577e-10\n"
     ]
    }
   ],
   "source": [
    "# absolute errors\n",
    "print(\"Absolute errors:\")\n",
    "actual = (1 / 3) + (2 / (3*np.sqrt(2)))\n",
    "abserr1 = np.abs(I1 - actual)\n",
    "print(abserr1)\n",
    "abserr2 = np.abs(I2 - actual)\n",
    "print(abserr2)\n",
    "abserr3 = np.abs(I3 - actual)\n",
    "print(abserr3)"
   ]
  },
  {
   "cell_type": "code",
   "execution_count": 19,
   "metadata": {},
   "outputs": [
    {
     "name": "stdout",
     "output_type": "stream",
     "text": [
      "J2_40 = 0.8073882354485034\n",
      "J4_40 = 0.8048831925282943\n",
      "J8_40 = 0.804746663823242\n",
      "J16_40 = 0.8047384005958933\n",
      "J32_40 = 0.8047378882147812\n"
     ]
    }
   ],
   "source": [
    "# b\n",
    "from NumericalMethodsCode.compSimpson2D import compSimpson2D\n",
    "\n",
    "# (i)\n",
    "J2_40 = compSimpson2D(f, a, b, c, d, 2, 40)\n",
    "print(f\"J2_40 = {J2_40}\")\n",
    "# (ii)\n",
    "J4_40 = compSimpson2D(f, a, b, c, d, 4, 40)\n",
    "print(f\"J4_40 = {J4_40}\")\n",
    "# (iii)\n",
    "J8_40 = compSimpson2D(f, a, b, c, d, 8, 40)\n",
    "print(f\"J8_40 = {J8_40}\")\n",
    "# (iv)\n",
    "J16_40 = compSimpson2D(f, a, b, c, d, 16, 40)\n",
    "print(f\"J16_40 = {J16_40}\")\n",
    "# (v)\n",
    "J32_40 = compSimpson2D(f, a, b, c, d, 32, 40)\n",
    "print(f\"J32_40 = {J32_40}\")"
   ]
  },
  {
   "cell_type": "code",
   "execution_count": null,
   "metadata": {},
   "outputs": [
    {
     "name": "stdout",
     "output_type": "stream",
     "text": [
      "Absolute errors:\n",
      "0.0026503813241384178\n",
      "0.0001453384039293848\n",
      "8.809698877065841e-06\n",
      "5.464715283620691e-07\n",
      "3.409041626767362e-08\n"
     ]
    }
   ],
   "source": [
    "# absolute errors\n",
    "print(\"Absolute errors:\")\n",
    "actual = (1 / 3) + (2 / (3*np.sqrt(2)))\n",
    "# e1\n",
    "abserr2_40 = np.abs(J2_40 - actual)\n",
    "print(abserr2_40)\n",
    "# e2\n",
    "abserr4_40 = np.abs(J4_40 - actual)\n",
    "print(abserr4_40)\n",
    "# e3\n",
    "abserr8_40 = np.abs(J8_40 - actual)\n",
    "print(abserr8_40)\n",
    "# e4\n",
    "abserr16_40 = np.abs(J16_40 - actual)\n",
    "print(abserr16_40)\n",
    "# e5\n",
    "abserr32_40 = np.abs(J32_40 - actual)\n",
    "print(abserr32_40)"
   ]
  },
  {
   "cell_type": "code",
   "execution_count": null,
   "metadata": {},
   "outputs": [
    {
     "name": "stdout",
     "output_type": "stream",
     "text": [
      "18.23593250292023\n",
      "16.497545030482495\n",
      "16.12105740160154\n",
      "16.030063231591075\n"
     ]
    }
   ],
   "source": [
    "# c\n",
    "print(abserr2_40 / abserr4_40)\n",
    "print(abserr4_40 / abserr8_40)\n",
    "print(abserr8_40 / abserr16_40)\n",
    "print(abserr16_40 / abserr32_40)"
   ]
  },
  {
   "cell_type": "markdown",
   "metadata": {},
   "source": [
    "Order of convergence is about 4."
   ]
  }
 ],
 "metadata": {
  "kernelspec": {
   "display_name": "base",
   "language": "python",
   "name": "python3"
  },
  "language_info": {
   "codemirror_mode": {
    "name": "ipython",
    "version": 3
   },
   "file_extension": ".py",
   "mimetype": "text/x-python",
   "name": "python",
   "nbconvert_exporter": "python",
   "pygments_lexer": "ipython3",
   "version": "3.10.9"
  }
 },
 "nbformat": 4,
 "nbformat_minor": 2
}
