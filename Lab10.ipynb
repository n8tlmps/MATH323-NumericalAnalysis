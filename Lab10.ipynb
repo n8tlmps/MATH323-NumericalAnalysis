{
 "cells": [
  {
   "cell_type": "markdown",
   "metadata": {},
   "source": [
    "# Lab 10: Euler's Method"
   ]
  },
  {
   "cell_type": "markdown",
   "metadata": {},
   "source": [
    "### Consider the initial value problem\n",
    "\n",
    "$$y′ = 2 − \\frac{2ty}{t^2 + 1,}$$\n",
    "\n",
    "$$y(1) = 1.5,$$\n",
    "$$t ∈ [1, 2].$$\n",
    "\n",
    "\n",
    "### (a) \n",
    "Find the approximation values of the solution $y(t)$ with N = 10 and write down\n",
    "approximations of $y(t_i)$ for i = 0, 1, . . . , 10.\n",
    "\n",
    "### (b)\n",
    "The solution of is $y(t) = \\frac{2t+1}{t^2+1}$ . Find the absolute errors of the approximations you\n",
    "found in (a).\n",
    "\n",
    "### (c)\n",
    "Repeat (a)(b) with N = 20 and N = 40. On the same figure, plot the absolute\n",
    "errors of the approximations for $t ∈ [1, 2]$ when N = 10, 20 and 40. Label which\n",
    "curve represents which N used and label the horizontal axis as t."
   ]
  },
  {
   "cell_type": "code",
   "execution_count": 24,
   "metadata": {},
   "outputs": [
    {
     "name": "stdout",
     "output_type": "stream",
     "text": [
      "[t1,w1] = [[1.         1.5       ]\n",
      " [1.1        1.45      ]\n",
      " [1.2        1.39615385]\n",
      " [1.3        1.34079445]\n",
      " [1.4        1.28555038]\n",
      " [1.5        1.23151183]\n",
      " [1.6        1.17937228]\n",
      " [1.7        1.12954106]\n",
      " [1.8        1.08222899]\n",
      " [1.9        1.03751143]\n",
      " [2.         0.99537383]]\n"
     ]
    }
   ],
   "source": [
    "# a\n",
    "from NumericalMethodsCode.euler import euler\n",
    "import numpy as np\n",
    "f = lambda t,y: (2 - 2*t*y) / (t**2 + 1)\n",
    "t_euler, y_euler = euler(f, 1, 2, 1.5, 10)\n",
    "\n",
    "print(f'[t1,w1] = {np.stack((t_euler, y_euler),axis=1)}')"
   ]
  },
  {
   "cell_type": "code",
   "execution_count": 25,
   "metadata": {},
   "outputs": [
    {
     "name": "stdout",
     "output_type": "stream",
     "text": [
      "The absolute errors are:\n",
      " [[0.        ]\n",
      " [0.0020362 ]\n",
      " [0.00271122]\n",
      " [0.00250449]\n",
      " [0.00176659]\n",
      " [0.0007426 ]\n",
      " [0.00040301]\n",
      " [0.00156434]\n",
      " [0.00267667]\n",
      " [0.00370332]\n",
      " [0.00462617]]\n"
     ]
    }
   ],
   "source": [
    "# b\n",
    "y_true = lambda t: (2*t + 1) / (t**2 + 1)\n",
    "y_exact = [y_true(t) for t in t_euler]\n",
    "\n",
    "abs_err10 = np.array(abs(y_exact - y_euler))\n",
    "abs_err10 = abs_err10.reshape(-1, 1)\n",
    "\n",
    "print(\"The absolute errors are:\\n\", abs_err10)"
   ]
  },
  {
   "cell_type": "code",
   "execution_count": 26,
   "metadata": {},
   "outputs": [
    {
     "name": "stdout",
     "output_type": "stream",
     "text": [
      "approx for N=20:\n",
      " [1.5        1.475      1.44890012 1.42203179 1.39467607 1.36706905\n",
      " 1.33940714 1.31185215 1.28453593 1.25756463 1.23102253 1.20497534\n",
      " 1.17947316 1.15455301 1.13024106 1.10655443 1.08350286 1.06109\n",
      " 1.03931461 1.01817149 0.9976523 ]\n",
      "approx for N=40:\n",
      " [1.5        1.4875     1.47470664 1.46166403 1.44841291 1.43499087\n",
      " 1.42143248 1.40776945 1.39403085 1.38024321 1.3664307  1.35261532\n",
      " 1.338817   1.32505376 1.31134188 1.29769597 1.28412914 1.27065312\n",
      " 1.25727831 1.24401395 1.23086818 1.21784814 1.20496006 1.19220932\n",
      " 1.17960053 1.16713759 1.15482379 1.14266182 1.13065382 1.11880149\n",
      " 1.10710606 1.09556839 1.08418897 1.07296798 1.0619053  1.05100055\n",
      " 1.04025314 1.02966224 1.01922686 1.00894583 0.99881786]\n",
      "abs error for N=20:\n",
      " [0.00000000e+00 5.64803805e-04 9.36318001e-04 1.14911766e-03\n",
      " 1.23344604e-03 1.21539067e-03 1.11718154e-03 9.57555271e-04\n",
      " 7.52145073e-04 5.13869412e-04 2.53301959e-04 2.09873210e-05\n",
      " 3.02124952e-04 5.84662186e-04 8.64337965e-04 1.13787452e-03\n",
      " 1.40280279e-03 1.65731444e-03 1.90013736e-03 2.13043144e-03\n",
      " 2.34770192e-03]\n",
      "abs error for N=40:\n",
      " [0.00000000e+00 1.48582749e-04 2.71448121e-04 3.70900497e-04\n",
      " 4.49109889e-04 5.08111406e-04 5.49806476e-04 5.75965435e-04\n",
      " 5.88231241e-04 5.88124008e-04 5.77046175e-04 5.56288106e-04\n",
      " 5.27033967e-04 4.90367751e-04 4.47279348e-04 3.98670570e-04\n",
      " 3.45361064e-04 2.88094058e-04 2.27541904e-04 1.64311393e-04\n",
      " 9.89488028e-05 3.19446964e-05 3.62615660e-05 1.05277581e-04\n",
      " 1.74753929e-04 2.44380469e-04 3.13882889e-04 3.83019505e-04\n",
      " 4.51578296e-04 5.19374169e-04 5.86246435e-04 6.52056482e-04\n",
      " 7.16685644e-04 7.80033241e-04 8.42014788e-04 9.02560350e-04\n",
      " 9.61613048e-04 1.01912769e-03 1.07506952e-03 1.12941310e-03\n",
      " 1.18214127e-03]\n"
     ]
    },
    {
     "data": {
      "image/png": "[encoded data removed]",
      "text/plain": [
       "<Figure size 432x288 with 1 Axes>"
      ]
     },
     "metadata": {
      "needs_background": "light"
     },
     "output_type": "display_data"
    }
   ],
   "source": [
    "# c\n",
    "t_euler20, y_euler20 = euler(f, 1, 2, 1.5, 20)\n",
    "t_euler40, y_euler40 = euler(f, 1, 2, 1.5, 40)\n",
    "print('approx for N=20:\\n',y_euler20)\n",
    "print('approx for N=40:\\n',y_euler40)\n",
    "\n",
    "y_exact20 = [y_true(t) for t in t_euler20]\n",
    "y_exact40 = [y_true(t) for t in t_euler40]\n",
    "abs_err20 = np.array(abs(y_exact20 - y_euler20))\n",
    "abs_err40 = np.array(abs(y_exact40 - y_euler40))\n",
    "print('abs error for N=20:\\n',abs_err20)\n",
    "print('abs error for N=40:\\n',abs_err40)\n",
    "\n",
    "# plotting absolute errors\n",
    "import matplotlib.pyplot as plt\n",
    "plt.plot(t_euler, abs_err10, label='N=10')\n",
    "plt.plot(t_euler20, abs_err20, label='N=20')\n",
    "plt.plot(t_euler40, abs_err40, label='N=40')\n",
    "plt.xlabel('t')\n",
    "plt.ylabel('absolute errors')\n",
    "plt.legend()\n",
    "plt.grid()\n",
    "plt.show()"
   ]
  },
  {
   "cell_type": "markdown",
   "metadata": {},
   "source": [
    "### Given the initial value problem\n",
    "$$y′ = \\frac{1}{t^2} − \\frac{y}{t} − y^2 ,$$\n",
    "$$ y(1) = −1,$$\n",
    "$$ t ∈ [1, 2]$$\n",
    "The true solution of this problem is $y(t) = −1/t.$\n",
    "\n",
    "### (a) \n",
    "Use Euler’s method with h = 0.05 to approximate the solution. What is the approximation of the solution at t = 2? Also determine the absolute error of the approximation at t = 2.\n",
    "\n",
    "### (b)\n",
    "Plot the true solution and the approximated solution on the same figure. Label which curve represents which and label the horizontal axis as t.\n",
    "\n",
    "### (c) \n",
    "Use the results in (a) and linear interpolation to approximate y(1.052) and y(1.978), then find the absolute errors of the approximations.\n",
    "\n",
    "### (d) \n",
    "Given that the solution is a decreasing function, compute the value of h necessary for\n",
    "$|y(ti) − wi| ≤ 0.05$ using (5.10) in the textbook."
   ]
  },
  {
   "cell_type": "code",
   "execution_count": 30,
   "metadata": {},
   "outputs": [
    {
     "name": "stdout",
     "output_type": "stream",
     "text": [
      "[t, w] = [[ 1.         -1.        ]\n",
      " [ 1.05       -0.95      ]\n",
      " [ 1.1        -0.90453543]\n",
      " [ 1.15       -0.86300709]\n",
      " [ 1.2        -0.82491692]\n",
      " [ 1.25       -0.78984755]\n",
      " [ 1.3        -0.75744661]\n",
      " [ 1.35       -0.72741452]\n",
      " [ 1.4        -0.69949499]\n",
      " [ 1.45       -0.67346748]\n",
      " [ 1.5        -0.64914118]\n",
      " [ 1.55       -0.62635013]\n",
      " [ 1.6        -0.60494936]\n",
      " [ 1.65       -0.58481163]\n",
      " [ 1.7        -0.56582482]\n",
      " [ 1.75       -0.54788976]\n",
      " [ 1.8        -0.5309184 ]\n",
      " [ 1.85       -0.51483228]\n",
      " [ 1.9        -0.49956131]\n",
      " [ 1.95       -0.48504262]\n",
      " [ 2.         -0.4712197 ]]\n"
     ]
    }
   ],
   "source": [
    "# a\n",
    "f = lambda t,y: 1/t**2 - y/t - y**2\n",
    "t, w= euler(f, 1, 2, -1, 20)\n",
    "print(f'[t, w] = {np.stack((t, w), axis=1)}')"
   ]
  },
  {
   "cell_type": "code",
   "execution_count": 31,
   "metadata": {},
   "outputs": [
    {
     "name": "stdout",
     "output_type": "stream",
     "text": [
      "The approximation at t=2 is -0.4712197\n",
      "The absolute error at t=2 is 0.0287803\n"
     ]
    }
   ],
   "source": [
    "# b\n",
    "yt = lambda t: -1/t\n",
    "y_true = [yt(t) for t in t]\n",
    "\n",
    "print('The approximation at t=2 is -0.4712197')\n",
    "print('The absolute error at t=2 is 0.0287803')"
   ]
  },
  {
   "cell_type": "code",
   "execution_count": 32,
   "metadata": {},
   "outputs": [
    {
     "data": {
      "image/png": "[encoded data removed]",
      "text/plain": [
       "<Figure size 432x288 with 1 Axes>"
      ]
     },
     "metadata": {
      "needs_background": "light"
     },
     "output_type": "display_data"
    }
   ],
   "source": [
    "plt.plot(t, w, label='Approximation')\n",
    "plt.plot(t, y_true, label='True values')\n",
    "plt.xlabel('t')\n",
    "plt.legend()\n",
    "plt.grid()\n",
    "plt.show()"
   ]
  },
  {
   "cell_type": "code",
   "execution_count": 34,
   "metadata": {},
   "outputs": [
    {
     "name": "stdout",
     "output_type": "stream",
     "text": [
      "y(1.052) is approximately: -0.9481814171999999\n",
      "The absolute error is: 0.0023889250053231725\n"
     ]
    }
   ],
   "source": [
    "# part c\n",
    "# doing linear interpolation\n",
    "t0, w0 = 1.05, -0.95\n",
    "t1, w1 = 1.1, -0.90453543\n",
    "x = 1.052\n",
    "y = w0 + ((w1 - w0) / (t1 - t0)) * (x - t0)\n",
    "print(f\"y(1.052) is approximately: {y}\")\n",
    "\n",
    "err = abs(yt(1.052) - y)\n",
    "# finding absolute error\n",
    "print(f'The absolute error is: {err}')\n"
   ]
  },
  {
   "cell_type": "code",
   "execution_count": 38,
   "metadata": {},
   "outputs": [
    {
     "name": "stdout",
     "output_type": "stream",
     "text": [
      "y(1.978) is appriximately: -0.4773017848\n",
      "The absolute error is: 0.028259388101921135\n"
     ]
    }
   ],
   "source": [
    "t0, w0 = 1.95, -0.48504262\n",
    "t1, w1 = 2, -0.4712197\n",
    "x = 1.978\n",
    "y = w0 + ((w1 - w0) / (t1 - t0)) * (x - t0)\n",
    "print(f'y(1.978) is appriximately: {y}')\n",
    "\n",
    "err = abs(yt(1.978) - y)\n",
    "print(f'The absolute error is: {err}')\n"
   ]
  },
  {
   "cell_type": "code",
   "execution_count": null,
   "metadata": {},
   "outputs": [],
   "source": []
  },
  {
   "cell_type": "markdown",
   "metadata": {},
   "source": [
    "(d)\n",
    "\n",
    "error of the aproximation from Euler's method:\n",
    "$$ |y_i - w_i| \\le \\frac{hM}{2L}[e^{L(t_i -a)} - 1]$$\n",
    "\n",
    "$$ M = \\max|y''| $$\n",
    "$$ y' = \\frac{1}{t^2}, \\ y'' = -\\frac{2}{t^3} $$\n",
    "$$ \\max|y''(t)| = \\max(0.25, 2) = 2 $$\n",
    "$$ M = 2 $$\n",
    "$$ \\text{L = Lipschitz constant} $$\n",
    "$$ \\text{Let} \\ f(t, y) = \\frac{1}{t^2} - \\frac{y}{t} - y^2 $$\n",
    "$$ f_Y = -\\frac{1}{t} - 2y = -\\frac{1}{t} + \\frac{2}{t} = \\frac{1}{t} $$\n",
    "$$ |f_Y| \\le \\frac{1}{t} \\cdots L = 1$$\n",
    "\n",
    "$$ 0.05 \\le h(e - 1) $$\n",
    "$$ h \\ge \\frac{0.05}{e-1} = 0.029099$$\n",
    "\n",
    "$\\text{The h necessary is h} \\ge 0.029099$."
   ]
  }
 ],
 "metadata": {
  "kernelspec": {
   "display_name": "base",
   "language": "python",
   "name": "python3"
  },
  "language_info": {
   "codemirror_mode": {
    "name": "ipython",
    "version": 3
   },
   "file_extension": ".py",
   "mimetype": "text/x-python",
   "name": "python",
   "nbconvert_exporter": "python",
   "pygments_lexer": "ipython3",
   "version": "3.10.9"
  }
 },
 "nbformat": 4,
 "nbformat_minor": 2
}
