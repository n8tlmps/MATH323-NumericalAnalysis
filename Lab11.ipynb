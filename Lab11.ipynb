{
 "cells": [
  {
   "cell_type": "markdown",
   "metadata": {},
   "source": [
    "# Lab 11: Runge-Kutta Method (Order Four)/Adams Fourth-Order Predictor-Corrector"
   ]
  },
  {
   "cell_type": "markdown",
   "metadata": {},
   "source": [
    "2. Consider the initial value problem\n",
    "\n",
    "$$\n",
    "y' = \\frac{\\sin(2t) - 2ty}{t^2}, \\quad y(1) = 2, \\quad t \\in [1, 2].\n",
    "$$\n",
    "\n",
    "The actual solution is \n",
    "\n",
    "$$\n",
    "y(t) = \\frac{4 + \\cos 2 - \\cos(2t)}{2t^2}\n",
    "$$\n",
    "\n",
    "(a) Use Euler’s method to find the approximation values of the solution $y(t)$ with $N = 10$ and write down approximations (10 digits after the decimal point) of $y(t_i)$ for $i = 0, 1, \\ldots, 10$.\n",
    "\n",
    "(b) Use the Runge-Kutta method of order four to find the approximation values of the solution $y(t)$ with $N = 10$ and write down approximations (10 digits after the decimal point) of $y(t_i)$ for $i = 0, 1, \\ldots, 10$.\n",
    "\n",
    "(c) Plot the absolute errors from (a) and (b) vs. time steps $t_i, i = 1, 2, \\ldots, 10$ on the same figure in log-scale (use `plt.yscale('log')`). Label the curves and save the plot as `lab11ex2.png` and attach it to your assignment. Which method is more accurate? Why?\n",
    "\n",
    "(d) Use the Runge-Kutta method of order four to find the approximation values of the solution $y(t)$ with $N = 10, 20, 40, 80$. Let the absolute errors at the end point $t = 2$ be $e_{10}, e_{20}, e_{40}, e_{80}$. Calculate $e_{10}/e_{20}, e_{20}/e_{40}, e_{40}/e_{80}$. What do you estimate to be the order of error of the approximations using this method? Is it consistent with the theory?\n"
   ]
  },
  {
   "cell_type": "code",
   "execution_count": 4,
   "metadata": {},
   "outputs": [],
   "source": [
    "# this program does the Euler method on ODE IVPs\n",
    "#\n",
    "\n",
    "import numpy as np\n",
    "def euler(f,a,b,alpha,N):\n",
    "    # step size\n",
    "    h = (b - a) / N\n",
    "    \n",
    "    # time steps\n",
    "    t = np.linspace(a, b, N+1)\n",
    "\n",
    "    # allocate space for w\n",
    "    w = np.zeros(N+1)\n",
    "\n",
    "    # initial condition\n",
    "    w[0] = alpha\n",
    "\n",
    "    # loop through ti\n",
    "    for i in range(1, N+1):\n",
    "        # calculate w_{i+1}\n",
    "        w[i] = w[i-1] + h * f(t[i-1], w[i-1])\n",
    "        t[i] = a + i * h\n",
    "    \n",
    "    return t,w\n"
   ]
  },
  {
   "cell_type": "code",
   "execution_count": 5,
   "metadata": {},
   "outputs": [
    {
     "name": "stdout",
     "output_type": "stream",
     "text": [
      "[t_euler,w_euler] = \n",
      "[[1.           2.          ]\n",
      " [1.1          1.6909297427]\n",
      " [1.2          1.4503058559]\n",
      " [1.3          1.2554953786]\n",
      " [1.4          1.0928452832]\n",
      " [1.5          0.9538157606]\n",
      " [1.6          0.8329123262]\n",
      " [1.7          0.7265180454]\n",
      " [1.8          0.6322030815]\n",
      " [1.9          0.5483002563]\n",
      " [2.           0.4736354678]]\n"
     ]
    }
   ],
   "source": [
    "# a\n",
    "# use euler's method to find the approximation values\n",
    "\n",
    "import numpy as np\n",
    "\n",
    "f = lambda t,y: (np.sin(2*t) - 2*t*y) / t**2\n",
    "t_euler, w_euler = euler(f, 1, 2, 2, 10)\n",
    "np.set_printoptions(precision=10)\n",
    "print(f'[t_euler,w_euler] = \\n{np.stack((t_euler,w_euler),axis=1)}')"
   ]
  }
 ],
 "metadata": {
  "kernelspec": {
   "display_name": "base",
   "language": "python",
   "name": "python3"
  },
  "language_info": {
   "codemirror_mode": {
    "name": "ipython",
    "version": 3
   },
   "file_extension": ".py",
   "mimetype": "text/x-python",
   "name": "python",
   "nbconvert_exporter": "python",
   "pygments_lexer": "ipython3",
   "version": "3.10.9"
  }
 },
 "nbformat": 4,
 "nbformat_minor": 2
}
