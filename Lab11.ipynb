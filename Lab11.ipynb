{
 "cells": [
  {
   "cell_type": "markdown",
   "metadata": {},
   "source": [
    "# Lab 11: Runge-Kutta Method (Order Four)/Adams Fourth-Order Predictor-Corrector"
   ]
  },
  {
   "cell_type": "markdown",
   "metadata": {},
   "source": [
    "### Consider the initial value problem\n",
    "\n",
    "$$\n",
    "y' = \\frac{\\sin(2t) - 2ty}{t^2}, \\quad y(1) = 2, \\quad t \\in [1, 2].\n",
    "$$\n",
    "\n",
    "The actual solution is \n",
    "\n",
    "$$\n",
    "y(t) = \\frac{4 + \\cos 2 - \\cos(2t)}{2t^2}\n",
    "$$\n",
    "\n",
    "(a) Use Euler’s method to find the approximation values of the solution $y(t)$ with $N = 10$ and write down approximations (10 digits after the decimal point) of $y(t_i)$ for $i = 0, 1, \\ldots, 10$.\n",
    "\n",
    "(b) Use the Runge-Kutta method of order four to find the approximation values of the solution $y(t)$ with $N = 10$ and write down approximations (10 digits after the decimal point) of $y(t_i)$ for $i = 0, 1, \\ldots, 10$.\n",
    "\n",
    "(c) Plot the absolute errors from (a) and (b) vs. time steps $t_i, i = 1, 2, \\ldots, 10$ on the same figure in log-scale (use `plt.yscale('log')`). Label the curves and save the plot as `lab11ex2.png` and attach it to your assignment. Which method is more accurate? Why?\n",
    "\n",
    "(d) Use the Runge-Kutta method of order four to find the approximation values of the solution $y(t)$ with $N = 10, 20, 40, 80$. Let the absolute errors at the end point $t = 2$ be $e_{10}, e_{20}, e_{40}, e_{80}$. Calculate $e_{10}/e_{20}, e_{20}/e_{40}, e_{40}/e_{80}$. What do you estimate to be the order of error of the approximations using this method? Is it consistent with the theory?\n"
   ]
  },
  {
   "cell_type": "code",
   "execution_count": 9,
   "metadata": {},
   "outputs": [
    {
     "name": "stdout",
     "output_type": "stream",
     "text": [
      "[t_euler,w_euler] = \n",
      "[[1.           2.          ]\n",
      " [1.1          1.6909297427]\n",
      " [1.2          1.4503058559]\n",
      " [1.3          1.2554953786]\n",
      " [1.4          1.0928452832]\n",
      " [1.5          0.9538157606]\n",
      " [1.6          0.8329123262]\n",
      " [1.7          0.7265180454]\n",
      " [1.8          0.6322030815]\n",
      " [1.9          0.5483002563]\n",
      " [2.           0.4736354678]]\n"
     ]
    }
   ],
   "source": [
    "# a\n",
    "# use euler's method to find the approximation values\n",
    "import numpy as np\n",
    "from NumericalMethodsCode.euler import euler\n",
    "\n",
    "f = lambda t,y: (np.sin(2*t) - 2*t*y) / t**2\n",
    "t_euler, w_euler = euler(f, 1, 2, 2, 10)\n",
    "np.set_printoptions(precision=10)\n",
    "print(f'[t_euler,w_euler] = \\n{np.stack((t_euler,w_euler),axis=1)}')"
   ]
  },
  {
   "cell_type": "code",
   "execution_count": 10,
   "metadata": {},
   "outputs": [
    {
     "name": "stdout",
     "output_type": "stream",
     "text": [
      "[t_rk,w_rk] = \n",
      "[[1.           2.          ]\n",
      " [1.1          1.7241157301]\n",
      " [1.2          1.5004362222]\n",
      " [1.3          1.3138324786]\n",
      " [1.4          1.1546145498]\n",
      " [1.5          1.0164134194]\n",
      " [1.6          0.8949538182]\n",
      " [1.7          0.7873127396]\n",
      " [1.8          0.6914549962]\n",
      " [1.9          0.6059332514]\n",
      " [2.           0.529689288 ]]\n"
     ]
    }
   ],
   "source": [
    "# b\n",
    "from NumericalMethodsCode.RungeKutta4 import RungeKutta4\n",
    "\n",
    "# use runge-kutta method of order four to find the approximation values\n",
    "t_rk,w_rk = RungeKutta4(f,1,2,2,10)\n",
    "np.set_printoptions(precision=10)\n",
    "print(f'[t_rk,w_rk] = \\n{np.stack((t_rk,w_rk),axis=1)}')"
   ]
  },
  {
   "cell_type": "code",
   "execution_count": 11,
   "metadata": {},
   "outputs": [
    {
     "data": {
      "image/png": "[encoded data removed]",
      "text/plain": [
       "<Figure size 432x288 with 1 Axes>"
      ]
     },
     "metadata": {
      "needs_background": "light"
     },
     "output_type": "display_data"
    }
   ],
   "source": [
    "# c\n",
    "# plot the absolute errors from (a) and (b) vs time steps t_i, i = 1,2,...,10\n",
    "yt = lambda t: (4 + np.cos(2) - np.cos(2*t)) / (2*t**2)\n",
    "y_exact = [yt(t) for t in t_euler]\n",
    "\n",
    "abs_err10_euler = np.array(abs(y_exact - w_euler))\n",
    "\n",
    "abs_err10_rk = np.array(abs(y_exact - w_rk))\n",
    "\n",
    "# plotting absolute errors\n",
    "import matplotlib.pyplot as plt\n",
    "plt.plot(t_euler[1:], abs_err10_euler[1:], label='Euler')\n",
    "plt.plot(t_rk[1:], abs_err10_rk[1:], label='Runge-Kutta')\n",
    "plt.yscale('log')\n",
    "plt.xlabel('t')\n",
    "plt.ylabel('absolute error')\n",
    "plt.legend()\n",
    "plt.grid()\n",
    "plt.show()"
   ]
  },
  {
   "cell_type": "markdown",
   "metadata": {},
   "source": [
    "Runge-Kutta is more accurate as shown by its lower absolute error. RK4 is 4th order, while Euler's method is 1st order."
   ]
  },
  {
   "cell_type": "code",
   "execution_count": 12,
   "metadata": {},
   "outputs": [
    {
     "name": "stdout",
     "output_type": "stream",
     "text": [
      "[t_rk_N10,w_rk_N10] = \n",
      "[[1.           2.          ]\n",
      " [1.1          1.7241157301]\n",
      " [1.2          1.5004362222]\n",
      " [1.3          1.3138324786]\n",
      " [1.4          1.1546145498]\n",
      " [1.5          1.0164134194]\n",
      " [1.6          0.8949538182]\n",
      " [1.7          0.7873127396]\n",
      " [1.8          0.6914549962]\n",
      " [1.9          0.6059332514]\n",
      " [2.           0.529689288 ]]\n",
      "e_10: 2.190004806390533e-06\n"
     ]
    }
   ],
   "source": [
    "# part d\n",
    "# use runge-kutta of order 4 to find the approximations with N=10,20,40,80\n",
    "# let the absolute errors at the end point t=2 be e_10, e_20, e_40, e_80\n",
    "\n",
    "# N = 10\n",
    "t_rk_N10,w_rk_N10 = RungeKutta4(f,1,2,2,10)\n",
    "np.set_printoptions(precision=10)\n",
    "print(f'[t_rk_N10,w_rk_N10] = \\n{np.stack((t_rk_N10, w_rk_N10),axis=1)}')\n",
    "\n",
    "e_10 = abs(w_rk_N10[-1] - y_exact[-1])\n",
    "print('e_10:',e_10)"
   ]
  },
  {
   "cell_type": "markdown",
   "metadata": {},
   "source": [
    "The error is estimated to be of order 4, which is conistent with the theory."
   ]
  },
  {
   "cell_type": "markdown",
   "metadata": {},
   "source": [
    "### Water flows from an inverted conical tank with circular orifice at the rate\n",
    "\n",
    "$$\n",
    "\\frac{dx}{dt} = -0.6 \\pi r^2 \\sqrt{2g} \\frac{\\sqrt{x}}{A(x)}\n",
    "$$\n",
    "\n",
    "where $r$ is the radius of the orifice, $x$ is the height of the liquid level from the vertex of the cone, and $A(x)$ is the area of the cross section of the tank $x$ units above the vertex. Suppose $r = 0.1$ ft, $g = 32.1 \\text{ ft/s}^2$, and the tank has an initial water level of 8 ft from the vortex and initial volume of $(512\\pi/3) \\text{ ft}^3$. Use your `Adams4PredictCorrect` function to do the following problems. Notice that the volume of a cone is $\\frac{1}{3} \\pi R^2 h$ when $R$ is the radius at the top of the cone and $h$ is the height of the cone.\n",
    "\n",
    "(a) Find an explicit formula of $A(x)$. Please show your work.\n",
    "\n",
    "(b) With $h = 5$ seconds, find the water heights after 5, 10, 15, and 20 minutes. Plot the water level from 0 to 20 minutes. Save your figure as `lab11ex4.png` and attach it to your assignment.\n",
    "\n",
    "(c) Determine, to within 1 minute, when the tank will be empty. Please give your reasoning.\n"
   ]
  },
  {
   "cell_type": "markdown",
   "metadata": {},
   "source": [
    "a)\n",
    "$$ x(0) = 8 ft$$\n",
    "Radius of the liquid surface is $R(8)$\n",
    "$$ \\frac{1}{3}\\pi (R(8))^2 \\cdot 8 = \\frac{512}{3}\\pi \\rightarrow R(8) = 8  $$\n",
    "Vertical Cross-sections\n",
    "$$ \\frac{8}{R(8) + R(8)} = \\frac{x}{R(x) + R(x)}$$\n",
    "$$ \\frac{8}{8+8} = \\frac{x}{2R(x)}$$\n",
    "$$ R(x) = x $$\n",
    "$$ \\therefore A(x) = \\pi (A(x))^2 = \\pi x^2 $$\n",
    "$$ A(x) = \\pi x^2 $$\n",
    "\n",
    "???"
   ]
  },
  {
   "cell_type": "code",
   "execution_count": 23,
   "metadata": {},
   "outputs": [
    {
     "name": "stdout",
     "output_type": "stream",
     "text": [
      "[t, w] = \n",
      "[[   0.              8.          ]\n",
      " [ 300.              7.3198617168]\n",
      " [ 600.              6.5286216833]\n",
      " [ 900.              5.558657915 ]\n",
      " [1200.              4.2260719778]]\n"
     ]
    }
   ],
   "source": [
    "# b\n",
    "\n",
    "import numpy as np\n",
    "from NumericalMethodsCode.Adams4PredictCorrect import Adams4PredictCorrect\n",
    "r = 0.1\n",
    "g = 32.1\n",
    "f = lambda t, x: -0.6 * np.pi * r**2 * (2 * g)**0.5 * x**0.5 / (np.pi * x**2)\n",
    "\n",
    "a = 0\n",
    "b = 20 * 60 # 20mins * 60 s/min\n",
    "alpha = 8\n",
    "N = 4\n",
    "t4,w4 = Adams4PredictCorrect(f, a, b, alpha, N)\n",
    "print(f'[t, w] = \\n{np.stack((t4, w4),axis=1)}')\n"
   ]
  },
  {
   "cell_type": "code",
   "execution_count": 22,
   "metadata": {},
   "outputs": [
    {
     "data": {
      "text/plain": [
       "Text(0, 0.5, 'water heights')"
      ]
     },
     "execution_count": 22,
     "metadata": {},
     "output_type": "execute_result"
    },
    {
     "data": {
      "image/png": "[encoded data removed]",
      "text/plain": [
       "<Figure size 432x288 with 1 Axes>"
      ]
     },
     "metadata": {
      "needs_background": "light"
     },
     "output_type": "display_data"
    }
   ],
   "source": [
    "plt.plot(t4, w4)\n",
    "plt.xlabel('sec')\n",
    "plt.ylabel('water heights')"
   ]
  },
  {
   "cell_type": "markdown",
   "metadata": {},
   "source": [
    "c)\n",
    "\n",
    "It should take between 25 to 26 minutes for the tank to empty...."
   ]
  }
 ],
 "metadata": {
  "kernelspec": {
   "display_name": "base",
   "language": "python",
   "name": "python3"
  },
  "language_info": {
   "codemirror_mode": {
    "name": "ipython",
    "version": 3
   },
   "file_extension": ".py",
   "mimetype": "text/x-python",
   "name": "python",
   "nbconvert_exporter": "python",
   "pygments_lexer": "ipython3",
   "version": "3.10.9"
  }
 },
 "nbformat": 4,
 "nbformat_minor": 2
}
