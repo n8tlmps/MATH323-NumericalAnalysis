{
 "cells": [
  {
   "cell_type": "markdown",
   "metadata": {},
   "source": [
    "# Lab 13: Gaussian Elimination with Backward Substitution/Gaussian Elimination with Scaled Partial Pivoting"
   ]
  },
  {
   "cell_type": "markdown",
   "metadata": {},
   "source": [
    "### Balancing a chemical equation often requires solving a linear system of algebraic equations. Consider the chemical equation\n",
    "\n",
    "$$\n",
    "x_1 \\text{K}_4\\text{Fe}(\\text{CN})_6 + x_2 \\text{KMnO}_4 + x_3 \\text{H}_2\\text{SO}_4 \\rightarrow x_4 \\text{KHSO}_4 + 5\\text{Fe}_2(\\text{SO}_4)_3 + x_5 \\text{MnSO}_4 + x_6 \\text{HNO}_3 + x_7 \\text{CO}_2 + x_8 \\text{H}_2\\text{O}\n",
    "$$\n",
    "\n",
    "(a) Since mass is conserved in a chemical reaction, the numbers and types of atoms should be the same before and after the reaction. Write down equations for $ x_1, x_2, \\ldots, x_8 $ that reflect the previous statement. (Hint: For each type of atom, write an equation that represents the conservation of the numbers of this atom.)\n",
    "\n",
    "(b) Move all the unknowns to the left-hand side of the equations and move all constants to the right-hand side. Write down the augmented matrix of this system.\n",
    "\n",
    "(c) Use your Python function `gaussianElim` to find the solution of the system in (b), and write down the balanced chemical equation.\n"
   ]
  },
  {
   "cell_type": "markdown",
   "metadata": {},
   "source": [
    "a)\n",
    "\n",
    "for K: $4x_1 + x2 = x_4$\n",
    "\n",
    "for Fe: $x_1 = 10$\n",
    "\n",
    "for C: $6x_1 = x_7$\n",
    "\n",
    "for N: $6x_1 = x_6$\n",
    "\n",
    "for Mn: $x_2 = x_5$\n",
    "\n",
    "for O: $4x_2 + 4x_3 = 4x_4 + 5(3)(4) + 4x_5 + 3x_6 + 2x_7 + x_8$\n",
    "\n",
    "for H: $2x_3 = x_4 + x_6 + 2x_8$\n",
    "\n",
    "for S: $x_3 = x_4 + 5(3) + x_5$"
   ]
  },
  {
   "cell_type": "markdown",
   "metadata": {},
   "source": [
    "b)\n",
    "\n",
    "The augmented matrix $ A $ is:\n",
    "\n",
    "$$\n",
    "A = \\begin{bmatrix}\n",
    "4 & 1 & 0 & -1 & 0 & 0 & 0 & 0 & | & 0 \\\\\n",
    "1 & 0 & 0 & 0 & 0 & 0 & 0 & 0 & | & 10 \\\\\n",
    "6 & 0 & 0 & 0 & 0 & 0 & -1 & 0 & | & 0 \\\\\n",
    "6 & 0 & 0 & 0 & 0 & -1 & 0 & 0 & | & 0 \\\\\n",
    "0 & 1 & 0 & 0 & -1 & 0 & 0 & 0 & | & 0 \\\\\n",
    "0 & 4 & 4 & -4 & -4 & -3 & -2 & -1 & | & 60 \\\\\n",
    "0 & 0 & 2 & -1 & 0 & -1 & 0 & -2 & | & 0 \\\\\n",
    "0 & 0 & 1 & -1 & -1 & 0 & 0 & 0 & | & 15 \\\\\n",
    "\\end{bmatrix}\n",
    "$$\n",
    "\n"
   ]
  },
  {
   "cell_type": "code",
   "execution_count": 1,
   "metadata": {},
   "outputs": [
    {
     "name": "stdout",
     "output_type": "stream",
     "text": [
      "x = \n",
      "[ 10. 122. 299. 162. 122.  60.  60. 188.]\n"
     ]
    }
   ],
   "source": [
    "# c\n",
    "\n",
    "from NumericalMethodsCode.gaussianElim import gaussianElim\n",
    "import numpy as np\n",
    "\n",
    "A = np.array([\n",
    "    [4., 1., 0., -1., 0., 0., 0., 0., 0.],\n",
    "    [1., 0., 0., 0., 0., 0., 0., 0., 10.],\n",
    "    [6., 0., 0., 0., 0., 0., -1., 0., 0.],\n",
    "    [6., 0., 0., 0., 0., -1., 0., 0., 0.],\n",
    "    [0., 1., 0., 0., -1., 0., 0., 0., 0.],\n",
    "    [0., 4., 4., -4., -4., -3., -2., -1., 60.],\n",
    "    [0., 0., 2., -1., 0., -1., 0., -2., 0.],\n",
    "    [0., 0., 1., -1., -1., 0., 0., 0., 15.]\n",
    "])\n",
    "\n",
    "x = gaussianElim(A)\n",
    "np.set_printoptions(precision=16)\n",
    "print(f\"x = \")\n",
    "print(f\"{x}\")\n"
   ]
  },
  {
   "cell_type": "markdown",
   "metadata": {},
   "source": [
    "$$\n",
    "10 \\, \\text{K}_4\\text{Fe}(\\text{CN})_6 + 122 \\, \\text{KMnO}_4 + 299 \\, \\text{H}_2\\text{SO}_4 \\rightarrow 162 \\, \\text{KHSO}_4 + 5 \\, \\text{Fe}_2(\\text{SO}_4)_3 + 122 \\, \\text{MnSO}_4 + 60 \\, \\text{HNO}_3 + 60 \\, \\text{CO}_2 + 188 \\, \\text{H}_2\\text{O}\n",
    "$$\n"
   ]
  },
  {
   "cell_type": "markdown",
   "metadata": {},
   "source": [
    "### Consider the linear system\n",
    "\n",
    "$$\n",
    "3.3330x_1 + 15920x_2 + 10.333x_3 = 7953 \\\\\n",
    "2.2220x_1 + 16.710x_2 + 9.6120x_3 = 0.965 \\\\\n",
    "-1.5611x_1 + 5.1792x_2 - 1.6855x_3 = 2.714\n",
    "$$\n",
    "\n",
    "(a) Use both functions `gaussianElim` and `gaussianElimScaledPivot` to solve the system. Use the `numpy.set_printoptions(precision=16)` command in NumPy to print your results.\n",
    "\n",
    "(b) Why are there differences in the solutions obtained by the two functions? Which one is more accurate?\n"
   ]
  },
  {
   "cell_type": "code",
   "execution_count": 4,
   "metadata": {},
   "outputs": [
    {
     "name": "stdout",
     "output_type": "stream",
     "text": [
      "x1 = \n",
      "[ 1.0026040758642436  0.4999998453595026 -1.000601713746069 ]\n",
      "y1 =\n",
      "[ 1.0026040758644699  0.4999998453595028 -1.0006017137461656]\n"
     ]
    }
   ],
   "source": [
    "# a\n",
    "from NumericalMethodsCode.gaussianElimScaledPivot import gaussianElimScaledPivot\n",
    "\n",
    "A1 = np.array([\n",
    "    [3.3330, 15920, 10.333, 7953],\n",
    "    [2.2220, 16.710, 9.6120, 0.965],\n",
    "    [-1.5611, 5.1792, -1.68855, 2.714]\n",
    "])\n",
    "B1 = np.array(A1)\n",
    "x1 = gaussianElim(A1)\n",
    "np.set_printoptions(precision=16)\n",
    "print(f\"x1 = \")\n",
    "print(f\"{x1}\")\n",
    "y1 = gaussianElimScaledPivot(B1)\n",
    "print(f\"y1 =\")\n",
    "print(f\"{y1}\")"
   ]
  },
  {
   "cell_type": "code",
   "execution_count": 11,
   "metadata": {},
   "outputs": [
    {
     "name": "stdout",
     "output_type": "stream",
     "text": [
      "Absolute error for gaussianElim: [9.0949470177292824e-13 4.2288395007972213e-13 3.0518352267354665e-03]\n",
      "Absolute error for gaussianElimScaledPivot: [1.8189894035458565e-12 7.7715611723760958e-16 3.0518352269250926e-03]\n"
     ]
    }
   ],
   "source": [
    "import numpy as np\n",
    "\n",
    "# Define the system coefficients and RHS values\n",
    "coefficients = np.array([\n",
    "    [3.3330, 15920, 10.333],\n",
    "    [2.2220, 16.710, 9.6120],\n",
    "    [-1.5611, 5.1792, -1.6855]\n",
    "])\n",
    "rhs_values = np.array([7953, 0.965, 2.714])\n",
    "\n",
    "# Solutions x1 and y1\n",
    "x1 = np.array([1.0026040758642436, 0.4999998453595026, -1.000601713746069])\n",
    "y1 = np.array([1.0026040758644699, 0.4999998453595028, -1.0006017137461656])\n",
    "\n",
    "# Compute RHS values for x1 and y1 solutions\n",
    "rhs_x1 = np.dot(coefficients, x1)\n",
    "rhs_y1 = np.dot(coefficients, y1)\n",
    "\n",
    "# Compute absolute differences between computed RHS values and original RHS\n",
    "diff_x1 = np.abs(rhs_values - rhs_x1)\n",
    "diff_y1 = np.abs(rhs_values - rhs_y1)\n",
    "\n",
    "print(f\"Absolute error for gaussianElim: {diff_x1}\") \n",
    "print(f\"Absolute error for gaussianElimScaledPivot: {diff_y1}\")\n"
   ]
  },
  {
   "cell_type": "markdown",
   "metadata": {},
   "source": [
    "Scaled pivot version picked the larger scaled quantity in the column as the pivot, so scaled pivoting is more accurate."
   ]
  }
 ],
 "metadata": {
  "kernelspec": {
   "display_name": "base",
   "language": "python",
   "name": "python3"
  },
  "language_info": {
   "codemirror_mode": {
    "name": "ipython",
    "version": 3
   },
   "file_extension": ".py",
   "mimetype": "text/x-python",
   "name": "python",
   "nbconvert_exporter": "python",
   "pygments_lexer": "ipython3",
   "version": "3.10.9"
  }
 },
 "nbformat": 4,
 "nbformat_minor": 2
}
