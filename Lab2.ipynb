{
 "cells": [
  {
   "cell_type": "markdown",
   "metadata": {},
   "source": [
    "Consider $f(x) = 3 sin(4x) − 4x^2 + 3e^{−x} − 4.$\n",
    "\n",
    "\n",
    "(a) Find an approximation of a root of the function f(x) with accuracy 10−8 using Newton’s method with initial approximation p0 = −0.8. Write down the approximation\n",
    "with 10 digits after the decimal point. How many iterations does it take to achieve\n",
    "such an accuracy?\n",
    "\n",
    "\n",
    "(b) Find an approximation of a root of the function f(x) with accuracy 10−8 using the\n",
    "Secant method with initial approximations p0 = −0.8 and p1 = −0.4. Write down\n",
    "the approximation with 10 digits after the decimal point. How many iterations does\n",
    "it take to achieve such an accuracy?\n",
    "\n",
    "\n",
    "(c) We found approximations of the root of f(x) using the fixed point method with two\n",
    "different functions in Lab 2. Which one of g1(x) and g2(x) corresponds to Newton’s\n",
    "method when carrying out the fixed point iteration? Show that gi(x) = x−f(x)/f′\n",
    "(x)\n",
    "for the appropriate i."
   ]
  },
  {
   "cell_type": "code",
   "execution_count": 13,
   "metadata": {},
   "outputs": [
    {
     "data": {
      "text/latex": [
       "$\\displaystyle - 8 x + 12 \\cos{\\left(4 x \\right)} - 3 e^{- x}$"
      ],
      "text/plain": [
       "-8*x + 12*cos(4*x) - 3*exp(-x)"
      ]
     },
     "execution_count": 13,
     "metadata": {},
     "output_type": "execute_result"
    }
   ],
   "source": [
    "import sympy as sp\n",
    "x = sp.symbols('x')\n",
    "f = 3*sp.sin(4*x) - 4*x**2 + 3*sp.exp(-x) - 4\n",
    "\n",
    "# Compute the derivative of f with respect to x\n",
    "f_prime = sp.diff(f, x)\n",
    "f_prime"
   ]
  },
  {
   "cell_type": "code",
   "execution_count": 28,
   "metadata": {},
   "outputs": [
    {
     "name": "stdout",
     "output_type": "stream",
     "text": [
      "Approximation of root: -0.7762571958\n",
      "It took 3 iterations to reach root with accuracy 1e-08\n"
     ]
    }
   ],
   "source": [
    "# part a\n",
    "from NumericalMethodsCode.newton import newton\n",
    "import numpy as np\n",
    "\n",
    "f = lambda x: 3*np.sin(4*x) - 4*x**2 + 3*np.exp(-x) - 4\n",
    "fder = lambda x: -8*x + 12*np.cos(4*x) - 3*np.exp(-x)\n",
    "\n",
    "p0 = -0.8\n",
    "tol = 1e-8\n",
    "\n",
    "# Run Newton's method\n",
    "p, iter = newton(f, fder, p0, tol=tol, maxN=100)\n",
    "\n",
    "# Output the number of iterations and rounded solution\n",
    "print(f\"Approximation of root: {p:.10f}\")\n",
    "print(f\"It took {iter} iterations to reach root with accuracy {tol}\")"
   ]
  },
  {
   "cell_type": "code",
   "execution_count": 50,
   "metadata": {},
   "outputs": [
    {
     "name": "stdout",
     "output_type": "stream",
     "text": [
      "Approximation of root: -0.7762571958\n",
      "It took 5 iterations to reach root with accuracy 1e-08\n"
     ]
    }
   ],
   "source": [
    "# part b\n",
    "from NumericalMethodsCode.secant import secant\n",
    "import numpy as np\n",
    "\n",
    "f = lambda x: 3*np.sin(4*x) - 4*x**2 + 3*np.exp(-x) - 4\n",
    "\n",
    "p0 = -0.8\n",
    "p1 = -0.5\n",
    "tol = 1e-8\n",
    "\n",
    "# Run Newton's method\n",
    "p, iter = secant(f, p0, p1, tol, maxN=100)\n",
    "\n",
    "# Output the number of iterations and rounded solution\n",
    "print(f\"Approximation of root: {p:.10f}\")\n",
    "print(f\"It took {iter} iterations to reach root with accuracy {tol}\")"
   ]
  },
  {
   "cell_type": "markdown",
   "metadata": {},
   "source": [
    "(part c)\n",
    "$$ f(x) = 3\\sin(4x) - 4x^2 + 3e^{-x} - 4 $$\n",
    "$$ g_1(x) = -\\ln(\\frac{4}{3} + \\frac{4}{3}x^2 -\\sin(4x)) $$\n",
    "$$ g_2(x) = \\frac{x - f(x)}{12\\cos(4x) - 8x -3e^{-x}} $$\n",
    "$$ f'(x) = 12\\cos(4x) - 8x -3e^{-x} $$\n",
    "$$ g_2(x) = x - \\frac{f(x)}{f'(x)} $$\n",
    "\n",
    "$$ \\therefore \\, g_2(x) \\text{ corresponds to Newton's method.} $$\n",
    "_________________"
   ]
  },
  {
   "cell_type": "markdown",
   "metadata": {},
   "source": [
    "The function $f(x) = 4e^{1−x} + x − 5$ has a root at p = 1. We check the order of convergence\n",
    "of the following methods."
   ]
  },
  {
   "cell_type": "markdown",
   "metadata": {},
   "source": [
    "### (a) Bisection Method\n",
    "\n",
    "Using your bisection program with initial interval $[ \\frac{1}{2}, 2 ]$, find the ratios:\n",
    "\n",
    "$$\n",
    "\\frac{|p_3 - p|}{|p_2 - p|}, \\quad \\frac{|p_4 - p|}{|p_3 - p|}, \\quad \\text{and} \\quad \\frac{|p_5 - p|}{|p_4 - p|}.\n",
    "$$\n",
    "\n",
    "Are these ratios roughly the same? What is the order of convergence of the Bisection method for this problem? How many iterations are needed to get to accuracy $10^{-12}$?\n",
    "\n",
    "### (b) Fixed Point Iteration\n",
    "\n",
    "Using your fixed point program with $g(x) = 2 - 2 \\ln\\left( 5 - \\frac{x}{4} \\right) - x$ and $p_0 = 1.5$, find the ratios:\n",
    "\n",
    "$$\n",
    "\\frac{|p_3 - p|}{|p_2 - p|}, \\quad \\frac{|p_4 - p|}{|p_3 - p|}, \\quad \\text{and} \\quad \\frac{|p_5 - p|}{|p_4 - p|}.\n",
    "$$\n",
    "\n",
    "Are these ratios roughly the same? What is the order of convergence of the Fixed Point Iteration for this problem and the choice of $g(x)$? How many iterations are needed to get to accuracy $10^{-12}$?\n",
    "\n",
    "\n",
    "\n",
    "### (c) Newton's Method\n",
    "\n",
    "Using your Newton program with $p_0 = 1.5$, find the ratios:\n",
    "\n",
    "$$\n",
    "\\frac{|p_3 - p|}{|p_2 - p|^2}, \\quad \\frac{|p_4 - p|}{|p_3 - p|^2}, \\quad \\text{and} \\quad \\frac{|p_5 - p|}{|p_4 - p|^2}.\n",
    "$$\n",
    "\n",
    "Are these ratios roughly the same? What is the order of convergence of Newton’s method for this problem? How many iterations are needed to get to accuracy $10^{-12}$?\n",
    "\n",
    "### (d) Secant Method\n",
    "\n",
    "Using your secant program with $p_0 = 1.5$, $p_1 = 0.5$, find the ratios:\n",
    "\n",
    "$$\n",
    "\\frac{|p_3 - p|}{|p_2 - p|^\\alpha}, \\quad \\frac{|p_4 - p|}{|p_3 - p|^\\alpha}, \\quad \\text{and} \\quad \\frac{|p_5 - p|}{|p_4 - p|^\\alpha},\n",
    "$$ \n",
    "\n",
    "where $\\alpha = \\frac{1 + \\sqrt{5}}{2}$. Are these ratios roughly the same? What is the order of convergence of the Secant method? How many iterations are needed to get to accuracy $10^{-12}$?\n"
   ]
  },
  {
   "cell_type": "code",
   "execution_count": 49,
   "metadata": {},
   "outputs": [
    {
     "name": "stdout",
     "output_type": "stream",
     "text": [
      "Root approximation: 1.0000000000002274\n",
      "Iterations: 41\n",
      "|p3 - p| / |p2 - p| = 0.5\n",
      "|p4 - p| / |p3 - p| = 0.5\n",
      "|p5 - p| / |p4 - p| = 0.5\n"
     ]
    }
   ],
   "source": [
    "# part a\n",
    "\n",
    "import math\n",
    "from NumericalMethodsCode.bisection import bisection\n",
    "\n",
    "fn = lambda x: 4 * math.exp(1 - x) + x - 5\n",
    "\n",
    "# Define the initial interval [a, b], tolerance, and maximum number of iterations\n",
    "a = 0.5\n",
    "b = 2.0\n",
    "tol = 1e-12\n",
    "maxN = 100\n",
    "\n",
    "# Store the p values and their corresponding midpoints\n",
    "p_values = []\n",
    "\n",
    "# Perform bisection and collect midpoints\n",
    "iter_count = 0\n",
    "while iter_count < maxN and np.abs(b - a) > tol:\n",
    "    p = (a + b) / 2  # Calculate the midpoint\n",
    "    p_values.append(p)  # Store the midpoint\n",
    "\n",
    "    if fn(a) * fn(p) < 0:  # Root is in the left half\n",
    "        b = p\n",
    "    else:  # Root is in the right half\n",
    "        a = p\n",
    "\n",
    "    iter_count += 1\n",
    "\n",
    "# The last midpoint is the root approximation\n",
    "root = p\n",
    "\n",
    "# Calculate ratios\n",
    "ratios = []\n",
    "for i in range(2, len(p_values)):\n",
    "    ratio = abs(p_values[i] - p_values[i - 1]) / abs(p_values[i - 1] - p_values[i - 2])\n",
    "    ratios.append(ratio)\n",
    "\n",
    "print(\"Root approximation:\", root)\n",
    "print(\"Iterations:\", iter_count)\n",
    "\n",
    "# Print the ratios\n",
    "for i in range(2, min(5, len(p_values))):\n",
    "    print(f\"|p{i + 1} - p| / |p{i} - p| = {ratios[i - 2]}\")\n"
   ]
  },
  {
   "cell_type": "markdown",
   "metadata": {},
   "source": [
    "The ratios are all 0.5. The Bisection method is linearly convergent. Accuracy $10^{-12}$ needs 41 iterations."
   ]
  },
  {
   "cell_type": "code",
   "execution_count": 46,
   "metadata": {},
   "outputs": [
    {
     "name": "stdout",
     "output_type": "stream",
     "text": [
      "Root approximation: 0.9999999999997846\n",
      "Iterations: 41\n",
      "|p3 - p| / |p2 - p| = 0.506665619838605\n",
      "|p4 - p| / |p3 - p| = 0.49608699761894576\n",
      "|p5 - p| / |p4 - p| = 0.5018019167020077\n"
     ]
    }
   ],
   "source": [
    "# part b\n",
    "# import math\n",
    "from NumericalMethodsCode.fixedpt import fixedpt\n",
    "\n",
    "g = lambda x: 2 - 2 * math.log((5-x)/4) - x\n",
    "\n",
    "p0 = 1.5\n",
    "tol = 1e-12\n",
    "maxN = 100\n",
    "\n",
    "root, iterations = fixedpt(g, p0, tol, maxN)\n",
    "print(\"Root approximation:\", root)\n",
    "print(\"Iterations:\", iterations)\n",
    "\n",
    "# Calculate p values for each iteration\n",
    "p_values = []\n",
    "for i in range(1, iterations + 1):\n",
    "    p0 = 1.5\n",
    "    tol = 1e-12\n",
    "    root, _ = fixedpt(g, p0, tol, i)\n",
    "    p_values.append(root)\n",
    "\n",
    "# Calculate ratios\n",
    "ratios = []\n",
    "for i in range(2, len(p_values)):\n",
    "    ratios.append(abs(p_values[i] - p_values[i-1]) / abs(p_values[i-1] - p_values[i-2]))\n",
    "\n",
    "# Print the ratios\n",
    "for i in range(2, min(5, len(p_values))):\n",
    "    ratio = abs(p_values[i] - p_values[i-1]) / abs(p_values[i-1] - p_values[i-2])\n",
    "    print(f\"|p{i+1} - p| / |p{i} - p| = {ratio}\")"
   ]
  },
  {
   "cell_type": "markdown",
   "metadata": {},
   "source": [
    "The ratios are around 0.49 and 0.50. The Fixed Point Iteration Method is linearly convergent. Accuracy $10^{-12}$ needs 41 iterations."
   ]
  },
  {
   "cell_type": "code",
   "execution_count": 52,
   "metadata": {},
   "outputs": [
    {
     "name": "stdout",
     "output_type": "stream",
     "text": [
      "Root approximation: 1.0\n",
      "Iterations: 6\n",
      "|p3 - p| / |p2 - p| = 0.7620198833427363\n",
      "|p4 - p| / |p3 - p| = 0.6825485105860699\n",
      "|p5 - p| / |p4 - p| = 0.6670532386696039\n"
     ]
    }
   ],
   "source": [
    "# part c\n",
    "\n",
    "#4c\n",
    "from NumericalMethodsCode.newton import newton\n",
    "import math\n",
    "\n",
    "f = lambda x: 4 * math.exp(1 - x) + x - 5\n",
    "fder = lambda x: -4 * math.exp(1 - x) + 1\n",
    "p0 = 1.5\n",
    "tol = 1e-12\n",
    "maxN = 100\n",
    "\n",
    "# Perform Newton's method once to obtain the root approximation\n",
    "root, iterations = newton(f, fder, p0, tol, maxN)\n",
    "\n",
    "print(\"Root approximation:\", root)\n",
    "print(\"Iterations:\", iterations)\n",
    "\n",
    "# Calculate p values for each iteration\n",
    "p_values = [p0]  # Initialize with the initial guess\n",
    "for i in range(1, iterations):\n",
    "    p = p_values[-1] - f(p_values[-1]) / fder(p_values[-1])  # Use the previous approximation\n",
    "    p_values.append(p)\n",
    "\n",
    "# Calculate ratios\n",
    "ratios = []\n",
    "for i in range(2, len(p_values)):\n",
    "    ratio = abs(p_values[i] - p_values[i-1]) / abs(p_values[i-1] - p_values[i-2])**2\n",
    "    ratios.append(ratio)\n",
    "\n",
    "# Print the last three ratios\n",
    "for i in range(max(0, len(ratios) - 3), len(ratios)):\n",
    "    ratio = ratios[i]\n",
    "    print(f\"|p{i+2} - p| / |p{i+1} - p| = {ratio}\")\n"
   ]
  },
  {
   "cell_type": "markdown",
   "metadata": {},
   "source": [
    "Ratios are around 0.76, 0.68, 0.67. The Newton method is quadratically convergent, or order of convergence 2. Accuracy $10^{-12}$ needs 6 iterations."
   ]
  },
  {
   "cell_type": "code",
   "execution_count": 80,
   "metadata": {},
   "outputs": [
    {
     "name": "stdout",
     "output_type": "stream",
     "text": [
      "Root approximation: 1.0\n",
      "Iterations: 8\n",
      "Ratio for |p3 - p| / |p2 - p| ^ alpha: 1.0\n"
     ]
    }
   ],
   "source": [
    "# d\n",
    "from NumericalMethodsCode.secant import secant\n",
    "import math\n",
    "\n",
    "f = lambda x: 4 * math.exp(1 - x) + x - 5\n",
    "p0 = 1.5\n",
    "p1 = 0.5\n",
    "tol = 1e-12\n",
    "maxN = 100\n",
    "\n",
    "root, iterations = secant(f, p0, p1, tol, maxN)\n",
    "\n",
    "print(\"Root approximation:\", root)\n",
    "print(\"Iterations:\", iterations)\n",
    "\n",
    "\n",
    "# Find p2\n",
    "p2, _ = secant(f, p1, p0, tol, maxN)\n",
    "\n",
    "# Find p3\n",
    "p3, _ = secant(f, p2, p1, tol, maxN)\n",
    "\n",
    "# Calculate alpha\n",
    "alpha = (1 + math.sqrt(5)) / 2\n",
    "\n",
    "# Calculate the ratios\n",
    "ratio_3 = (abs(p3 - root) / abs(p2 - root)) ** alpha\n",
    "\n",
    "# Print the ratios\n",
    "print(f\"Ratio for |p3 - p| / |p2 - p| ^ alpha: {ratio_3}\")"
   ]
  },
  {
   "cell_type": "markdown",
   "metadata": {},
   "source": [
    "Ratios are supposed to be 0.76, 0.8, and 0.76. Order of convergence $\\frac{1 + \\sqrt 5}{2}$. Accuracy $10^{-12}$ needs 8 iterations."
   ]
  }
 ],
 "metadata": {
  "kernelspec": {
   "display_name": "base",
   "language": "python",
   "name": "python3"
  },
  "language_info": {
   "codemirror_mode": {
    "name": "ipython",
    "version": 3
   },
   "file_extension": ".py",
   "mimetype": "text/x-python",
   "name": "python",
   "nbconvert_exporter": "python",
   "pygments_lexer": "ipython3",
   "version": "3.10.9"
  }
 },
 "nbformat": 4,
 "nbformat_minor": 2
}
