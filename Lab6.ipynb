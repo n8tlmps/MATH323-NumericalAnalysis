{
 "cells": [
  {
   "cell_type": "markdown",
   "metadata": {},
   "source": [
    "# Lab 6: Natural Spline Interpolation"
   ]
  },
  {
   "cell_type": "markdown",
   "metadata": {},
   "source": [
    "### Given the data\n",
    "\n",
    "$$\n",
    "\\begin{array}{|c|c|c|c|c|c|}\n",
    "\\hline\n",
    "x & -1 & -0.5 & 0 & 0.5 & 1 \\\\\n",
    "\\hline\n",
    "f(x) & -9 & -1.625 & 8 & 10.625 & 17 \\\\\n",
    "\\hline\n",
    "\\end{array}\n",
    "$$\n",
    "\n",
    "The data were obtained from the function $ f(x) = -10|x| + (x + 2)^3 $.\n",
    "\n",
    "(a) Use your Python function `newtonDivDiff` to find the coefficients of the Lagrange interpolating polynomial in the form of eq. (3.10) in the textbook. Write down the interpolating polynomial. Call this interpolating polynomial $ P_L(x) $.\n",
    "\n",
    "(b) Use your Python function `naturalSpline` to find the coefficients of the natural cubic spline in the interval $[-1, 0]$ (using data at $ x = -1, -0.5, 0 $). Write down the natural spline in $[-1, 0]$. Call this spline $ ns_1(x) $.\n",
    "\n",
    "(c) Use your Python function `naturalSpline` to find the coefficients of the natural cubic spline in the interval $[0, 1]$ (using data at $ x = 0, 0.5, 1 $). Write down the natural spline in $[0, 1]$. Call this spline $ ns_2(x) $.\n",
    "\n",
    "(d) `import numpy as np`. On the same figure, plot\n",
    "- the function $ f(x) = -10|x| + (x + 2)^3 $ in the interval $[-1.3, 1.3]$ using `xp = np.linspace(-1.3, 1.3, 261)` with a blue solid line,\n",
    "- the Lagrange interpolating polynomial $P_L(x)$ you found in (a) in the same interval using `xp = np.linspace(-1.3, 1.3, 261)` with green line,\n",
    "- the natural spline $ns_1(x)$ you found in (b) in the interval [−1.3, 0] using `xp = np.linspace(-1.3, 0, 131)` with red line, and\n",
    "- the natural spline ns2(x) you found in (c) in the interval [0, 1.3] using `xp = np.linspace(0, 1.3, 131)` with red line.\n",
    "\n",
    "You may use the given function `naturalSplineInterp` to find approximations of natural splines $ns_1(x)$ and $ns_2(x)$. Provide a legend to indicate which curve represents which\n",
    "function. "
   ]
  },
  {
   "cell_type": "code",
   "execution_count": 3,
   "metadata": {},
   "outputs": [
    {
     "name": "stdout",
     "output_type": "stream",
     "text": [
      "FDcoeff = [ -9.          14.75         4.5        -12.33333333  13.33333333]\n",
      "x = [-1, -0.5, 0, 0.5, 1]\n"
     ]
    }
   ],
   "source": [
    "# a\n",
    "xx = [-1, -0.5, 0, 0.5, 1]\n",
    "ff = [-9, -1.625, 8, 10.625, 17]\n",
    "from NumericalMethodsCode.newtonDivDiff import newtonDivDiff\n",
    "FDCoef1, BDCoef1 = newtonDivDiff(xx, ff)\n",
    "print('FDcoeff =', FDCoef1)\n",
    "print('x =', xx)"
   ]
  },
  {
   "cell_type": "markdown",
   "metadata": {},
   "source": [
    "$$P_L(x) = -9 + 14.75(x + 1) + 4.5(x + 1)(x + 0.5) - 12.3333(x + 1)(x + 0.5)x + 13.3333(x + 1)(x + 0.5)x(x - 0.5)$$"
   ]
  },
  {
   "cell_type": "code",
   "execution_count": 4,
   "metadata": {},
   "outputs": [
    {
     "name": "stdout",
     "output_type": "stream",
     "text": [
      "a = [-9, -1.625]\n",
      "b = [13.625 17.   ]\n",
      "c = [0.   6.75]\n",
      "d = [ 4.5 -4.5]\n"
     ]
    }
   ],
   "source": [
    "# b\n",
    "from NumericalMethodsCode.naturalSpline import naturalSpline\n",
    "xx1 = [-1, -0.5, 0]\n",
    "ff1 = [-9, -1.625, 8]\n",
    "a,b,c,d = naturalSpline(xx1, ff1)\n",
    "print('a =', a)\n",
    "print('b =', b)\n",
    "print('c =', c)\n",
    "print('d =', d)"
   ]
  },
  {
   "cell_type": "markdown",
   "metadata": {},
   "source": [
    "$$ns_1(x) = \n",
    "\\begin{cases} \n",
    "-9 + 13.625(x + 1) + 0(x + 1)^2 + 4.5(x + 1)^3 & \\text{for } x \\in [-1, -0.5] \\\\ \n",
    "-1.625 + 17(x + 0.5) + 6.75(x + 0.5)^2 - 4.5(x + 0.5)^3 & \\text{for } x \\in [-0.5, 0] \n",
    "\\end{cases}\n",
    "$$"
   ]
  },
  {
   "cell_type": "code",
   "execution_count": 6,
   "metadata": {},
   "outputs": [
    {
     "name": "stdout",
     "output_type": "stream",
     "text": [
      "a = [8, 10.625]\n",
      "b = [3.375 9.   ]\n",
      "c = [ 0.   11.25]\n",
      "d = [ 7.5 -7.5]\n"
     ]
    }
   ],
   "source": [
    "# c\n",
    "xx2 = [0, 0.5, 1]\n",
    "ff2 = [8, 10.625, 17]\n",
    "a,b,c,d = naturalSpline(xx2, ff2)\n",
    "print('a =', a)\n",
    "print('b =', b)\n",
    "print('c =', c)\n",
    "print('d =', d)"
   ]
  },
  {
   "cell_type": "markdown",
   "metadata": {},
   "source": [
    "$$ns_2(x) = \n",
    "\\begin{cases} \n",
    "8 + 3.375(x) + 0(x)^2 + 7.5(x)^3 & \\text{for } x \\in [0, 0.5] \\\\ \n",
    "10.625 + 9(x - 0.5) + 11.25(x - 0.5)^2 - 7.5(x - 0.5)^3 & \\text{for } x \\in [0.5, 1] \n",
    "\\end{cases}\n",
    "$$"
   ]
  },
  {
   "cell_type": "code",
   "execution_count": 13,
   "metadata": {},
   "outputs": [
    {
     "data": {
      "image/png": "[encoded data removed]",
      "text/plain": [
       "<Figure size 432x288 with 1 Axes>"
      ]
     },
     "metadata": {
      "needs_background": "light"
     },
     "output_type": "display_data"
    }
   ],
   "source": [
    "# d)\n",
    "import numpy as np\n",
    "import matplotlib.pyplot as plt\n",
    "\n",
    "# Define intervals for plotting\n",
    "xp1 = np.linspace(-1.3, 1.3, 261)\n",
    "xp2 = np.linspace(-1.3, 0, 131)\n",
    "xp3 = np.linspace(0, 1.3, 131)\n",
    "\n",
    "# Define the true function\n",
    "f = lambda x: -10 * np.abs(x) + (x + 2)**3\n",
    "\n",
    "# Define the Lagrange interpolating polynomial P_L(x)\n",
    "pl = lambda x: -9 + 14.75 * (x + 1) + 4.5 * (x + 1) * (x + 0.5) - 12.3333 * (x + 1) * (x + 0.5) * x + 13.3333 * (x + 1) * (x + 0.5) * x * (x - 0.5)\n",
    "\n",
    "# Define the natural cubic spline ns_1(x) for interval [-1, 0]\n",
    "ns_1 = lambda x: np.piecewise(x, \n",
    "                              [(-1 <= x) & (x <= -0.5), (-0.5 < x) & (x <= 0)], \n",
    "                              [lambda x: -9 + 13.625 * (x + 1) + 0 * (x + 1)**2 + 4.5 * (x + 1)**3,\n",
    "                               lambda x: -1.625 + 17 * (x + 0.5) + 6.75 * (x + 0.5)**2 - 4.5 * (x + 0.5)**3])\n",
    "\n",
    "# Define the natural cubic spline ns_2(x) for interval [0, 1]\n",
    "ns_2 = lambda x: np.piecewise(x,\n",
    "                              [(0 <= x) & (x <= 0.5), (0.5 < x) & (x <= 1)],\n",
    "                              [lambda x: 8 + 3.375 * x + 0 * x**2 + 7.5 * x**3,\n",
    "                               lambda x: 10.625 + 9 * (x - 0.5) + 11.25 * (x - 0.5)**2 - 7.5 * (x - 0.5)**3])\n",
    "\n",
    "# Plotting\n",
    "plt.plot(xp1, f(xp1), color=\"blue\", label=\"True function values\")  # True function\n",
    "plt.plot(xp1, pl(xp1), color=\"green\", label=\"Lagrange interpolating polynomial\")  # Lagrange interpolating polynomial\n",
    "plt.plot(xp2, ns_1(xp2), color=\"red\", label=\"Natural Spline ns_1(x)\")  # Natural spline for interval [-1, 0]\n",
    "plt.plot(xp3, ns_2(xp3), color=\"purple\", label=\"Natural Spline ns_2(x)\")  # Natural spline for interval [0, 1]\n",
    "\n",
    "# Add legend and show plot\n",
    "plt.legend()\n",
    "plt.xlabel(\"x\")\n",
    "plt.ylabel(\"f(x)\")\n",
    "plt.title(\"Function, Lagrange Polynomial, and Natural Cubic Splines\")\n",
    "plt.grid(True)\n",
    "plt.show()\n"
   ]
  },
  {
   "cell_type": "markdown",
   "metadata": {},
   "source": [
    "Natural spline fits the function better in $[-1, 1]$. (Supposed to...) Fit in the whole interval, including outside of $[-1, 1]$. Fit near $x=0$."
   ]
  },
  {
   "cell_type": "markdown",
   "metadata": {},
   "source": [
    "### Let $f(x) = e^x cos x$.\n",
    "\n",
    "### (a) \n",
    "Use the forward-difference formula eq. (4.1), the three-point formula eq. (4.5), and\n",
    "the five-point formula eq. (4.6) in the textbook to approximate $f′(0)$ to 10 digits after\n",
    "the decimal point with h = 0.1.\n",
    "### (b) \n",
    "Find the absolute errors of the three approximations in (a) with respect to the exact\n",
    "value of $f′(0)$.\n",
    "### (c)\n",
    "Use the three-point formula eq. (4.5) to approximate $f′(0)$. Find the absolute errors\n",
    "of the approximations when h = $10^{−1}, 10^{−2}, 10^{−3}, . . . , 10^{−10}$. Do the errors decrease\n",
    "when h decreases? Explain the reason."
   ]
  },
  {
   "cell_type": "markdown",
   "metadata": {},
   "source": [
    "(a)\n",
    "1. Forward-Difference Formula:\n",
    "$f'(x) \\approx \\frac{f(x+h) - f(x)}{h}$\n",
    "\n",
    "2. Three-Point Formula:\n",
    "$f'(x) \\approx \\frac{f(x+h) - f(x-h)}{2h}$\n",
    "\n",
    "3. Five-Point Formula\n",
    "$f(x) \\approx \\frac{-f(x+2h) + 8f(x+h) - 8f(x-h) + f(x-2h)}{12h}$"
   ]
  },
  {
   "cell_type": "code",
   "execution_count": 15,
   "metadata": {},
   "outputs": [
    {
     "name": "stdout",
     "output_type": "stream",
     "text": [
      "Forward-Difference: 0.9964966683\n",
      "Three-Point Formula: 0.9966633349\n",
      "Five-Point Formula: 1.0000133016\n"
     ]
    }
   ],
   "source": [
    "import numpy as np\n",
    "\n",
    "# Define the function\n",
    "f = lambda x: np.exp(x) * np.cos(x)\n",
    "\n",
    "# Step size and inital point\n",
    "x0 = 0\n",
    "h = 0.1\n",
    "\n",
    "# Forward-Difference approximation\n",
    "forward_diff = (f(x0 + h) - f(x0)) / h\n",
    "\n",
    "# Three-Point Formula approximation\n",
    "three_point = (f(x0 + h) - f(x0 - h)) / (2 * h)\n",
    "\n",
    "# Five-Point Formula approximation\n",
    "five_point = (-f(x0 + 2*h) + 8*f(x0 + h) - 8*f(x0 - h) + f(x0 - 2*h)) / (12 * h)\n",
    "\n",
    "# Display results\n",
    "print(f\"Forward-Difference: {forward_diff:.10f}\")\n",
    "print(f\"Three-Point Formula: {three_point:.10f}\")\n",
    "print(f\"Five-Point Formula: {five_point:.10f}\")\n"
   ]
  },
  {
   "cell_type": "markdown",
   "metadata": {},
   "source": [
    "(b)\n",
    "The exact derivative of $f(x)$ is $f'(x) = e^x(\\cos(x) - \\sin(x))$. So $f'(0) = e^0(\\cos(0) - \\sin(0)) = 1$."
   ]
  },
  {
   "cell_type": "code",
   "execution_count": 16,
   "metadata": {},
   "outputs": [
    {
     "name": "stdout",
     "output_type": "stream",
     "text": [
      "Error (Forward-Difference): 3.5033317059e-03\n",
      "Error (Three-Point Formula): 3.3366650789e-03\n",
      "Error (Five-Point Formula): 1.3301550293e-05\n"
     ]
    }
   ],
   "source": [
    "# Exact derivative at x = 0\n",
    "exact_derivative = 1.0\n",
    "\n",
    "# Calculate absolute errors\n",
    "error_forward = abs(forward_diff - exact_derivative)\n",
    "error_three_point = abs(three_point - exact_derivative)\n",
    "error_five_point = abs(five_point - exact_derivative)\n",
    "\n",
    "# Display errors\n",
    "print(f\"Error (Forward-Difference): {error_forward:.10e}\")\n",
    "print(f\"Error (Three-Point Formula): {error_three_point:.10e}\")\n",
    "print(f\"Error (Five-Point Formula): {error_five_point:.10e}\")\n"
   ]
  },
  {
   "cell_type": "code",
   "execution_count": 17,
   "metadata": {},
   "outputs": [
    {
     "name": "stdout",
     "output_type": "stream",
     "text": [
      "h = 1.0e-01, Approximation = 0.9966633349, Error = 3.3366650789e-03\n",
      "h = 1.0e-02, Approximation = 0.9999666663, Error = 3.3333666676e-05\n",
      "h = 1.0e-03, Approximation = 0.9999996667, Error = 3.3333336003e-07\n",
      "h = 1.0e-04, Approximation = 0.9999999967, Error = 3.3329996540e-09\n",
      "h = 1.0e-05, Approximation = 1.0000000000, Error = 3.7857827984e-11\n",
      "h = 1.0e-06, Approximation = 1.0000000000, Error = 2.6755486715e-11\n",
      "h = 1.0e-07, Approximation = 0.9999999989, Error = 1.0814673601e-09\n",
      "h = 1.0e-08, Approximation = 0.9999999995, Error = 5.2635584780e-10\n",
      "h = 1.0e-09, Approximation = 1.0000000272, Error = 2.7229219768e-08\n",
      "h = 1.0e-10, Approximation = 1.0000000827, Error = 8.2740370999e-08\n"
     ]
    }
   ],
   "source": [
    "# c\n",
    "# Define a range of h values: 10^-1, 10^-2, ..., 10^-10\n",
    "h_values = [10**(-i) for i in range(1, 11)]\n",
    "\n",
    "# List to store errors\n",
    "errors = []\n",
    "\n",
    "# Calculate derivative approximation and errors for each h\n",
    "for h in h_values:\n",
    "    approx = (f(0 + h) - f(0 - h)) / (2 * h)\n",
    "    error = abs(approx - exact_derivative)\n",
    "    errors.append(error)\n",
    "    print(f\"h = {h:.1e}, Approximation = {approx:.10f}, Error = {error:.10e}\")\n"
   ]
  },
  {
   "cell_type": "markdown",
   "metadata": {},
   "source": [
    "Errors do not necessarily decrease as $h$ decreases. THe influence of the round-off error increases when $h$ decreases."
   ]
  }
 ],
 "metadata": {
  "kernelspec": {
   "display_name": "base",
   "language": "python",
   "name": "python3"
  },
  "language_info": {
   "codemirror_mode": {
    "name": "ipython",
    "version": 3
   },
   "file_extension": ".py",
   "mimetype": "text/x-python",
   "name": "python",
   "nbconvert_exporter": "python",
   "pygments_lexer": "ipython3",
   "version": "3.10.9"
  }
 },
 "nbformat": 4,
 "nbformat_minor": 2
}
